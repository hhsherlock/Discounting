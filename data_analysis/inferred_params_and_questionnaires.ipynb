{
 "cells": [
  {
   "cell_type": "code",
   "execution_count": 11,
   "metadata": {},
   "outputs": [
    {
     "name": "stdout",
     "output_type": "stream",
     "text": [
      "['', 'trial', 'val_basic', 'delay', 'val_prc', 'response', 'RT', 'respSide', 'sideNOW', 'Version', 'loopID', 'Context']\n",
      "['', 'trial', 'val_basic', 'delay', 'val_prc', 'response', 'RT', 'respSide', 'sideNOW', 'subID', 'Version', 'Trial', 'loopID', 'Context', 'GRCS', 'SEV']\n",
      "['', 'X', 'subject_id', 'sex', 'cig_day', 'age', 'height', 'weight', 'schoolyears', 'income', 'moneyEGM_spielhallegaststaette', 'moneyEGM_spielcasino', 'AUDIT', 'BDI', 'DSM', 'EHI_score', 'FTND', 'SCL90_soma', 'SCL90_zwang', 'SCL90_unsichersozial', 'SCL90_depress', 'SCL90_aengstlichkeit', 'SCL90_agress', 'SCL90_phob', 'SCL90_para', 'SCL90_psychotizismus', 'SCL90_zusatz', 'SCL90_GSI', 'STAIT', 'BIS_motor', 'BIS_nonplanning', 'BIS_attention', 'BIS_Gesamtwert', 'BB_BIS_GS', 'BB_BAS_GS', 'BB_BAS_D', 'BB_BAS_FS', 'BB_BAS_RP', 'TIPI_ex', 'TIPI_ag', 'TIPI_con', 'TIPI_es', 'TIPI_oe', 'TCI_NS1', 'TCI_NS2', 'TCI_NS3', 'TCI_NS4', 'TCI_total', 'PTTS', 'NPRS_pos', 'NPRS_neg', 'ZTPI_pastNegative', 'ZTPI_presentHedonistic', 'ZTPI_future', 'ZTPI_pastPositive', 'ZTPI_presentFatalistic', 'GBQ', 'GRCS_1_GE', 'GRCS_2_IC', 'GRCS_3_PC', 'GRCS_4_IS', 'GRCS_5_IB', 'GRCS_total', 'KFG', 'SOGS', 'addiction_score', 'Gambling_games', 'Gambling_money']\n"
     ]
    }
   ],
   "source": [
    "#!/usr/bin/env python3\n",
    "# -*- coding: utf-8 -*-\n",
    "\"\"\"\n",
    "Created on Mon May 6 2024\n",
    "\n",
    "@author: Yaning\n",
    "Data from Ben\n",
    "Data file name: intertemporal_choice_dataset_all_trials.csv\n",
    "Questionnaire from Ben\n",
    "Questionnaire file name: discountdataset_allsubs_gamblingscores.csv\n",
    "\"\"\"\n",
    "\n",
    "# get the real percentage of the participants\n",
    "%run Documents/pyro_models/files_to_run/data_analysis_without_version.ipynb\n",
    "%run Documents/pyro_models/files_to_run/questionnaire_data_analysis.py\n",
    "\n",
    "import math\n",
    "import os\n",
    "# from turtle import position\n",
    "import torch\n",
    "import torch.distributions.constraints as constraints\n",
    "import pyro\n",
    "from pyro.optim import Adam\n",
    "from pyro.infer import SVI, Trace_ELBO, Predictive\n",
    "import pyro.distributions as dist\n",
    "from tqdm import tqdm\n",
    "import matplotlib.pyplot as plt\n",
    "from statistics import mean \n",
    "import pandas as pd\n",
    "import numpy as np\n",
    "import scipy.stats as stats \n",
    "import pickle\n",
    "from sklearn.decomposition import PCA\n",
    "from sklearn.preprocessing import StandardScaler"
   ]
  },
  {
   "cell_type": "code",
   "execution_count": 3,
   "metadata": {},
   "outputs": [],
   "source": [
    "# GRCS (gambling-related cognitive score)\n",
    "# SEV (gambling severity)\n",
    "gamble_cognitive = quest_data[:,1].astype(float)\n",
    "gamble_sev = quest_data[:,2].astype(float)"
   ]
  },
  {
   "cell_type": "code",
   "execution_count": 4,
   "metadata": {},
   "outputs": [
    {
     "data": {
      "text/plain": [
       "array([21.7     , 12.483333, 13.183333, 15.883333, 19.633333, 30.4     ,\n",
       "       15.466667, 19.5     , 21.95    , 11.2     , 17.      , 18.083333,\n",
       "       19.033333, 20.9     , 12.716667, 23.5     , 17.066667, 18.533333,\n",
       "       17.716667, 11.883333, 14.      , 18.      , 17.7     , 13.716667,\n",
       "       23.316667, 11.7     , 20.5     , 20.166667, 21.366667,  9.566667])"
      ]
     },
     "execution_count": 4,
     "metadata": {},
     "output_type": "execute_result"
    }
   ],
   "source": [
    "gamble_cognitive"
   ]
  },
  {
   "cell_type": "code",
   "execution_count": 34,
   "metadata": {},
   "outputs": [
    {
     "data": {
      "text/plain": [
       "0.3034422851888282"
      ]
     },
     "execution_count": 34,
     "metadata": {},
     "output_type": "execute_result"
    }
   ],
   "source": [
    "np.corrcoef(gamble_cognitive, gamble_sev)[0,1]"
   ]
  },
  {
   "cell_type": "code",
   "execution_count": 2,
   "metadata": {},
   "outputs": [],
   "source": [
    "# load inferred parameters\n",
    "with open('Documents/pyro_models/files_to_run/results/logistic_ohne_sigma_es_and_c.pkl', 'rb') as f:\n",
    "    pos_dict = pickle.load(f)"
   ]
  },
  {
   "cell_type": "code",
   "execution_count": 3,
   "metadata": {},
   "outputs": [],
   "source": [
    "pos_params = pos_dict['m_locs']"
   ]
  },
  {
   "cell_type": "code",
   "execution_count": 4,
   "metadata": {},
   "outputs": [],
   "source": [
    "pos_mean_u = pos_params[:,0]\n",
    "pos_sigma_u = np.exp(pos_params[:,1])\n",
    "# pos_sigma_es = np.exp(pos_params[:,2])\n",
    "pos_a = np.exp(pos_params[:,2])\n",
    "pos_b =np.exp(pos_params[:,3])\n",
    "# pos_c =np.exp(pos_params[:,5])\n",
    "pos_beta = np.exp(pos_params[:,4])"
   ]
  },
  {
   "cell_type": "code",
   "execution_count": 5,
   "metadata": {},
   "outputs": [],
   "source": [
    "pos_mean_u_cafe = pos_mean_u[:30]\n",
    "pos_mean_u_gamble = pos_mean_u[30:]\n",
    "pos_sigma_u_cafe = pos_sigma_u[:30]\n",
    "pos_sigma_u_gamble = pos_sigma_u[30:]\n",
    "# pos_sigma_es_cafe = pos_sigma_es[:30]\n",
    "# pos_sigma_es_gamble = pos_sigma_es[30:]\n",
    "pos_a_cafe = pos_a[:30]\n",
    "pos_a_gamble = pos_a[30:]\n",
    "pos_b_cafe = pos_b[:30]\n",
    "pos_b_gamble = pos_b[30:]\n",
    "pos_beta_cafe = pos_beta[:30]\n",
    "pos_beta_gamble = pos_beta[30:]"
   ]
  },
  {
   "cell_type": "code",
   "execution_count": 44,
   "metadata": {},
   "outputs": [],
   "source": [
    "inferred_list = [pos_mean_u_cafe,\n",
    "                 pos_mean_u_gamble,\n",
    "                 pos_sigma_u_cafe,\n",
    "                 pos_sigma_u_gamble,\n",
    "                #  pos_sigma_es_cafe,\n",
    "                #  pos_sigma_es_gamble,\n",
    "                 pos_a_cafe,\n",
    "                 pos_a_gamble,\n",
    "                 pos_b_cafe,\n",
    "                 pos_b_gamble,\n",
    "                 pos_beta_cafe,\n",
    "                 pos_beta_gamble]\n",
    "\n",
    "inferred_list = np.array(inferred_list)"
   ]
  },
  {
   "cell_type": "code",
   "execution_count": 7,
   "metadata": {},
   "outputs": [],
   "source": [
    "inferred_list_name = ['pos_mean_u_cafe',\n",
    "                      'pos_mean_u_gamble',\n",
    "                      'pos_sigma_u_cafe',\n",
    "                      'pos_sigma_u_gamble',\n",
    "                      'pos_a_cafe',\n",
    "                      'pos_a_gamble',\n",
    "                      'pos_b_cafe',\n",
    "                      'pos_b_gamble',\n",
    "                      'pos_beta_cafe',\n",
    "                      'pos_beta_gamble']\n",
    "\n",
    "inferred_list_name = np.array(inferred_list_name)"
   ]
  },
  {
   "cell_type": "code",
   "execution_count": 12,
   "metadata": {},
   "outputs": [],
   "source": [
    "questionnaire_list = [gamble_cognitive, gamble_sev]"
   ]
  },
  {
   "cell_type": "code",
   "execution_count": 40,
   "metadata": {},
   "outputs": [],
   "source": [
    "quest_data_ohne_id = quest_data[:, 1:]\n",
    "\n",
    "quest_data_header_ohne_id = quest_data_header[1:]"
   ]
  },
  {
   "cell_type": "code",
   "execution_count": 37,
   "metadata": {},
   "outputs": [],
   "source": [
    "correlate_list = []\n",
    "\n",
    "for i in range(quest_data_ohne_id.shape[1]):\n",
    "    for j in range(len(inferred_list)):\n",
    "        correlation_score = np.corrcoef(quest_data_ohne_id[:,i].astype('float'), inferred_list[j])[0,1]\n",
    "        if abs(correlation_score) > 0.5:\n",
    "            correlate_list.append([i,j,correlation_score])\n",
    "\n",
    "correlate_list = np.array(correlate_list)\n"
   ]
  },
  {
   "cell_type": "code",
   "execution_count": 39,
   "metadata": {},
   "outputs": [
    {
     "data": {
      "text/plain": [
       "array([[ 0.        ,  2.        ,  0.54460082],\n",
       "       [14.        ,  0.        , -0.53599517],\n",
       "       [14.        ,  2.        , -0.59787693],\n",
       "       [29.        ,  3.        , -0.55758363],\n",
       "       [33.        ,  0.        ,  0.53646566],\n",
       "       [33.        ,  9.        , -0.5459556 ],\n",
       "       [34.        ,  9.        , -0.50421799],\n",
       "       [36.        ,  0.        ,  0.50559526],\n",
       "       [57.        ,  2.        ,  0.5264918 ],\n",
       "       [61.        ,  2.        ,  0.54460082],\n",
       "       [66.        ,  4.        ,  0.61915751]])"
      ]
     },
     "execution_count": 39,
     "metadata": {},
     "output_type": "execute_result"
    }
   ],
   "source": [
    "correlate_list"
   ]
  },
  {
   "cell_type": "code",
   "execution_count": 45,
   "metadata": {},
   "outputs": [],
   "source": [
    "corr_quest_header = quest_data_header_ohne_id[correlate_list[:,0].astype(int)]\n",
    "corr_infer_header = inferred_list_name[correlate_list[:,1].astype(int)]\n",
    "corr_quest_data = quest_data_ohne_id[:,correlate_list[:,0].astype(int)]\n",
    "corr_infer_data = inferred_list[correlate_list[:,1].astype(int)]"
   ]
  },
  {
   "cell_type": "code",
   "execution_count": 56,
   "metadata": {},
   "outputs": [
    {
     "data": {
      "text/plain": [
       "(30, 67)"
      ]
     },
     "execution_count": 56,
     "metadata": {},
     "output_type": "execute_result"
    }
   ],
   "source": [
    "quest_data_ohne_id.shape"
   ]
  },
  {
   "cell_type": "code",
   "execution_count": 58,
   "metadata": {},
   "outputs": [
    {
     "data": {
      "text/plain": [
       "(11, 30)"
      ]
     },
     "execution_count": 58,
     "metadata": {},
     "output_type": "execute_result"
    }
   ],
   "source": [
    "corr_infer_data.shape"
   ]
  },
  {
   "cell_type": "code",
   "execution_count": 50,
   "metadata": {},
   "outputs": [
    {
     "name": "stdout",
     "output_type": "stream",
     "text": [
      "\t\n",
      "0.5446008177275701\n",
      "\t\n",
      "-0.5359951660646018\n",
      "\t\n",
      "-0.5978769274098762\n",
      "\t\n",
      "-0.5575836349330996\n",
      "\t\n",
      "0.5364656591949\n",
      "\t\n",
      "-0.5459556043293237\n",
      "\t\n",
      "-0.5042179929186872\n",
      "\t\n",
      "0.5055952601431339\n",
      "\t\n",
      "0.5264917957435136\n",
      "\t\n",
      "0.5446008204724595\n",
      "\t\n",
      "0.6191575122416136\n"
     ]
    }
   ],
   "source": [
    "for i in correlate_list[:,2]:\n",
    "    print('\\t')\n",
    "    print(i)"
   ]
  },
  {
   "cell_type": "markdown",
   "metadata": {},
   "source": [
    "Principle Component Analysis"
   ]
  },
  {
   "cell_type": "code",
   "execution_count": 79,
   "metadata": {},
   "outputs": [],
   "source": [
    "def pca(header, data):\n",
    "\n",
    "    dict_data = {}\n",
    "    for i in range(header.shape[0]):\n",
    "        dict_data[header[i]] = data[i]\n",
    "\n",
    "    data = pd.DataFrame(dict_data)\n",
    "    # print(data)\n",
    "    # Standardize the data\n",
    "    scaler = StandardScaler()\n",
    "    scaled_data = scaler.fit_transform(data)\n",
    "\n",
    "    # Perform PCA\n",
    "    pca = PCA(n_components=2)  # Choose the number of components\n",
    "    pca.fit(scaled_data)\n",
    "\n",
    "    # Get the principal components\n",
    "    principal_components = pca.transform(scaled_data)\n",
    "\n",
    "    # Explained variance\n",
    "    explained_variance = pca.explained_variance_ratio_\n",
    "    print('Explained variance by each component:', explained_variance)\n",
    "\n",
    "    # Create a DataFrame with principal components\n",
    "    principal_df = pd.DataFrame(data=principal_components, columns=['PC1', 'PC2'])\n",
    "    print(principal_df)\n",
    "\n",
    "    # Get the loadings (eigenvectors)\n",
    "    loadings = pca.components_\n",
    "\n",
    "    # Create a DataFrame with the loadings\n",
    "    loadings_df = pd.DataFrame(loadings.T, columns=['PC1', 'PC2'], index=data.columns)\n",
    "\n",
    "    print(\"Loadings of original variables on each principal component:\")\n",
    "    print(loadings_df.to_string())\n",
    "\n",
    "    # return principal_df, loadings_df"
   ]
  },
  {
   "cell_type": "code",
   "execution_count": 51,
   "metadata": {},
   "outputs": [],
   "source": [
    "test_header = [corr_quest_header[1], corr_infer_header[1]]"
   ]
  },
  {
   "cell_type": "code",
   "execution_count": 63,
   "metadata": {},
   "outputs": [],
   "source": [
    "test_header = np.array(test_header)"
   ]
  },
  {
   "cell_type": "code",
   "execution_count": 59,
   "metadata": {},
   "outputs": [],
   "source": [
    "test_data = [corr_quest_data[:,1], corr_infer_data[1]]"
   ]
  },
  {
   "cell_type": "code",
   "execution_count": 64,
   "metadata": {},
   "outputs": [],
   "source": [
    "test_data = np.array(test_data)"
   ]
  },
  {
   "cell_type": "code",
   "execution_count": 68,
   "metadata": {},
   "outputs": [
    {
     "data": {
      "text/plain": [
       "(2,)"
      ]
     },
     "execution_count": 68,
     "metadata": {},
     "output_type": "execute_result"
    }
   ],
   "source": [
    "test_header.shape"
   ]
  },
  {
   "cell_type": "code",
   "execution_count": 81,
   "metadata": {},
   "outputs": [
    {
     "data": {
      "text/plain": [
       "array(['EHI_score', 'pos_mean_u_cafe'], dtype='<U15')"
      ]
     },
     "execution_count": 81,
     "metadata": {},
     "output_type": "execute_result"
    }
   ],
   "source": [
    "test_header"
   ]
  },
  {
   "cell_type": "code",
   "execution_count": 80,
   "metadata": {},
   "outputs": [
    {
     "name": "stdout",
     "output_type": "stream",
     "text": [
      "Explained variance by each component: [0.76799758 0.23200242]\n",
      "         PC1       PC2\n",
      "0  -0.171607  0.736260\n",
      "1  -0.738320  0.169547\n",
      "2   0.324947  0.306473\n",
      "3   0.476544  1.384411\n",
      "4  -0.167586  0.395173\n",
      "5   4.048107  0.262513\n",
      "6  -0.188680 -0.160837\n",
      "7  -0.691863 -0.761801\n",
      "8   0.749388  1.657255\n",
      "9  -0.480690 -0.159506\n",
      "10 -0.387958 -0.360114\n",
      "11 -0.797458  0.110409\n",
      "12 -1.279014 -0.371147\n",
      "13  0.393351 -0.002521\n",
      "14 -1.254014 -0.346147\n",
      "15  0.671154  1.233914\n",
      "16  3.873658 -0.740194\n",
      "17 -0.320829  0.587038\n",
      "18  0.122650 -0.513385\n",
      "19 -0.508262  0.106264\n",
      "20 -0.833304  0.074563\n",
      "21 -1.006543 -0.098676\n",
      "22 -0.542304  0.365563\n",
      "23 -0.657773 -0.401775\n",
      "24 -0.124240 -0.976421\n",
      "25 -0.193783  0.127402\n",
      "26 -1.105952 -0.198085\n",
      "27 -0.780273  0.127594\n",
      "28 -0.193483 -1.118999\n",
      "29  1.764138 -1.434773\n",
      "Loadings of original variables on each principal component:\n",
      "                      PC1       PC2\n",
      "EHI_score       -0.707107  0.707107\n",
      "pos_mean_u_cafe  0.707107  0.707107\n"
     ]
    }
   ],
   "source": [
    "pca(test_header, test_data)"
   ]
  }
 ],
 "metadata": {
  "kernelspec": {
   "display_name": "Python 3 (ipykernel)",
   "language": "python",
   "name": "python3"
  }
 },
 "nbformat": 4,
 "nbformat_minor": 2
}
