{
 "cells": [
  {
   "cell_type": "code",
   "execution_count": 4,
   "metadata": {},
   "outputs": [],
   "source": [
    "#!/usr/bin/env python3\n",
    "# -*- coding: utf-8 -*-\n",
    "\"\"\"\n",
    "Created on Fri May 3 2024\n",
    "\n",
    "@author: Yaning\n",
    "\"\"\"\n",
    "\n",
    "import numpy as np\n",
    "from scipy.optimize import curve_fit\n",
    "from scipy.stats import linregress\n",
    "from sklearn.metrics import r2_score, mean_squared_error\n",
    "from scipy.optimize import curve_fit\n",
    "import matplotlib.pyplot as plt"
   ]
  },
  {
   "cell_type": "code",
   "execution_count": 10,
   "metadata": {},
   "outputs": [
    {
     "name": "stdout",
     "output_type": "stream",
     "text": [
      "Fitted parameters:\n",
      "a = 3.885413794197043\n",
      "b = 4.693761919599095\n",
      "c = 4.0696302072928505\n"
     ]
    }
   ],
   "source": [
    "\n",
    "# Given data\n",
    "# x_data = np.array([ 0.1,  0.2,  0.3,  0.4,  0.6,  0.7,  1.3,  1.4,  2.3,  2.4,  2.9,\n",
    "#         3.2,  4.5,  5. ,  5.8,  6.2,  7.3,  7.5, 11.8, 12.2])\n",
    "# y_data = np.array([ 4.8720617,  5.284144 ,  5.0300183,  7.8497696,  6.4004817,\n",
    "#         9.643917 , 19.810768 , 15.784677 , 10.820606 , 11.905287 ,\n",
    "#        10.74893  , 10.734319 ,  9.804642 , 11.279299 , 10.665118 ,\n",
    "#        11.352332 , 10.170097 , 10.880812 , 12.517179 , 10.843457 ])\n",
    "\n",
    "\n",
    "x_data = np.array([ 0.1,  0.2,  0.3,  0.4,  0.6,  0.7,  1.3, 1.4])\n",
    "y_data = np.array([ 4.8720617,  5.284144 ,  5.0300183,  7.8497696,  6.4004817,\n",
    "        9.643917 , 19.810768,   15.784677 ])\n",
    "\n",
    "\n",
    "# Define the function to fit (polynomial in this case)\n",
    "def func(x, a, b, c):\n",
    "    return a * x**2 + b * x + c\n",
    "\n",
    "# Perform curve fitting\n",
    "popt, pcov = curve_fit(func, x_data, y_data)\n",
    "\n",
    "# Get the fitted parameters\n",
    "a_fit, b_fit, c_fit = popt\n",
    "\n",
    "print(\"Fitted parameters:\")\n",
    "print(\"a =\", a_fit)\n",
    "print(\"b =\", b_fit)\n",
    "print(\"c =\", c_fit)"
   ]
  },
  {
   "cell_type": "code",
   "execution_count": 12,
   "metadata": {},
   "outputs": [
    {
     "data": {
      "text/plain": [
       "Text(0, 0.5, 'sigma_es')"
      ]
     },
     "execution_count": 12,
     "metadata": {},
     "output_type": "execute_result"
    },
    {
     "data": {
      "image/png": "[encoded data removed]",
      "text/plain": [
       "<Figure size 640x480 with 1 Axes>"
      ]
     },
     "metadata": {},
     "output_type": "display_data"
    }
   ],
   "source": [
    "plt.scatter(x_data*10, y_data**2)\n",
    "plt.xlabel('delay')\n",
    "plt.ylabel('sigma_es')\n",
    "\n",
    "# y_pred = 4.5*np.exp(1*x_data)\n",
    "# plt.plot(x_data*10, y_pred)\n",
    "\n",
    "# print(r2_score(y_data, y_pred))"
   ]
  },
  {
   "cell_type": "code",
   "execution_count": null,
   "metadata": {},
   "outputs": [],
   "source": [
    "\n",
    "# Perform linear regression\n",
    "slope, intercept, r_value, p_value, std_err = linregress(x_data, y_data)\n",
    "\n",
    "# Calculate the regression line\n",
    "regression_line = slope * x_data + intercept\n",
    "\n",
    "# Plot the data points\n",
    "plt.scatter(x_data, y_data, label='Data')\n",
    "\n",
    "# Plot the regression line\n",
    "plt.plot(x_data, regression_line, color='red', label='Linear Regression')\n",
    "\n",
    "# Add labels and legend\n",
    "plt.xlabel('X')\n",
    "plt.ylabel('Y')\n",
    "plt.legend()\n",
    "\n",
    "# Show plot\n",
    "plt.show()\n",
    "\n",
    "# Print regression results\n",
    "print(\"Slope:\", slope)\n",
    "print(\"Intercept:\", intercept)\n",
    "print(\"R-squared:\", r_value**2)"
   ]
  },
  {
   "cell_type": "code",
   "execution_count": null,
   "metadata": {},
   "outputs": [],
   "source": [
    "\n",
    "# Exponential function to fit\n",
    "def exponential_func(x, a, b):\n",
    "    return a * np.exp(b * x)\n",
    "\n",
    "# Given data\n",
    "x_data = np.array([ 0.1,  0.2,  0.3,  0.4,  0.6,  0.7,  1.3, 1.4])\n",
    "y_data = np.array([ 4.8720617,  5.284144 ,  5.0300183,  7.8497696,  6.4004817,\n",
    "        9.643917 , 19.810768,   15.784677 ])\n",
    "\n",
    "\n",
    "# Fit exponential curve to the data\n",
    "popt, pcov = curve_fit(exponential_func, x_data, y_data)\n",
    "\n",
    "# Get the fitted parameters\n",
    "a_fit, b_fit = popt\n",
    "\n",
    "print(\"Fitted parameters:\")\n",
    "print(\"a =\", a_fit)\n",
    "print(\"b =\", b_fit)"
   ]
  }
 ],
 "metadata": {
  "kernelspec": {
   "display_name": "Python 3 (ipykernel)",
   "language": "python",
   "name": "python3"
  },
  "language_info": {
   "codemirror_mode": {
    "name": "ipython",
    "version": 3
   },
   "file_extension": ".py",
   "mimetype": "text/x-python",
   "name": "python",
   "nbconvert_exporter": "python",
   "pygments_lexer": "ipython3",
   "version": "3.11.6"
  }
 },
 "nbformat": 4,
 "nbformat_minor": 2
}
