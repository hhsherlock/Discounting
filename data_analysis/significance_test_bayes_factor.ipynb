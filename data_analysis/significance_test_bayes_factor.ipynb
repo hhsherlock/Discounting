{
 "cells": [
  {
   "cell_type": "code",
   "execution_count": 5,
   "metadata": {},
   "outputs": [],
   "source": [
    "import numpy as np\n",
    "import pandas as pd\n",
    "from scipy.integrate import simpson\n",
    "from scipy.stats import gaussian_kde"
   ]
  },
  {
   "cell_type": "code",
   "execution_count": 28,
   "metadata": {},
   "outputs": [
    {
     "name": "stdout",
     "output_type": "stream",
     "text": [
      "<class 'numpy.ndarray'>\n",
      "       BFkl      BFgr parameter\n",
      "0  1.035541  0.965678    param1\n",
      "<class 'numpy.ndarray'>\n",
      "       BFkl      BFgr parameter\n",
      "0  0.196666  5.084759    param2\n"
     ]
    }
   ],
   "source": [
    "# Assuming diff_frame is a pandas DataFrame\n",
    "diff_frame = pd.DataFrame({\n",
    "    'param1': np.random.normal(0, 1, 1000),\n",
    "    'param2': np.random.normal(1, 1, 1000)\n",
    "    # Add other parameters as needed\n",
    "})\n",
    "\n",
    "# Output list\n",
    "bflist = []\n",
    "\n",
    "# Loop through each column in diff_frame\n",
    "for col in diff_frame.columns:\n",
    "    # Compute density estimation\n",
    "    kde = gaussian_kde(diff_frame[col], bw_method='scott')\n",
    "    x = np.linspace(diff_frame[col].min(), diff_frame[col].max(), 1000)\n",
    "    y = kde(x)\n",
    "    \n",
    "    # Convert to dataframe\n",
    "    data2 = pd.DataFrame({'x': x, 'y': y})\n",
    "    \n",
    "    # Filter positive and negative x-values\n",
    "    data2_pos = data2[data2['x'] > 0]\n",
    "    data2_neg = data2[data2['x'] < 0]\n",
    "    \n",
    "    x1 = data2_pos['x']\n",
    "    y1 = data2_pos['y']\n",
    "    x2 = data2_neg['x']\n",
    "    y2 = data2_neg['y']\n",
    "\n",
    "    print(type(x1.values))\n",
    "    \n",
    "    # Calculate Bayes Factors\n",
    "    BFkl = simpson(y2.values, x = x2.values) / simpson(y1.values, x = x1.values) if simpson(y1.values, x = x1.values) != 0 else np.inf\n",
    "    BFgr = simpson(y1.values, x = x1.values) / simpson(y2.values, x = x2.values) if simpson(y2.values, x = x2.values) != 0 else np.inf\n",
    "    \n",
    "    # Store the result\n",
    "    output = pd.DataFrame({'BFkl': [BFkl], 'BFgr': [BFgr], 'parameter': [col]})\n",
    "    bflist.append(output)\n",
    "    print(output)\n",
    "\n",
    "# Combine all Bayes Factor results into a single DataFrame\n",
    "bflist_df = pd.concat(bflist, ignore_index=True)\n"
   ]
  },
  {
   "cell_type": "code",
   "execution_count": 18,
   "metadata": {},
   "outputs": [
    {
     "name": "stdout",
     "output_type": "stream",
     "text": [
      "       mean parameter\n",
      "0 -0.002282    param1\n",
      "1  1.027348    param2\n"
     ]
    }
   ],
   "source": [
    "\n",
    "##################################\n",
    "# Mean of Posterior Differences  #\n",
    "##################################\n",
    "\n",
    "# Compute the mean of each column in diff_frame\n",
    "posteriormean = pd.DataFrame({\n",
    "    'mean': diff_frame.mean(),\n",
    "    'parameter': diff_frame.columns\n",
    "}).reset_index(drop=True)\n",
    "\n",
    "print(posteriormean)"
   ]
  }
 ],
 "metadata": {
  "kernelspec": {
   "display_name": "Python 3 (ipykernel)",
   "language": "python",
   "name": "python3"
  }
 },
 "nbformat": 4,
 "nbformat_minor": 2
}
