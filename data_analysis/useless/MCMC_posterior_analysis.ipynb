{
 "cells": [
  {
   "cell_type": "code",
   "execution_count": 1,
   "metadata": {},
   "outputs": [
    {
     "name": "stderr",
     "output_type": "stream",
     "text": [
      "/tmp/ipykernel_896817/2565380644.py:12: DeprecationWarning: \n",
      "Pyarrow will become a required dependency of pandas in the next major release of pandas (pandas 3.0),\n",
      "(to allow more performant data types, such as the Arrow string type, and better interoperability with other libraries)\n",
      "but was not found to be installed on your system.\n",
      "If this would cause problems for you,\n",
      "please provide us feedback at https://github.com/pandas-dev/pandas/issues/54466\n",
      "        \n",
      "  import pandas as pd\n"
     ]
    }
   ],
   "source": [
    "#!/usr/bin/env python3\n",
    "# -*- coding: utf-8 -*-\n",
    "\"\"\"\n",
    "Created on Tue Mar 5 2024\n",
    "\n",
    "@author: Yaning\n",
    "\"\"\"\n",
    "# you actually do not need to do this, just get the \n",
    "# results from mcmc.summary(prob=0.9) \n",
    "import csv \n",
    "import numpy as np\n",
    "import pandas as pd\n",
    "from statistics import mean"
   ]
  },
  {
   "cell_type": "code",
   "execution_count": 2,
   "metadata": {},
   "outputs": [],
   "source": [
    "chain_num = 3\n",
    "sample_num = 300\n",
    "df = pd.read_csv(\"Documents/pyro_models/results/MCMC_mit_log_gamble_0_forloop.csv\")"
   ]
  },
  {
   "cell_type": "code",
   "execution_count": 3,
   "metadata": {},
   "outputs": [],
   "source": [
    "mean_u = []\n",
    "sigma_u = []\n",
    "sigma_es = []\n",
    "beta = []\n",
    "for i in range(chain_num):\n",
    "    mean_u.append(mean(df[df[\"chain_mean_u\"] == i+1][\"mean_u\"]))\n",
    "    sigma_u.append(mean(df[df[\"chain_log_sigma_u\"] == i+1][\"log_sigma_u\"]))\n",
    "    sigma_es.append(mean(df[df[\"chain_log_sigma_es\"] == i+1][\"log_sigma_es\"]))\n",
    "    beta.append(mean(df[df[\"chain_beta\"] == i+1][\"beta\"]))"
   ]
  },
  {
   "cell_type": "code",
   "execution_count": 4,
   "metadata": {},
   "outputs": [],
   "source": [
    "post_df = pd.DataFrame(mean_u,columns=['mean_u'])\n",
    "post_df[\"sigma_u\"] = sigma_u\n",
    "post_df[\"sigma_es\"] = sigma_es\n",
    "post_df[\"beta\"] = beta"
   ]
  },
  {
   "cell_type": "code",
   "execution_count": 5,
   "metadata": {},
   "outputs": [
    {
     "data": {
      "text/html": [
       "<div>\n",
       "<style scoped>\n",
       "    .dataframe tbody tr th:only-of-type {\n",
       "        vertical-align: middle;\n",
       "    }\n",
       "\n",
       "    .dataframe tbody tr th {\n",
       "        vertical-align: top;\n",
       "    }\n",
       "\n",
       "    .dataframe thead th {\n",
       "        text-align: right;\n",
       "    }\n",
       "</style>\n",
       "<table border=\"1\" class=\"dataframe\">\n",
       "  <thead>\n",
       "    <tr style=\"text-align: right;\">\n",
       "      <th></th>\n",
       "      <th>mean_u</th>\n",
       "      <th>sigma_u</th>\n",
       "      <th>sigma_es</th>\n",
       "      <th>beta</th>\n",
       "    </tr>\n",
       "  </thead>\n",
       "  <tbody>\n",
       "    <tr>\n",
       "      <th>0</th>\n",
       "      <td>0.079828</td>\n",
       "      <td>2.460718</td>\n",
       "      <td>-0.476067</td>\n",
       "      <td>0.399126</td>\n",
       "    </tr>\n",
       "    <tr>\n",
       "      <th>1</th>\n",
       "      <td>0.103243</td>\n",
       "      <td>2.493970</td>\n",
       "      <td>-0.455830</td>\n",
       "      <td>0.399962</td>\n",
       "    </tr>\n",
       "    <tr>\n",
       "      <th>2</th>\n",
       "      <td>-0.134506</td>\n",
       "      <td>2.488003</td>\n",
       "      <td>-0.313171</td>\n",
       "      <td>0.408780</td>\n",
       "    </tr>\n",
       "  </tbody>\n",
       "</table>\n",
       "</div>"
      ],
      "text/plain": [
       "     mean_u   sigma_u  sigma_es      beta\n",
       "0  0.079828  2.460718 -0.476067  0.399126\n",
       "1  0.103243  2.493970 -0.455830  0.399962\n",
       "2 -0.134506  2.488003 -0.313171  0.408780"
      ]
     },
     "execution_count": 5,
     "metadata": {},
     "output_type": "execute_result"
    }
   ],
   "source": [
    "post_df"
   ]
  },
  {
   "cell_type": "code",
   "execution_count": 6,
   "metadata": {},
   "outputs": [],
   "source": [
    "ulti_df = pd.DataFrame([mean(post_df[\"mean_u\"])], columns=[\"mean_u\"])\n",
    "ulti_df[\"sigma_u\"] = np.exp(mean(post_df[\"sigma_u\"]))\n",
    "ulti_df[\"sigma_es\"] = np.exp(mean(post_df[\"sigma_es\"]))\n",
    "ulti_df[\"beta\"] = mean(post_df[\"beta\"])\n"
   ]
  },
  {
   "cell_type": "code",
   "execution_count": 7,
   "metadata": {},
   "outputs": [
    {
     "data": {
      "text/html": [
       "<div>\n",
       "<style scoped>\n",
       "    .dataframe tbody tr th:only-of-type {\n",
       "        vertical-align: middle;\n",
       "    }\n",
       "\n",
       "    .dataframe tbody tr th {\n",
       "        vertical-align: top;\n",
       "    }\n",
       "\n",
       "    .dataframe thead th {\n",
       "        text-align: right;\n",
       "    }\n",
       "</style>\n",
       "<table border=\"1\" class=\"dataframe\">\n",
       "  <thead>\n",
       "    <tr style=\"text-align: right;\">\n",
       "      <th></th>\n",
       "      <th>mean_u</th>\n",
       "      <th>sigma_u</th>\n",
       "      <th>sigma_es</th>\n",
       "      <th>beta</th>\n",
       "    </tr>\n",
       "  </thead>\n",
       "  <tbody>\n",
       "    <tr>\n",
       "      <th>0</th>\n",
       "      <td>0.016188</td>\n",
       "      <td>11.951978</td>\n",
       "      <td>0.660325</td>\n",
       "      <td>0.402623</td>\n",
       "    </tr>\n",
       "  </tbody>\n",
       "</table>\n",
       "</div>"
      ],
      "text/plain": [
       "     mean_u    sigma_u  sigma_es      beta\n",
       "0  0.016188  11.951978  0.660325  0.402623"
      ]
     },
     "execution_count": 7,
     "metadata": {},
     "output_type": "execute_result"
    }
   ],
   "source": [
    "ulti_df"
   ]
  }
 ],
 "metadata": {
  "kernelspec": {
   "display_name": "Python 3 (ipykernel)",
   "language": "python",
   "name": "python3"
  },
  "language_info": {
   "codemirror_mode": {
    "name": "ipython",
    "version": 3
   },
   "file_extension": ".py",
   "mimetype": "text/x-python",
   "name": "python",
   "nbconvert_exporter": "python",
   "pygments_lexer": "ipython3",
   "version": "3.11.6"
  }
 },
 "nbformat": 4,
 "nbformat_minor": 2
}
