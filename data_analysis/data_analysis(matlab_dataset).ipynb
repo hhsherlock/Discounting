{
 "cells": [
  {
   "cell_type": "code",
   "execution_count": 1,
   "metadata": {},
   "outputs": [],
   "source": [
    "#!/usr/bin/env python3\n",
    "# -*- coding: utf-8 -*-\n",
    "\"\"\"\n",
    "Created on Fri Apr 12 2024\n",
    "\n",
    "@author: Yaning\n",
    "\"\"\"\n",
    "\n",
    "import scipy.io\n",
    "import numpy as np"
   ]
  },
  {
   "cell_type": "code",
   "execution_count": 2,
   "metadata": {},
   "outputs": [],
   "source": [
    "# Load the .mat file\n",
    "mat = scipy.io.loadmat('Documents/pyro_models/files_to_run/Peters2010Neuron_combined.mat')\n",
    "\n",
    "# Access variables in the .mat file\n",
    "# For example, if you have a variable named 'data' in the .mat file\n",
    "data_m = mat['data']"
   ]
  },
  {
   "cell_type": "code",
   "execution_count": 3,
   "metadata": {},
   "outputs": [
    {
     "data": {
      "text/plain": [
       "(9466, 9)"
      ]
     },
     "execution_count": 3,
     "metadata": {},
     "output_type": "execute_result"
    }
   ],
   "source": [
    "# variables sequence is:\n",
    "# 0:subjectCode \n",
    "# 1:dummyCon1 (they are opposite, either 0 or 1)\n",
    "# 2:dummyCon2 (they are opposite, either 0 or 1)\n",
    "# 3:delaySS (it is always 0)\n",
    "# 4:amountSS (it is always 20)\n",
    "# 5:delayLL (some delays are 0)\n",
    "# 6:amountLL\n",
    "# 7:choice (choosing LL is 1)\n",
    "# 8:ConditionNumber (dummyCon1 is 1, dummyCon2 is 2)\n",
    "data_m.shape"
   ]
  },
  {
   "cell_type": "code",
   "execution_count": 4,
   "metadata": {},
   "outputs": [],
   "source": [
    "# # get to know the values of each parameter\n",
    "# num = 0\n",
    "# for i in range(len(data_m)):\n",
    "#     if data_m[i][1] == data_m[i][8] or data_m[i][1] + 2 == data_m[i][8]:\n",
    "#         num = num + 1\n",
    "#     # print(data[i][1])\n",
    "# print(num)"
   ]
  },
  {
   "cell_type": "code",
   "execution_count": 6,
   "metadata": {},
   "outputs": [
    {
     "data": {
      "text/plain": [
       "233.0"
      ]
     },
     "execution_count": 6,
     "metadata": {},
     "output_type": "execute_result"
    }
   ],
   "source": [
    "max(data_m[:,5])"
   ]
  },
  {
   "cell_type": "code",
   "execution_count": 31,
   "metadata": {},
   "outputs": [],
   "source": [
    "data_dict = {}\n",
    "\n",
    "for i in data_m:\n",
    "    key = i[0]  \n",
    "    if key not in data_dict:\n",
    "        data_dict[key] = [] \n",
    "    data_dict[key].append(i)\n"
   ]
  },
  {
   "cell_type": "code",
   "execution_count": 53,
   "metadata": {},
   "outputs": [],
   "source": [
    "data_people = []"
   ]
  },
  {
   "cell_type": "code",
   "execution_count": 54,
   "metadata": {},
   "outputs": [],
   "source": [
    "# get only the participants with 236 trials \n",
    "# (there are 16 people have less than 236 trials)\n",
    "for i in data_dict:\n",
    "    if len(data_dict[i]) == 236:\n",
    "        data_people.append(data_dict[i])\n"
   ]
  },
  {
   "cell_type": "code",
   "execution_count": 55,
   "metadata": {},
   "outputs": [],
   "source": [
    "data_people = np.array(data_people)"
   ]
  },
  {
   "cell_type": "code",
   "execution_count": 56,
   "metadata": {},
   "outputs": [
    {
     "data": {
      "text/plain": [
       "(30, 236, 9)"
      ]
     },
     "execution_count": 56,
     "metadata": {},
     "output_type": "execute_result"
    }
   ],
   "source": [
    "# data_people.shape"
   ]
  },
  {
   "cell_type": "code",
   "execution_count": 59,
   "metadata": {},
   "outputs": [],
   "source": [
    "# separate into two contexts (watch out for the same person data)\n",
    "data_context_people = [[],[]]\n",
    "for i in data_people:\n",
    "    temp_one = []\n",
    "    temp_two = []\n",
    "    for j in i:\n",
    "        if j[8] == 1:\n",
    "            temp_one.append(j)\n",
    "        elif j[8] == 2:\n",
    "            temp_two.append(j)\n",
    "    data_context_people[0].append(temp_one)\n",
    "    data_context_people[1].append(temp_two)"
   ]
  },
  {
   "cell_type": "code",
   "execution_count": 61,
   "metadata": {},
   "outputs": [],
   "source": [
    "data_context_people = np.array(data_context_people)"
   ]
  },
  {
   "cell_type": "code",
   "execution_count": 95,
   "metadata": {},
   "outputs": [],
   "source": [
    "# get rid of the redundant data 128\n",
    "# in the order of: \n",
    "# 0:subject_code\n",
    "# 1:SS_value \n",
    "# 2:delay\n",
    "# 3:LL_value\n",
    "# 4:choice\n",
    "data = data_context_people[:,:,:,[0,4,5,6,7,2]]"
   ]
  },
  {
   "cell_type": "code",
   "execution_count": 96,
   "metadata": {},
   "outputs": [],
   "source": [
    "# divide all delays with 10 (because it is too big like 100 something)\n",
    "data[:,:,:,2] = np.array([i / 10 for i in data[:,:,:,2]])"
   ]
  },
  {
   "cell_type": "code",
   "execution_count": 98,
   "metadata": {},
   "outputs": [
    {
     "name": "stdout",
     "output_type": "stream",
     "text": [
      "0:subject_code \n",
      "1:SS_value \n",
      "2:delay \n",
      "3:LL_value \n",
      "4:choice \n",
      "5:context(0 is context1)\n"
     ]
    }
   ],
   "source": [
    "# min(data[:,:,:,2].flatten())\n",
    "print(\"0:subject_code \\n1:SS_value \\n2:delay \\n3:LL_value \\n4:choice \\n5:context(0 is context1)\")"
   ]
  }
 ],
 "metadata": {
  "kernelspec": {
   "display_name": "Python 3 (ipykernel)",
   "language": "python",
   "name": "python3"
  },
  "language_info": {
   "codemirror_mode": {
    "name": "ipython",
    "version": 3
   },
   "file_extension": ".py",
   "mimetype": "text/x-python",
   "name": "python",
   "nbconvert_exporter": "python",
   "pygments_lexer": "ipython3",
   "version": "3.11.6"
  }
 },
 "nbformat": 4,
 "nbformat_minor": 2
}
