{
 "cells": [
  {
   "cell_type": "code",
   "execution_count": 1,
   "metadata": {},
   "outputs": [],
   "source": [
    "#!/usr/bin/env python3\n",
    "# -*- coding: utf-8 -*-\n",
    "\"\"\"\n",
    "Created on Mon May 6 2024\n",
    "\n",
    "@author: Yaning\n",
    "\"\"\"\n",
    "\n",
    "import csv \n",
    "import numpy as np"
   ]
  },
  {
   "cell_type": "code",
   "execution_count": 2,
   "metadata": {},
   "outputs": [],
   "source": [
    "file = open('Documents/pyro_models/files_to_run/discountdataset_allsubs_gamblingscores.csv')"
   ]
  },
  {
   "cell_type": "code",
   "execution_count": 3,
   "metadata": {},
   "outputs": [],
   "source": [
    "csvreader = csv.reader(file)"
   ]
  },
  {
   "cell_type": "code",
   "execution_count": 4,
   "metadata": {},
   "outputs": [
    {
     "name": "stdout",
     "output_type": "stream",
     "text": [
      "['', 'trial', 'val_basic', 'delay', 'val_prc', 'response', 'RT', 'respSide', 'sideNOW', 'subID', 'Version', 'Trial', 'loopID', 'Context', 'GRCS', 'SEV']\n"
     ]
    }
   ],
   "source": [
    "header = []\n",
    "header = next(csvreader)\n",
    "print(header)"
   ]
  },
  {
   "cell_type": "code",
   "execution_count": 5,
   "metadata": {},
   "outputs": [],
   "source": [
    "# [c1, GRCS, SEV]\n",
    "quest_data = []\n",
    "\n",
    "for row in csvreader:\n",
    "    temp = []\n",
    "    if row[9] not in [person[0] for person in quest_data]:\n",
    "        temp.append(row[9])\n",
    "        temp.append(row[-2])\n",
    "        temp.append(row[-1])\n",
    "        quest_data.append(temp)"
   ]
  },
  {
   "cell_type": "code",
   "execution_count": 6,
   "metadata": {},
   "outputs": [],
   "source": [
    "file.close()"
   ]
  },
  {
   "cell_type": "code",
   "execution_count": 7,
   "metadata": {},
   "outputs": [
    {
     "name": "stdout",
     "output_type": "stream",
     "text": [
      "['', 'X', 'subject_id', 'sex', 'cig_day', 'age', 'height', 'weight', 'schoolyears', 'income', 'moneyEGM_spielhallegaststaette', 'moneyEGM_spielcasino', 'AUDIT', 'BDI', 'DSM', 'EHI_score', 'FTND', 'SCL90_soma', 'SCL90_zwang', 'SCL90_unsichersozial', 'SCL90_depress', 'SCL90_aengstlichkeit', 'SCL90_agress', 'SCL90_phob', 'SCL90_para', 'SCL90_psychotizismus', 'SCL90_zusatz', 'SCL90_GSI', 'STAIT', 'BIS_motor', 'BIS_nonplanning', 'BIS_attention', 'BIS_Gesamtwert', 'BB_BIS_GS', 'BB_BAS_GS', 'BB_BAS_D', 'BB_BAS_FS', 'BB_BAS_RP', 'TIPI_ex', 'TIPI_ag', 'TIPI_con', 'TIPI_es', 'TIPI_oe', 'TCI_NS1', 'TCI_NS2', 'TCI_NS3', 'TCI_NS4', 'TCI_total', 'PTTS', 'NPRS_pos', 'NPRS_neg', 'ZTPI_pastNegative', 'ZTPI_presentHedonistic', 'ZTPI_future', 'ZTPI_pastPositive', 'ZTPI_presentFatalistic', 'GBQ', 'GRCS_1_GE', 'GRCS_2_IC', 'GRCS_3_PC', 'GRCS_4_IS', 'GRCS_5_IB', 'GRCS_total', 'KFG', 'SOGS', 'addiction_score', 'Gambling_games', 'Gambling_money']\n"
     ]
    }
   ],
   "source": [
    "file = open('Documents/pyro_models/files_to_run/Questionaire_data_gambling.csv')\n",
    "csvreader = csv.reader(file)\n",
    "header = []\n",
    "header = next(csvreader)\n",
    "print(header)"
   ]
  },
  {
   "cell_type": "code",
   "execution_count": 8,
   "metadata": {},
   "outputs": [],
   "source": [
    "for row in csvreader:\n",
    "    temp = []\n",
    "    for i in quest_data:\n",
    "        if i[0] == row[2]:\n",
    "            if row[3] == 'M':\n",
    "                temp.extend('1')\n",
    "            else:\n",
    "                temp.extend('0')\n",
    "                \n",
    "            temp.extend(row[4:])\n",
    "            i.extend(temp)"
   ]
  },
  {
   "cell_type": "code",
   "execution_count": 9,
   "metadata": {},
   "outputs": [],
   "source": [
    "file.close()"
   ]
  },
  {
   "cell_type": "code",
   "execution_count": 10,
   "metadata": {},
   "outputs": [],
   "source": [
    "quest_data = np.array(quest_data)"
   ]
  },
  {
   "cell_type": "code",
   "execution_count": 11,
   "metadata": {},
   "outputs": [
    {
     "data": {
      "text/plain": [
       "(30, 68)"
      ]
     },
     "execution_count": 11,
     "metadata": {},
     "output_type": "execute_result"
    }
   ],
   "source": [
    "quest_data.shape"
   ]
  }
 ],
 "metadata": {
  "kernelspec": {
   "display_name": "Python 3 (ipykernel)",
   "language": "python",
   "name": "python3"
  },
  "language_info": {
   "codemirror_mode": {
    "name": "ipython",
    "version": 3
   },
   "file_extension": ".py",
   "mimetype": "text/x-python",
   "name": "python",
   "nbconvert_exporter": "python",
   "pygments_lexer": "ipython3",
   "version": "3.11.6"
  }
 },
 "nbformat": 4,
 "nbformat_minor": 2
}
