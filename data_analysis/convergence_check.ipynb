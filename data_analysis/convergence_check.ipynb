{
 "cells": [
  {
   "cell_type": "code",
   "execution_count": 2,
   "metadata": {},
   "outputs": [
    {
     "name": "stderr",
     "output_type": "stream",
     "text": [
      "/tmp/ipykernel_1089736/4116703529.py:12: DeprecationWarning: \n",
      "Pyarrow will become a required dependency of pandas in the next major release of pandas (pandas 3.0),\n",
      "(to allow more performant data types, such as the Arrow string type, and better interoperability with other libraries)\n",
      "but was not found to be installed on your system.\n",
      "If this would cause problems for you,\n",
      "please provide us feedback at https://github.com/pandas-dev/pandas/issues/54466\n",
      "        \n",
      "  import pandas as pd\n"
     ]
    }
   ],
   "source": [
    "#!/usr/bin/env python3\n",
    "# -*- coding: utf-8 -*-\n",
    "\"\"\"\n",
    "Created on Thu Mar 28 2024\n",
    "\n",
    "@author: Yaning\n",
    "\"\"\"\n",
    "\n",
    "import torch\n",
    "import pyro\n",
    "import math\n",
    "import pandas as pd\n",
    "from pyro.distributions import Normal, Bernoulli, Gamma\n",
    "from pyro.distributions.util import scalar_like\n",
    "from pyro.infer import MCMC, NUTS, Predictive\n",
    "from pyro.infer.mcmc.util import initialize_model, summary\n",
    "from pyro.util import ignore_experimental_warning\n",
    "from pyro import poutine\n",
    "import seaborn as sns\n",
    "import matplotlib.pyplot as plt\n",
    "import numpy as np"
   ]
  },
  {
   "cell_type": "code",
   "execution_count": 7,
   "metadata": {},
   "outputs": [],
   "source": [
    "samples_dict_0 = torch.load(\"Documents/pyro_models/files_to_run/results/shift_constant_mean_u_samples.pth\")"
   ]
  },
  {
   "cell_type": "code",
   "execution_count": 4,
   "metadata": {},
   "outputs": [],
   "source": [
    "beta = samples_dict_0[\"beta\"].to(\"cpu\")\n",
    "\n",
    "# group_mean_u_sigma = samples_dict_0[\"group_mean_u_sigma\"].to(\"cpu\")\n",
    "# mean_u_0 = samples_dict_0[\"mean_u\"].to(\"cpu\")\n",
    "# shift_mean_u_0 = samples_dict_0[\"shift_mean_u\"].to(\"cpu\")"
   ]
  },
  {
   "cell_type": "code",
   "execution_count": 31,
   "metadata": {},
   "outputs": [
    {
     "data": {
      "text/plain": [
       "torch.Size([4000, 30])"
      ]
     },
     "execution_count": 31,
     "metadata": {},
     "output_type": "execute_result"
    }
   ],
   "source": [
    "beta[].shape"
   ]
  },
  {
   "cell_type": "code",
   "execution_count": 11,
   "metadata": {},
   "outputs": [
    {
     "data": {
      "text/plain": [
       "tensor([[0.3685, 0.4006],\n",
       "        [0.3606, 0.3721],\n",
       "        [0.3976, 0.3659],\n",
       "        ...,\n",
       "        [0.3133, 0.3133],\n",
       "        [0.3135, 0.3135],\n",
       "        [0.3128, 0.3128]], dtype=torch.float64)"
      ]
     },
     "execution_count": 11,
     "metadata": {},
     "output_type": "execute_result"
    }
   ],
   "source": [
    "beta[:,18].reshape(2000, 2)"
   ]
  },
  {
   "cell_type": "code",
   "execution_count": 40,
   "metadata": {},
   "outputs": [
    {
     "data": {
      "text/plain": [
       "(0.25, 0.55)"
      ]
     },
     "execution_count": 40,
     "metadata": {},
     "output_type": "execute_result"
    },
    {
     "data": {
      "image/png": "[encoded data removed]",
      "text/plain": [
       "<Figure size 640x480 with 1 Axes>"
      ]
     },
     "metadata": {},
     "output_type": "display_data"
    }
   ],
   "source": [
    "sns.histplot(data=beta[:,18][:3000])\n",
    "plt.ylim(0, 1400)\n",
    "plt.xlim(0.25, 0.55)\n",
    "# sns.histplot(data=beta[:,18].reshape(2000,2), palette=['pink', 'white'])"
   ]
  },
  {
   "cell_type": "code",
   "execution_count": null,
   "metadata": {},
   "outputs": [],
   "source": [
    "# get posterior with pandas dataframe\n",
    "fig, axs = plt.subplots(2, 2, figsize=(8, 8))\n",
    "\n",
    "mean_u = pd.DataFrame(mcmc.get_samples()['mean_u'],columns=['mean_u'])\n",
    "mean_u['chain_mean_u'] = torch.tensor([1,2,3]).repeat(300)\n",
    "sns.histplot(data=mean_u, x='mean_u',hue='chain_mean_u', palette=['white', 'pink', 'red'], ax=axs[0,0])\n",
    "\n",
    "log_sigma_u = pd.DataFrame(mcmc.get_samples()['log_sigma_u'],columns=['log_sigma_u'])\n",
    "log_sigma_u['chain_log_sigma_u'] = torch.tensor([1,2,3]).repeat(300)\n",
    "sns.histplot(data=log_sigma_u, x='log_sigma_u',hue='chain_log_sigma_u', palette=['white', 'skyblue', 'darkblue'], ax=axs[0,1])\n",
    "\n",
    "log_sigma_es = pd.DataFrame(mcmc.get_samples()['log_sigma_es'],columns=['log_sigma_es'])\n",
    "log_sigma_es['chain_log_sigma_es'] = torch.tensor([1,2,3]).repeat(300)\n",
    "sns.histplot(data=log_sigma_es, x='log_sigma_es',hue='chain_log_sigma_es', palette=['white', 'lightgreen', 'green'], ax=axs[1,0])\n",
    "\n",
    "beta = pd.DataFrame(mcmc.get_samples()['beta'],columns=['beta'])\n",
    "beta['chain_beta'] = torch.tensor([1,2,3]).repeat(300)\n",
    "sns.histplot(data=beta, x='beta',hue='chain_beta', palette=['white', 'lightyellow', 'yellow'], ax=axs[1,1])\n",
    "\n",
    "plt.show()"
   ]
  }
 ],
 "metadata": {
  "kernelspec": {
   "display_name": "Python 3 (ipykernel)",
   "language": "python",
   "name": "python3"
  }
 },
 "nbformat": 4,
 "nbformat_minor": 2
}
