{
 "cells": [
  {
   "cell_type": "code",
   "execution_count": 1,
   "metadata": {},
   "outputs": [
    {
     "name": "stderr",
     "output_type": "stream",
     "text": [
      "/tmp/ipykernel_898618/26966324.py:14: DeprecationWarning: \n",
      "Pyarrow will become a required dependency of pandas in the next major release of pandas (pandas 3.0),\n",
      "(to allow more performant data types, such as the Arrow string type, and better interoperability with other libraries)\n",
      "but was not found to be installed on your system.\n",
      "If this would cause problems for you,\n",
      "please provide us feedback at https://github.com/pandas-dev/pandas/issues/54466\n",
      "        \n",
      "  import pandas as pd\n"
     ]
    },
    {
     "name": "stdout",
     "output_type": "stream",
     "text": [
      "['', 'trial', 'val_basic', 'delay', 'val_prc', 'response', 'RT', 'respSide', 'sideNOW', 'Version', 'loopID', 'Context']\n"
     ]
    }
   ],
   "source": [
    "#!/usr/bin/env python3\n",
    "# -*- coding: utf-8 -*-\n",
    "\"\"\"\n",
    "Created on Mon Mar 4 2024\n",
    "\n",
    "@author: Yaning\n",
    "Data from Ben\n",
    "Data file name: intertemporal_choice_dataset_all_trials.csv\n",
    "\"\"\"\n",
    "\n",
    "import torch\n",
    "import pyro\n",
    "import math\n",
    "import pandas as pd\n",
    "from pyro.distributions import Normal, Bernoulli, Gamma\n",
    "from pyro.distributions.util import scalar_like\n",
    "from pyro.infer import MCMC, NUTS, Predictive\n",
    "from pyro.infer.mcmc.util import initialize_model, summary\n",
    "from pyro.util import ignore_experimental_warning\n",
    "from pyro import poutine\n",
    "import seaborn as sns\n",
    "import matplotlib.pyplot as plt\n",
    "import numpy as np\n",
    "\n",
    "%run Documents/pyro_models/files_to_run/data_analysis_without_version.ipynb"
   ]
  },
  {
   "cell_type": "code",
   "execution_count": 2,
   "metadata": {},
   "outputs": [
    {
     "data": {
      "text/plain": [
       "array([[  1.    ,  20.    , 122.    , ...,   3.0311,   2.    ,   1.    ],\n",
       "       [  2.    ,  20.    ,   3.    , ...,   2.0215,   2.    ,   1.    ],\n",
       "       [  3.    ,  20.    ,   7.    , ...,   6.8192,   2.    ,   1.    ],\n",
       "       ...,\n",
       "       [168.    ,  20.    ,   7.    , ...,   1.257 ,   2.    ,   1.    ],\n",
       "       [169.    ,  20.    ,   1.    , ...,   1.4933,   2.    ,   1.    ],\n",
       "       [170.    ,  20.    ,  24.    , ...,   1.3219,   2.    ,   1.    ]])"
      ]
     },
     "execution_count": 2,
     "metadata": {},
     "output_type": "execute_result"
    }
   ],
   "source": [
    "data[1, 1]"
   ]
  },
  {
   "cell_type": "code",
   "execution_count": 9,
   "metadata": {},
   "outputs": [],
   "source": [
    "context = 1\n",
    "person = 0\n",
    "\n",
    "actions = data[context, person, :, 4]\n",
    "delays = np.array([i / 10 for i in data[context, person, :, 2]])\n",
    "ss_values = data[context, person, :, 1]\n",
    "ll_values = []\n",
    "for i in range(len(ss_values)):\n",
    "    ll_values.append(ss_values[i]*data[context, person, i, 3])\n",
    "ll_values = np.array(ll_values)"
   ]
  },
  {
   "cell_type": "code",
   "execution_count": 10,
   "metadata": {},
   "outputs": [
    {
     "data": {
      "text/plain": [
       "array([38. , 45. , 45. , 41. , 61. , 31. , 51. , 41. , 21. , 21. , 23. ,\n",
       "       31. , 61. , 45. , 33. , 77. , 25. , 77. , 25. , 38. , 21.1, 23. ,\n",
       "       41. , 21. , 31. , 21. , 33. , 61. , 38. , 21. , 51. , 33. , 45. ,\n",
       "       31. , 33. , 29. , 69. , 37. , 51. , 29. , 23. , 61. , 61. , 31. ,\n",
       "       29. , 57. , 69. , 77. , 31. , 41. , 38. , 57. , 33. , 61. , 21.1,\n",
       "       33. , 57. , 29. , 29. , 38. , 27. , 38. , 61. , 77. , 69. , 57. ,\n",
       "       69. , 27. , 61. , 37. , 21. , 21.1, 51. , 25. , 57. , 21. , 31. ,\n",
       "       77. , 25. , 33. , 57. , 21. , 77. , 23. , 69. , 21. , 37. , 23. ,\n",
       "       27. , 77. , 37. , 23. , 21. , 37. , 25. , 29. , 37. , 23. , 21.1,\n",
       "       77. , 51. , 21.1, 77. , 38. , 37. , 57. , 61. , 41. , 21.1, 37. ,\n",
       "       29. , 51. , 51. , 38. , 23. , 25. , 69. , 45. , 38. , 51. , 37. ,\n",
       "       31. , 45. , 41. , 45. , 61. , 25. , 69. , 69. , 31. , 57. , 29. ,\n",
       "       27. , 51. , 27. , 27. , 27. , 31. , 25. , 41. , 69. , 77. , 27. ,\n",
       "       38. , 45. , 51. , 25. , 23. , 27. , 25. , 29. , 29. , 57. , 69. ,\n",
       "       57. , 33. , 37. , 23. , 45. , 21.1, 33. , 45. , 41. , 27. , 21.1,\n",
       "       41. , 41. , 33. , 21.1, 21.1])"
      ]
     },
     "execution_count": 10,
     "metadata": {},
     "output_type": "execute_result"
    }
   ],
   "source": [
    "ll_values"
   ]
  },
  {
   "cell_type": "code",
   "execution_count": 11,
   "metadata": {},
   "outputs": [],
   "source": [
    "actions = torch.tensor(actions)\n",
    "delays = torch.tensor(delays)\n",
    "ss_values = torch.tensor(ss_values)\n",
    "ll_values = torch.tensor(ll_values)"
   ]
  },
  {
   "cell_type": "code",
   "execution_count": 12,
   "metadata": {},
   "outputs": [],
   "source": [
    "pyro.set_rng_seed(1)\n"
   ]
  },
  {
   "cell_type": "code",
   "execution_count": 13,
   "metadata": {},
   "outputs": [
    {
     "data": {
      "application/vnd.jupyter.widget-view+json": {
       "model_id": "fe449e4254be4652a4950ab5a68cf136",
       "version_major": 2,
       "version_minor": 0
      },
      "text/plain": [
       "Warmup [1]:   0%|          | 0/350 [00:00, ?it/s]"
      ]
     },
     "metadata": {},
     "output_type": "display_data"
    },
    {
     "name": "stderr",
     "output_type": "stream",
     "text": [
      "/home/yaning/Documents/python_env/pyro/lib/python3.11/site-packages/torch/__init__.py:690: UserWarning: torch.set_default_tensor_type() is deprecated as of PyTorch 2.1, please use torch.set_default_dtype() and torch.set_default_device() as alternatives. (Triggered internally at ../torch/csrc/tensor/python_tensor.cpp:451.)\n",
      "  _C._set_default_tensor_type(t)\n"
     ]
    },
    {
     "data": {
      "application/vnd.jupyter.widget-view+json": {
       "model_id": "c64c460a147b4a969872e624c311031f",
       "version_major": 2,
       "version_minor": 0
      },
      "text/plain": [
       "Warmup [2]:   0%|          | 0/350 [00:00, ?it/s]"
      ]
     },
     "metadata": {},
     "output_type": "display_data"
    },
    {
     "name": "stderr",
     "output_type": "stream",
     "text": [
      "/home/yaning/Documents/python_env/pyro/lib/python3.11/site-packages/torch/__init__.py:690: UserWarning: torch.set_default_tensor_type() is deprecated as of PyTorch 2.1, please use torch.set_default_dtype() and torch.set_default_device() as alternatives. (Triggered internally at ../torch/csrc/tensor/python_tensor.cpp:451.)\n",
      "  _C._set_default_tensor_type(t)\n"
     ]
    },
    {
     "data": {
      "application/vnd.jupyter.widget-view+json": {
       "model_id": "589799a7bbb6436a85ffd947e910c21d",
       "version_major": 2,
       "version_minor": 0
      },
      "text/plain": [
       "Warmup [3]:   0%|          | 0/350 [00:00, ?it/s]"
      ]
     },
     "metadata": {},
     "output_type": "display_data"
    },
    {
     "name": "stderr",
     "output_type": "stream",
     "text": [
      "[ERROR LOG CHAIN:0]Unable to handle autograd's threading in combination with fork-based multiprocessing. See https://github.com/pytorch/pytorch/wiki/Autograd-and-Fork\n",
      "Traceback (most recent call last):\n",
      "  File \"/home/yaning/Documents/python_env/pyro/lib/python3.11/site-packages/pyro/infer/mcmc/api.py\", line 125, in run\n",
      "    for sample in _gen_samples(\n",
      "  File \"/home/yaning/Documents/python_env/pyro/lib/python3.11/site-packages/pyro/infer/mcmc/api.py\", line 144, in _gen_samples\n",
      "    kernel.setup(warmup_steps, *args, **kwargs)\n",
      "  File \"/home/yaning/Documents/python_env/pyro/lib/python3.11/site-packages/pyro/infer/mcmc/hmc.py\", line 345, in setup\n",
      "    self._initialize_model_properties(args, kwargs)\n",
      "  File \"/home/yaning/Documents/python_env/pyro/lib/python3.11/site-packages/pyro/infer/mcmc/hmc.py\", line 279, in _initialize_model_properties\n",
      "    init_params, potential_fn, transforms, trace = initialize_model(\n",
      "                                                   ^^^^^^^^^^^^^^^^^\n",
      "  File \"/home/yaning/Documents/python_env/pyro/lib/python3.11/site-packages/pyro/infer/mcmc/util.py\", line 468, in initialize_model\n",
      "    initial_params = _find_valid_initial_params(\n",
      "                     ^^^^^^^^^^^^^^^^^^^^^^^^^^^\n",
      "  File \"/home/yaning/Documents/python_env/pyro/lib/python3.11/site-packages/pyro/infer/mcmc/util.py\", line 351, in _find_valid_initial_params\n",
      "    pe_grad, pe = potential_grad(potential_fn, params)\n",
      "                  ^^^^^^^^^^^^^^^^^^^^^^^^^^^^^^^^^^^^\n",
      "  File \"/home/yaning/Documents/python_env/pyro/lib/python3.11/site-packages/pyro/ops/integrator.py\", line 91, in potential_grad\n",
      "    grads = grad(potential_energy, z_nodes)\n",
      "            ^^^^^^^^^^^^^^^^^^^^^^^^^^^^^^^\n",
      "  File \"/home/yaning/Documents/python_env/pyro/lib/python3.11/site-packages/torch/autograd/__init__.py\", line 411, in grad\n",
      "    result = Variable._execution_engine.run_backward(  # Calls into the C++ engine to run the backward pass\n",
      "             ^^^^^^^^^^^^^^^^^^^^^^^^^^^^^^^^^^^^^^^^^^^^^^^^^^^^^^^^^^^^^^^^^^^^^^^^^^^^^^^^^^^^^^^^^^^^^^\n",
      "RuntimeError: Unable to handle autograd's threading in combination with fork-based multiprocessing. See https://github.com/pytorch/pytorch/wiki/Autograd-and-Fork\n",
      "Traceback (most recent call last):\n",
      "  File \"/home/yaning/Documents/python_env/pyro/lib/python3.11/site-packages/pyro/infer/mcmc/api.py\", line 125, in run\n",
      "    for sample in _gen_samples(\n",
      "  File \"/home/yaning/Documents/python_env/pyro/lib/python3.11/site-packages/pyro/infer/mcmc/api.py\", line 144, in _gen_samples\n",
      "    kernel.setup(warmup_steps, *args, **kwargs)\n",
      "  File \"/home/yaning/Documents/python_env/pyro/lib/python3.11/site-packages/pyro/infer/mcmc/hmc.py\", line 345, in setup\n",
      "    self._initialize_model_properties(args, kwargs)\n",
      "  File \"/home/yaning/Documents/python_env/pyro/lib/python3.11/site-packages/pyro/infer/mcmc/hmc.py\", line 279, in _initialize_model_properties\n",
      "    init_params, potential_fn, transforms, trace = initialize_model(\n",
      "                                                   ^^^^^^^^^^^^^^^^^\n",
      "  File \"/home/yaning/Documents/python_env/pyro/lib/python3.11/site-packages/pyro/infer/mcmc/util.py\", line 468, in initialize_model\n",
      "    initial_params = _find_valid_initial_params(\n",
      "                     ^^^^^^^^^^^^^^^^^^^^^^^^^^^\n",
      "  File \"/home/yaning/Documents/python_env/pyro/lib/python3.11/site-packages/pyro/infer/mcmc/util.py\", line 351, in _find_valid_initial_params\n",
      "    pe_grad, pe = potential_grad(potential_fn, params)\n",
      "                  ^^^^^^^^^^^^^^^^^^^^^^^^^^^^^^^^^^^^\n",
      "  File \"/home/yaning/Documents/python_env/pyro/lib/python3.11/site-packages/pyro/ops/integrator.py\", line 91, in potential_grad\n",
      "    grads = grad(potential_energy, z_nodes)\n",
      "            ^^^^^^^^^^^^^^^^^^^^^^^^^^^^^^^\n",
      "  File \"/home/yaning/Documents/python_env/pyro/lib/python3.11/site-packages/torch/autograd/__init__.py\", line 411, in grad\n",
      "    result = Variable._execution_engine.run_backward(  # Calls into the C++ engine to run the backward pass\n",
      "             ^^^^^^^^^^^^^^^^^^^^^^^^^^^^^^^^^^^^^^^^^^^^^^^^^^^^^^^^^^^^^^^^^^^^^^^^^^^^^^^^^^^^^^^^^^^^^^\n",
      "RuntimeError: Unable to handle autograd's threading in combination with fork-based multiprocessing. See https://github.com/pytorch/pytorch/wiki/Autograd-and-Fork\n",
      "/home/yaning/Documents/python_env/pyro/lib/python3.11/site-packages/torch/__init__.py:690: UserWarning: torch.set_default_tensor_type() is deprecated as of PyTorch 2.1, please use torch.set_default_dtype() and torch.set_default_device() as alternatives. (Triggered internally at ../torch/csrc/tensor/python_tensor.cpp:451.)\n",
      "  _C._set_default_tensor_type(t)\n",
      "[ERROR LOG CHAIN:0]Unable to handle autograd's threading in combination with fork-based multiprocessing. See https://github.com/pytorch/pytorch/wiki/Autograd-and-Fork\n",
      "Traceback (most recent call last):\n",
      "  File \"/home/yaning/Documents/python_env/pyro/lib/python3.11/site-packages/pyro/infer/mcmc/api.py\", line 125, in run\n",
      "    for sample in _gen_samples(\n",
      "  File \"/home/yaning/Documents/python_env/pyro/lib/python3.11/site-packages/pyro/infer/mcmc/api.py\", line 144, in _gen_samples\n",
      "    kernel.setup(warmup_steps, *args, **kwargs)\n",
      "  File \"/home/yaning/Documents/python_env/pyro/lib/python3.11/site-packages/pyro/infer/mcmc/hmc.py\", line 345, in setup\n",
      "    self._initialize_model_properties(args, kwargs)\n",
      "  File \"/home/yaning/Documents/python_env/pyro/lib/python3.11/site-packages/pyro/infer/mcmc/hmc.py\", line 279, in _initialize_model_properties\n",
      "    init_params, potential_fn, transforms, trace = initialize_model(\n",
      "                                                   ^^^^^^^^^^^^^^^^^\n",
      "  File \"/home/yaning/Documents/python_env/pyro/lib/python3.11/site-packages/pyro/infer/mcmc/util.py\", line 468, in initialize_model\n",
      "    initial_params = _find_valid_initial_params(\n",
      "                     ^^^^^^^^^^^^^^^^^^^^^^^^^^^\n",
      "  File \"/home/yaning/Documents/python_env/pyro/lib/python3.11/site-packages/pyro/infer/mcmc/util.py\", line 351, in _find_valid_initial_params\n",
      "    pe_grad, pe = potential_grad(potential_fn, params)\n",
      "                  ^^^^^^^^^^^^^^^^^^^^^^^^^^^^^^^^^^^^\n",
      "  File \"/home/yaning/Documents/python_env/pyro/lib/python3.11/site-packages/pyro/ops/integrator.py\", line 91, in potential_grad\n",
      "    grads = grad(potential_energy, z_nodes)\n",
      "            ^^^^^^^^^^^^^^^^^^^^^^^^^^^^^^^\n",
      "  File \"/home/yaning/Documents/python_env/pyro/lib/python3.11/site-packages/torch/autograd/__init__.py\", line 411, in grad\n",
      "    result = Variable._execution_engine.run_backward(  # Calls into the C++ engine to run the backward pass\n",
      "             ^^^^^^^^^^^^^^^^^^^^^^^^^^^^^^^^^^^^^^^^^^^^^^^^^^^^^^^^^^^^^^^^^^^^^^^^^^^^^^^^^^^^^^^^^^^^^^\n",
      "RuntimeError: Unable to handle autograd's threading in combination with fork-based multiprocessing. See https://github.com/pytorch/pytorch/wiki/Autograd-and-Fork\n",
      "Traceback (most recent call last):\n",
      "  File \"/home/yaning/Documents/python_env/pyro/lib/python3.11/site-packages/pyro/infer/mcmc/api.py\", line 125, in run\n",
      "    for sample in _gen_samples(\n",
      "  File \"/home/yaning/Documents/python_env/pyro/lib/python3.11/site-packages/pyro/infer/mcmc/api.py\", line 144, in _gen_samples\n",
      "    kernel.setup(warmup_steps, *args, **kwargs)\n",
      "  File \"/home/yaning/Documents/python_env/pyro/lib/python3.11/site-packages/pyro/infer/mcmc/hmc.py\", line 345, in setup\n",
      "    self._initialize_model_properties(args, kwargs)\n",
      "  File \"/home/yaning/Documents/python_env/pyro/lib/python3.11/site-packages/pyro/infer/mcmc/hmc.py\", line 279, in _initialize_model_properties\n",
      "    init_params, potential_fn, transforms, trace = initialize_model(\n",
      "                                                   ^^^^^^^^^^^^^^^^^\n",
      "  File \"/home/yaning/Documents/python_env/pyro/lib/python3.11/site-packages/pyro/infer/mcmc/util.py\", line 468, in initialize_model\n",
      "    initial_params = _find_valid_initial_params(\n",
      "                     ^^^^^^^^^^^^^^^^^^^^^^^^^^^\n",
      "  File \"/home/yaning/Documents/python_env/pyro/lib/python3.11/site-packages/pyro/infer/mcmc/util.py\", line 351, in _find_valid_initial_params\n",
      "    pe_grad, pe = potential_grad(potential_fn, params)\n",
      "                  ^^^^^^^^^^^^^^^^^^^^^^^^^^^^^^^^^^^^\n",
      "  File \"/home/yaning/Documents/python_env/pyro/lib/python3.11/site-packages/pyro/ops/integrator.py\", line 91, in potential_grad\n",
      "    grads = grad(potential_energy, z_nodes)\n",
      "            ^^^^^^^^^^^^^^^^^^^^^^^^^^^^^^^\n",
      "  File \"/home/yaning/Documents/python_env/pyro/lib/python3.11/site-packages/torch/autograd/__init__.py\", line 411, in grad\n",
      "    result = Variable._execution_engine.run_backward(  # Calls into the C++ engine to run the backward pass\n",
      "             ^^^^^^^^^^^^^^^^^^^^^^^^^^^^^^^^^^^^^^^^^^^^^^^^^^^^^^^^^^^^^^^^^^^^^^^^^^^^^^^^^^^^^^^^^^^^^^\n",
      "RuntimeError: Unable to handle autograd's threading in combination with fork-based multiprocessing. See https://github.com/pytorch/pytorch/wiki/Autograd-and-Fork\n",
      "[ERROR LOG CHAIN:1]Unable to handle autograd's threading in combination with fork-based multiprocessing. See https://github.com/pytorch/pytorch/wiki/Autograd-and-Fork\n",
      "Traceback (most recent call last):\n",
      "  File \"/home/yaning/Documents/python_env/pyro/lib/python3.11/site-packages/pyro/infer/mcmc/api.py\", line 125, in run\n",
      "    for sample in _gen_samples(\n",
      "  File \"/home/yaning/Documents/python_env/pyro/lib/python3.11/site-packages/pyro/infer/mcmc/api.py\", line 144, in _gen_samples\n",
      "    kernel.setup(warmup_steps, *args, **kwargs)\n",
      "  File \"/home/yaning/Documents/python_env/pyro/lib/python3.11/site-packages/pyro/infer/mcmc/hmc.py\", line 345, in setup\n",
      "    self._initialize_model_properties(args, kwargs)\n",
      "  File \"/home/yaning/Documents/python_env/pyro/lib/python3.11/site-packages/pyro/infer/mcmc/hmc.py\", line 279, in _initialize_model_properties\n",
      "    init_params, potential_fn, transforms, trace = initialize_model(\n",
      "                                                   ^^^^^^^^^^^^^^^^^\n",
      "  File \"/home/yaning/Documents/python_env/pyro/lib/python3.11/site-packages/pyro/infer/mcmc/util.py\", line 468, in initialize_model\n",
      "    initial_params = _find_valid_initial_params(\n",
      "                     ^^^^^^^^^^^^^^^^^^^^^^^^^^^\n",
      "  File \"/home/yaning/Documents/python_env/pyro/lib/python3.11/site-packages/pyro/infer/mcmc/util.py\", line 351, in _find_valid_initial_params\n",
      "    pe_grad, pe = potential_grad(potential_fn, params)\n",
      "                  ^^^^^^^^^^^^^^^^^^^^^^^^^^^^^^^^^^^^\n",
      "  File \"/home/yaning/Documents/python_env/pyro/lib/python3.11/site-packages/pyro/ops/integrator.py\", line 91, in potential_grad\n",
      "    grads = grad(potential_energy, z_nodes)\n",
      "            ^^^^^^^^^^^^^^^^^^^^^^^^^^^^^^^\n",
      "  File \"/home/yaning/Documents/python_env/pyro/lib/python3.11/site-packages/torch/autograd/__init__.py\", line 411, in grad\n",
      "    result = Variable._execution_engine.run_backward(  # Calls into the C++ engine to run the backward pass\n",
      "             ^^^^^^^^^^^^^^^^^^^^^^^^^^^^^^^^^^^^^^^^^^^^^^^^^^^^^^^^^^^^^^^^^^^^^^^^^^^^^^^^^^^^^^^^^^^^^^\n",
      "RuntimeError: Unable to handle autograd's threading in combination with fork-based multiprocessing. See https://github.com/pytorch/pytorch/wiki/Autograd-and-Fork\n",
      "Traceback (most recent call last):\n",
      "  File \"/home/yaning/Documents/python_env/pyro/lib/python3.11/site-packages/pyro/infer/mcmc/api.py\", line 125, in run\n",
      "    for sample in _gen_samples(\n",
      "  File \"/home/yaning/Documents/python_env/pyro/lib/python3.11/site-packages/pyro/infer/mcmc/api.py\", line 144, in _gen_samples\n",
      "    kernel.setup(warmup_steps, *args, **kwargs)\n",
      "  File \"/home/yaning/Documents/python_env/pyro/lib/python3.11/site-packages/pyro/infer/mcmc/hmc.py\", line 345, in setup\n",
      "    self._initialize_model_properties(args, kwargs)\n",
      "  File \"/home/yaning/Documents/python_env/pyro/lib/python3.11/site-packages/pyro/infer/mcmc/hmc.py\", line 279, in _initialize_model_properties\n",
      "    init_params, potential_fn, transforms, trace = initialize_model(\n",
      "                                                   ^^^^^^^^^^^^^^^^^\n",
      "  File \"/home/yaning/Documents/python_env/pyro/lib/python3.11/site-packages/pyro/infer/mcmc/util.py\", line 468, in initialize_model\n",
      "    initial_params = _find_valid_initial_params(\n",
      "                     ^^^^^^^^^^^^^^^^^^^^^^^^^^^\n",
      "  File \"/home/yaning/Documents/python_env/pyro/lib/python3.11/site-packages/pyro/infer/mcmc/util.py\", line 351, in _find_valid_initial_params\n",
      "    pe_grad, pe = potential_grad(potential_fn, params)\n",
      "                  ^^^^^^^^^^^^^^^^^^^^^^^^^^^^^^^^^^^^\n",
      "  File \"/home/yaning/Documents/python_env/pyro/lib/python3.11/site-packages/pyro/ops/integrator.py\", line 91, in potential_grad\n",
      "    grads = grad(potential_energy, z_nodes)\n",
      "            ^^^^^^^^^^^^^^^^^^^^^^^^^^^^^^^\n",
      "  File \"/home/yaning/Documents/python_env/pyro/lib/python3.11/site-packages/torch/autograd/__init__.py\", line 411, in grad\n",
      "    result = Variable._execution_engine.run_backward(  # Calls into the C++ engine to run the backward pass\n",
      "             ^^^^^^^^^^^^^^^^^^^^^^^^^^^^^^^^^^^^^^^^^^^^^^^^^^^^^^^^^^^^^^^^^^^^^^^^^^^^^^^^^^^^^^^^^^^^^^\n",
      "RuntimeError: Unable to handle autograd's threading in combination with fork-based multiprocessing. See https://github.com/pytorch/pytorch/wiki/Autograd-and-Fork\n",
      "[ERROR LOG CHAIN:1]Unable to handle autograd's threading in combination with fork-based multiprocessing. See https://github.com/pytorch/pytorch/wiki/Autograd-and-Fork\n",
      "Traceback (most recent call last):\n",
      "  File \"/home/yaning/Documents/python_env/pyro/lib/python3.11/site-packages/pyro/infer/mcmc/api.py\", line 125, in run\n",
      "    for sample in _gen_samples(\n",
      "  File \"/home/yaning/Documents/python_env/pyro/lib/python3.11/site-packages/pyro/infer/mcmc/api.py\", line 144, in _gen_samples\n",
      "    kernel.setup(warmup_steps, *args, **kwargs)\n",
      "  File \"/home/yaning/Documents/python_env/pyro/lib/python3.11/site-packages/pyro/infer/mcmc/hmc.py\", line 345, in setup\n",
      "    self._initialize_model_properties(args, kwargs)\n",
      "  File \"/home/yaning/Documents/python_env/pyro/lib/python3.11/site-packages/pyro/infer/mcmc/hmc.py\", line 279, in _initialize_model_properties\n",
      "    init_params, potential_fn, transforms, trace = initialize_model(\n",
      "                                                   ^^^^^^^^^^^^^^^^^\n",
      "  File \"/home/yaning/Documents/python_env/pyro/lib/python3.11/site-packages/pyro/infer/mcmc/util.py\", line 468, in initialize_model\n",
      "    initial_params = _find_valid_initial_params(\n",
      "                     ^^^^^^^^^^^^^^^^^^^^^^^^^^^\n",
      "  File \"/home/yaning/Documents/python_env/pyro/lib/python3.11/site-packages/pyro/infer/mcmc/util.py\", line 351, in _find_valid_initial_params\n",
      "    pe_grad, pe = potential_grad(potential_fn, params)\n",
      "                  ^^^^^^^^^^^^^^^^^^^^^^^^^^^^^^^^^^^^\n",
      "  File \"/home/yaning/Documents/python_env/pyro/lib/python3.11/site-packages/pyro/ops/integrator.py\", line 91, in potential_grad\n",
      "    grads = grad(potential_energy, z_nodes)\n",
      "            ^^^^^^^^^^^^^^^^^^^^^^^^^^^^^^^\n",
      "  File \"/home/yaning/Documents/python_env/pyro/lib/python3.11/site-packages/torch/autograd/__init__.py\", line 411, in grad\n",
      "    result = Variable._execution_engine.run_backward(  # Calls into the C++ engine to run the backward pass\n",
      "             ^^^^^^^^^^^^^^^^^^^^^^^^^^^^^^^^^^^^^^^^^^^^^^^^^^^^^^^^^^^^^^^^^^^^^^^^^^^^^^^^^^^^^^^^^^^^^^\n",
      "RuntimeError: Unable to handle autograd's threading in combination with fork-based multiprocessing. See https://github.com/pytorch/pytorch/wiki/Autograd-and-Fork\n",
      "Traceback (most recent call last):\n",
      "  File \"/home/yaning/Documents/python_env/pyro/lib/python3.11/site-packages/pyro/infer/mcmc/api.py\", line 125, in run\n",
      "    for sample in _gen_samples(\n",
      "  File \"/home/yaning/Documents/python_env/pyro/lib/python3.11/site-packages/pyro/infer/mcmc/api.py\", line 144, in _gen_samples\n",
      "    kernel.setup(warmup_steps, *args, **kwargs)\n",
      "  File \"/home/yaning/Documents/python_env/pyro/lib/python3.11/site-packages/pyro/infer/mcmc/hmc.py\", line 345, in setup\n",
      "    self._initialize_model_properties(args, kwargs)\n",
      "  File \"/home/yaning/Documents/python_env/pyro/lib/python3.11/site-packages/pyro/infer/mcmc/hmc.py\", line 279, in _initialize_model_properties\n",
      "    init_params, potential_fn, transforms, trace = initialize_model(\n",
      "                                                   ^^^^^^^^^^^^^^^^^\n",
      "  File \"/home/yaning/Documents/python_env/pyro/lib/python3.11/site-packages/pyro/infer/mcmc/util.py\", line 468, in initialize_model\n",
      "    initial_params = _find_valid_initial_params(\n",
      "                     ^^^^^^^^^^^^^^^^^^^^^^^^^^^\n",
      "  File \"/home/yaning/Documents/python_env/pyro/lib/python3.11/site-packages/pyro/infer/mcmc/util.py\", line 351, in _find_valid_initial_params\n",
      "    pe_grad, pe = potential_grad(potential_fn, params)\n",
      "                  ^^^^^^^^^^^^^^^^^^^^^^^^^^^^^^^^^^^^\n",
      "  File \"/home/yaning/Documents/python_env/pyro/lib/python3.11/site-packages/pyro/ops/integrator.py\", line 91, in potential_grad\n",
      "    grads = grad(potential_energy, z_nodes)\n",
      "            ^^^^^^^^^^^^^^^^^^^^^^^^^^^^^^^\n",
      "  File \"/home/yaning/Documents/python_env/pyro/lib/python3.11/site-packages/torch/autograd/__init__.py\", line 411, in grad\n",
      "    result = Variable._execution_engine.run_backward(  # Calls into the C++ engine to run the backward pass\n",
      "             ^^^^^^^^^^^^^^^^^^^^^^^^^^^^^^^^^^^^^^^^^^^^^^^^^^^^^^^^^^^^^^^^^^^^^^^^^^^^^^^^^^^^^^^^^^^^^^\n",
      "RuntimeError: Unable to handle autograd's threading in combination with fork-based multiprocessing. See https://github.com/pytorch/pytorch/wiki/Autograd-and-Fork\n"
     ]
    },
    {
     "ename": "RuntimeError",
     "evalue": "Unable to handle autograd's threading in combination with fork-based multiprocessing. See https://github.com/pytorch/pytorch/wiki/Autograd-and-Fork",
     "output_type": "error",
     "traceback": [
      "\u001b[0;31m---------------------------------------------------------------------------\u001b[0m",
      "\u001b[0;31mRuntimeError\u001b[0m                              Traceback (most recent call last)",
      "Cell \u001b[0;32mIn[13], line 37\u001b[0m\n\u001b[1;32m     34\u001b[0m mcmc_kernel \u001b[38;5;241m=\u001b[39m NUTS(model)                                               \u001b[38;5;66;03m# initialize proposal distribution kernel\u001b[39;00m\n\u001b[1;32m     35\u001b[0m mcmc \u001b[38;5;241m=\u001b[39m MCMC(mcmc_kernel, num_samples\u001b[38;5;241m=\u001b[39msample_num, num_chains \u001b[38;5;241m=\u001b[39m chain_num, warmup_steps\u001b[38;5;241m=\u001b[39m\u001b[38;5;241m50\u001b[39m)  \u001b[38;5;66;03m# initialize MCMC class\u001b[39;00m\n\u001b[0;32m---> 37\u001b[0m \u001b[43mmcmc\u001b[49m\u001b[38;5;241;43m.\u001b[39;49m\u001b[43mrun\u001b[49m\u001b[43m(\u001b[49m\u001b[43mactions\u001b[49m\u001b[43m,\u001b[49m\u001b[43m \u001b[49m\u001b[43mdelays\u001b[49m\u001b[43m,\u001b[49m\u001b[43m \u001b[49m\u001b[43mss_values\u001b[49m\u001b[43m,\u001b[49m\u001b[43m \u001b[49m\u001b[43mll_values\u001b[49m\u001b[43m)\u001b[49m\n",
      "File \u001b[0;32m~/Documents/python_env/pyro/lib/python3.11/site-packages/pyro/poutine/messenger.py:12\u001b[0m, in \u001b[0;36m_context_wrap\u001b[0;34m(context, fn, *args, **kwargs)\u001b[0m\n\u001b[1;32m     10\u001b[0m \u001b[38;5;28;01mdef\u001b[39;00m \u001b[38;5;21m_context_wrap\u001b[39m(context, fn, \u001b[38;5;241m*\u001b[39margs, \u001b[38;5;241m*\u001b[39m\u001b[38;5;241m*\u001b[39mkwargs):\n\u001b[1;32m     11\u001b[0m     \u001b[38;5;28;01mwith\u001b[39;00m context:\n\u001b[0;32m---> 12\u001b[0m         \u001b[38;5;28;01mreturn\u001b[39;00m \u001b[43mfn\u001b[49m\u001b[43m(\u001b[49m\u001b[38;5;241;43m*\u001b[39;49m\u001b[43margs\u001b[49m\u001b[43m,\u001b[49m\u001b[43m \u001b[49m\u001b[38;5;241;43m*\u001b[39;49m\u001b[38;5;241;43m*\u001b[39;49m\u001b[43mkwargs\u001b[49m\u001b[43m)\u001b[49m\n",
      "File \u001b[0;32m~/Documents/python_env/pyro/lib/python3.11/site-packages/pyro/infer/mcmc/api.py:563\u001b[0m, in \u001b[0;36mMCMC.run\u001b[0;34m(self, *args, **kwargs)\u001b[0m\n\u001b[1;32m    554\u001b[0m \u001b[38;5;28;01mwith\u001b[39;00m optional(\n\u001b[1;32m    555\u001b[0m     pyro\u001b[38;5;241m.\u001b[39mvalidation_enabled(\u001b[38;5;129;01mnot\u001b[39;00m \u001b[38;5;28mself\u001b[39m\u001b[38;5;241m.\u001b[39mdisable_validation),\n\u001b[1;32m    556\u001b[0m     \u001b[38;5;28mself\u001b[39m\u001b[38;5;241m.\u001b[39mdisable_validation \u001b[38;5;129;01mis\u001b[39;00m \u001b[38;5;129;01mnot\u001b[39;00m \u001b[38;5;28;01mNone\u001b[39;00m,\n\u001b[0;32m   (...)\u001b[0m\n\u001b[1;32m    560\u001b[0m     \u001b[38;5;66;03m# This also resolves \"RuntimeError: Cowardly refusing to serialize non-leaf tensor which\u001b[39;00m\n\u001b[1;32m    561\u001b[0m     \u001b[38;5;66;03m# requires_grad\", which happens with `jit_compile` under PyTorch 1.7\u001b[39;00m\n\u001b[1;32m    562\u001b[0m     args \u001b[38;5;241m=\u001b[39m [arg\u001b[38;5;241m.\u001b[39mdetach() \u001b[38;5;28;01mif\u001b[39;00m torch\u001b[38;5;241m.\u001b[39mis_tensor(arg) \u001b[38;5;28;01melse\u001b[39;00m arg \u001b[38;5;28;01mfor\u001b[39;00m arg \u001b[38;5;129;01min\u001b[39;00m args]\n\u001b[0;32m--> 563\u001b[0m \u001b[43m    \u001b[49m\u001b[38;5;28;43;01mfor\u001b[39;49;00m\u001b[43m \u001b[49m\u001b[43mx\u001b[49m\u001b[43m,\u001b[49m\u001b[43m \u001b[49m\u001b[43mchain_id\u001b[49m\u001b[43m \u001b[49m\u001b[38;5;129;43;01min\u001b[39;49;00m\u001b[43m \u001b[49m\u001b[38;5;28;43mself\u001b[39;49m\u001b[38;5;241;43m.\u001b[39;49m\u001b[43msampler\u001b[49m\u001b[38;5;241;43m.\u001b[39;49m\u001b[43mrun\u001b[49m\u001b[43m(\u001b[49m\u001b[38;5;241;43m*\u001b[39;49m\u001b[43margs\u001b[49m\u001b[43m,\u001b[49m\u001b[43m \u001b[49m\u001b[38;5;241;43m*\u001b[39;49m\u001b[38;5;241;43m*\u001b[39;49m\u001b[43mkwargs\u001b[49m\u001b[43m)\u001b[49m\u001b[43m:\u001b[49m\n\u001b[1;32m    564\u001b[0m \u001b[43m        \u001b[49m\u001b[38;5;28;43;01mif\u001b[39;49;00m\u001b[43m \u001b[49m\u001b[43mnum_samples\u001b[49m\u001b[43m[\u001b[49m\u001b[43mchain_id\u001b[49m\u001b[43m]\u001b[49m\u001b[43m \u001b[49m\u001b[38;5;241;43m==\u001b[39;49m\u001b[43m \u001b[49m\u001b[38;5;241;43m0\u001b[39;49m\u001b[43m:\u001b[49m\n\u001b[1;32m    565\u001b[0m \u001b[43m            \u001b[49m\u001b[43mnum_samples\u001b[49m\u001b[43m[\u001b[49m\u001b[43mchain_id\u001b[49m\u001b[43m]\u001b[49m\u001b[43m \u001b[49m\u001b[38;5;241;43m+\u001b[39;49m\u001b[38;5;241;43m=\u001b[39;49m\u001b[43m \u001b[49m\u001b[38;5;241;43m1\u001b[39;49m\n",
      "File \u001b[0;32m~/Documents/python_env/pyro/lib/python3.11/site-packages/pyro/infer/mcmc/api.py:341\u001b[0m, in \u001b[0;36m_MultiSampler.run\u001b[0;34m(self, *args, **kwargs)\u001b[0m\n\u001b[1;32m    338\u001b[0m     \u001b[38;5;28;01mcontinue\u001b[39;00m\n\u001b[1;32m    339\u001b[0m \u001b[38;5;28;01mif\u001b[39;00m \u001b[38;5;28misinstance\u001b[39m(val, \u001b[38;5;167;01mException\u001b[39;00m):\n\u001b[1;32m    340\u001b[0m     \u001b[38;5;66;03m# Exception trace is already logged by worker.\u001b[39;00m\n\u001b[0;32m--> 341\u001b[0m     \u001b[38;5;28;01mraise\u001b[39;00m val\n\u001b[1;32m    342\u001b[0m \u001b[38;5;28;01mif\u001b[39;00m val \u001b[38;5;129;01mis\u001b[39;00m \u001b[38;5;129;01mnot\u001b[39;00m \u001b[38;5;28;01mNone\u001b[39;00m:\n\u001b[1;32m    343\u001b[0m     \u001b[38;5;28;01myield\u001b[39;00m val, chain_id\n",
      "\u001b[0;31mRuntimeError\u001b[0m: Unable to handle autograd's threading in combination with fork-based multiprocessing. See https://github.com/pytorch/pytorch/wiki/Autograd-and-Fork"
     ]
    }
   ],
   "source": [
    "# MCMC model\n",
    "# simulate parameters:\n",
    "# mean_u 0\n",
    "# var_u 3\n",
    "# var_es 0.5\n",
    "\n",
    "chain_num = 3\n",
    "sample_num = 300\n",
    "def model(actions, delays, ss_values, ll_values):\n",
    "    mean_u = pyro.sample(\"mean_u\", Normal(loc = torch.tensor(0.), scale = torch.tensor(2.)))\n",
    "    # sigma_u = pyro.sample(\"sigma_u\", Gamma(torch.tensor(1.), torch.tensor(2.)))\n",
    "    # sigma_es = pyro.sample(\"sigma_es\", Gamma(torch.tensor(2.), torch.tensor(1.)))\n",
    "    log_sigma_u = pyro.sample(\"log_sigma_u\", Normal(torch.tensor(1.), torch.tensor(2.)))\n",
    "    log_sigma_es = pyro.sample(\"log_sigma_es\", Normal(torch.tensor(1.), torch.tensor(2.)))\n",
    "    beta = pyro.sample(\"beta\", Gamma(torch.tensor(1.), torch.tensor(2.)))\n",
    "    num = actions.shape[0]\n",
    "    e_vals = []\n",
    "    # for i, actions, delays, ss_values, ll_values in zip(range(len(actions)), actions, delays, ss_values, ll_values):\n",
    "    #     # with pyro.plate(\"num\", num):\n",
    "    #     e = (mean_u*delays*var_es + ll_values*var_u)/(delays*var_es + var_u)\n",
    "    #     p = torch.nn.functional.softmax(torch.tensor([e, ss_values]), dim = 0)[0]\n",
    "    #     return pyro.sample(\"obs\", Bernoulli(probs = p), obs=actions)\n",
    "    with pyro.plate(\"num\", num):\n",
    "        sigma_u = torch.exp(log_sigma_u)\n",
    "        sigma_es = torch.exp(log_sigma_es)\n",
    "        e_vals.append((mean_u*delays*sigma_es + ll_values*sigma_u)/(delays*sigma_es + sigma_u))\n",
    "        softmax_args = torch.stack([beta*e_vals[-1], beta*ss_values])\n",
    "        p = torch.softmax(softmax_args, dim = 0)[0]\n",
    "        return pyro.sample(\"obs\", Bernoulli(probs = p), obs=actions)\n",
    "# pyro.render_model(model, model_args=(actions, delays, ss_values, ll_values), render_params=True, render_distributions=True)\n",
    "\n",
    "\n",
    "\n",
    "mcmc_kernel = NUTS(model)                                               # initialize proposal distribution kernel\n",
    "mcmc = MCMC(mcmc_kernel, num_samples=sample_num, num_chains = chain_num, warmup_steps=50)  # initialize MCMC class\n",
    "\n",
    "mcmc.run(actions, delays, ss_values, ll_values)"
   ]
  },
  {
   "cell_type": "code",
   "execution_count": 15,
   "metadata": {},
   "outputs": [],
   "source": [
    "mcmc_kernel.cleanup()\n",
    "mcmc_kernel.clear_cache()"
   ]
  },
  {
   "cell_type": "code",
   "execution_count": 27,
   "metadata": {},
   "outputs": [],
   "source": [
    "mcmc_kernel.end_warmup()"
   ]
  },
  {
   "cell_type": "code",
   "execution_count": 7,
   "metadata": {},
   "outputs": [
    {
     "name": "stdout",
     "output_type": "stream",
     "text": [
      "\n",
      "                    mean       std    median      5.0%     95.0%     n_eff     r_hat\n",
      "          beta      0.42      0.08      0.41      0.29      0.53    606.77      1.00\n",
      "  log_sigma_es      0.30      1.49      0.31     -2.50      2.50    207.77      1.02\n",
      "   log_sigma_u      1.81      1.51      1.84     -0.50      4.54    212.80      1.02\n",
      "        mean_u     -0.40      1.97     -0.35     -3.45      2.77    522.95      1.01\n",
      "\n",
      "Number of divergences: 0\n"
     ]
    }
   ],
   "source": [
    "test = mcmc.summary(prob=0.9)"
   ]
  },
  {
   "cell_type": "code",
   "execution_count": 8,
   "metadata": {},
   "outputs": [
    {
     "data": {
      "image/png": "[encoded data removed]",
      "text/plain": [
       "<Figure size 800x800 with 4 Axes>"
      ]
     },
     "metadata": {},
     "output_type": "display_data"
    }
   ],
   "source": [
    "# get posterior with pandas dataframe\n",
    "fig, axs = plt.subplots(2, 2, figsize=(8, 8))\n",
    "\n",
    "mean_u = pd.DataFrame(mcmc.get_samples()['mean_u'],columns=['mean_u'])\n",
    "mean_u['chain_mean_u'] = torch.tensor([1,2,3]).repeat(300)\n",
    "sns.histplot(data=mean_u, x='mean_u',hue='chain_mean_u', palette=['white', 'pink', 'red'], ax=axs[0,0])\n",
    "\n",
    "log_sigma_u = pd.DataFrame(mcmc.get_samples()['log_sigma_u'],columns=['log_sigma_u'])\n",
    "log_sigma_u['chain_log_sigma_u'] = torch.tensor([1,2,3]).repeat(300)\n",
    "sns.histplot(data=log_sigma_u, x='log_sigma_u',hue='chain_log_sigma_u', palette=['white', 'skyblue', 'darkblue'], ax=axs[0,1])\n",
    "\n",
    "log_sigma_es = pd.DataFrame(mcmc.get_samples()['log_sigma_es'],columns=['log_sigma_es'])\n",
    "log_sigma_es['chain_log_sigma_es'] = torch.tensor([1,2,3]).repeat(300)\n",
    "sns.histplot(data=log_sigma_es, x='log_sigma_es',hue='chain_log_sigma_es', palette=['white', 'lightgreen', 'green'], ax=axs[1,0])\n",
    "\n",
    "beta = pd.DataFrame(mcmc.get_samples()['beta'],columns=['beta'])\n",
    "beta['chain_beta'] = torch.tensor([1,2,3]).repeat(300)\n",
    "sns.histplot(data=beta, x='beta',hue='chain_beta', palette=['white', 'lightyellow', 'yellow'], ax=axs[1,1])\n",
    "\n",
    "plt.show()"
   ]
  },
  {
   "cell_type": "code",
   "execution_count": 10,
   "metadata": {},
   "outputs": [],
   "source": [
    "results = pd.concat([mean_u, log_sigma_u, log_sigma_es, beta], axis=1, join='inner')"
   ]
  },
  {
   "cell_type": "code",
   "execution_count": 11,
   "metadata": {},
   "outputs": [],
   "source": [
    "results.to_csv('Documents/pyro_models/results/MCMC_mit_log_gamble_0.csv', index=False)"
   ]
  }
 ],
 "metadata": {
  "kernelspec": {
   "display_name": "Python 3 (ipykernel)",
   "language": "python",
   "name": "python3"
  },
  "language_info": {
   "codemirror_mode": {
    "name": "ipython",
    "version": 3
   },
   "file_extension": ".py",
   "mimetype": "text/x-python",
   "name": "python",
   "nbconvert_exporter": "python",
   "pygments_lexer": "ipython3",
   "version": "3.11.6"
  }
 },
 "nbformat": 4,
 "nbformat_minor": 4
}
