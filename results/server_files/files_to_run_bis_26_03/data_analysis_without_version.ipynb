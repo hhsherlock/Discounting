{
 "cells": [
  {
   "cell_type": "code",
   "execution_count": 1,
   "metadata": {},
   "outputs": [],
   "source": [
    "#!/usr/bin/env python3\n",
    "# -*- coding: utf-8 -*-\n",
    "\"\"\"\n",
    "Created on Mon Feb 26 2024\n",
    "\n",
    "@author: Yaning\n",
    "\"\"\"\n",
    "\n",
    "import csv \n",
    "import numpy as np"
   ]
  },
  {
   "cell_type": "code",
   "execution_count": 3,
   "metadata": {},
   "outputs": [],
   "source": [
    "# change all the string elements to integers\n",
    "str_to_float = lambda x: [float(i) for i in x]"
   ]
  },
  {
   "cell_type": "code",
   "execution_count": 4,
   "metadata": {},
   "outputs": [],
   "source": [
    "file = open('Documents/pyro_models/files_to_run/intertemporal_choice_dataset_all_trials.csv')"
   ]
  },
  {
   "cell_type": "code",
   "execution_count": 5,
   "metadata": {},
   "outputs": [],
   "source": [
    "csvreader = csv.reader(file)"
   ]
  },
  {
   "cell_type": "code",
   "execution_count": 6,
   "metadata": {},
   "outputs": [
    {
     "name": "stdout",
     "output_type": "stream",
     "text": [
      "['', 'trial', 'val_basic', 'delay', 'val_prc', 'response', 'RT', 'respSide', 'sideNOW', 'Version', 'loopID', 'Context']\n"
     ]
    }
   ],
   "source": [
    "header = []\n",
    "header = next(csvreader)\n",
    "print(header)"
   ]
  },
  {
   "cell_type": "code",
   "execution_count": 7,
   "metadata": {},
   "outputs": [],
   "source": [
    "# [[context1], [[context2]]\n",
    "data = [[], []]\n",
    "n_trial = 170\n",
    "\n",
    "for row in csvreader:\n",
    "    if row[11] == '0':\n",
    "        individual = []\n",
    "        individual.append(str_to_float(row[1:7]) + str_to_float(row[10:]))\n",
    "        for i in range(n_trial-1):\n",
    "            next_row = next(csvreader)\n",
    "            kurz_next_row = str_to_float(next_row[1:7]) + str_to_float(next_row[10:])\n",
    "            individual.append(kurz_next_row)\n",
    "        data[0].append(individual)\n",
    "    elif row[11] == '1':\n",
    "        individual = []\n",
    "        individual.append(str_to_float(row[1:7]) + str_to_float(row[10:]))\n",
    "        for i in range(n_trial-1):\n",
    "            next_row = next(csvreader)\n",
    "            kurz_next_row = str_to_float(next_row[1:7]) + str_to_float(next_row[10:])\n",
    "            individual.append(kurz_next_row)\n",
    "        data[1].append(individual)"
   ]
  },
  {
   "cell_type": "code",
   "execution_count": 8,
   "metadata": {},
   "outputs": [],
   "source": [
    "data = np.array(data)"
   ]
  },
  {
   "cell_type": "code",
   "execution_count": 9,
   "metadata": {},
   "outputs": [],
   "source": [
    "# divide all delays with 10 (because it is too big like 100 something)\n",
    "data[:,:,:,2] = np.array([i / 10 for i in data[:,:,:,2]])\n",
    "\n",
    "# multiply val_prc and val_basic (because val_prc is percentage compared to ss)\n",
    "data[:,:,:,3] = np.array(data[:,:,:,1] * data[:,:,:,3])"
   ]
  },
  {
   "cell_type": "code",
   "execution_count": 10,
   "metadata": {},
   "outputs": [],
   "source": [
    "file.close()"
   ]
  }
 ],
 "metadata": {
  "kernelspec": {
   "display_name": "Python 3 (ipykernel)",
   "language": "python",
   "name": "python3"
  }
 },
 "nbformat": 4,
 "nbformat_minor": 2
}
