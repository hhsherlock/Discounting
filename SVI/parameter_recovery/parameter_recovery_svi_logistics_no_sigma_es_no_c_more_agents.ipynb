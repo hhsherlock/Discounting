{
 "cells": [
  {
   "cell_type": "code",
   "execution_count": 1,
   "metadata": {},
   "outputs": [
    {
     "name": "stderr",
     "output_type": "stream",
     "text": [
      "/home/yaning/Documents/pyro_models/files_to_run/no_sigma_es_no_c_more_agents.py:24: DeprecationWarning: \n",
      "Pyarrow will become a required dependency of pandas in the next major release of pandas (pandas 3.0),\n",
      "(to allow more performant data types, such as the Arrow string type, and better interoperability with other libraries)\n",
      "but was not found to be installed on your system.\n",
      "If this would cause problems for you,\n",
      "please provide us feedback at https://github.com/pandas-dev/pandas/issues/54466\n",
      "        \n",
      "  import pandas as pd\n"
     ]
    }
   ],
   "source": [
    "#!/usr/bin/env python3\n",
    "# -*- coding: utf-8 -*-\n",
    "\"\"\"\n",
    "Created on Fri May 24 2024\n",
    "\n",
    "@author: Yaning\n",
    "\"\"\"\n",
    "\n",
    "import os\n",
    "import numpy as np\n",
    "# from turtle import position\n",
    "import torch\n",
    "import pyro\n",
    "from pyro.optim import Adam\n",
    "from pyro.infer import SVI, Trace_ELBO\n",
    "from tqdm import tqdm\n",
    "import matplotlib.pyplot as plt\n",
    "from statistics import mean\n",
    "import itertools\n",
    "import pyro.distributions as dist\n",
    "\n",
    "%run Documents/pyro_models/files_to_run/no_sigma_es_no_c_more_agents.py"
   ]
  },
  {
   "cell_type": "code",
   "execution_count": 2,
   "metadata": {},
   "outputs": [],
   "source": [
    "# initialise the param sample range (according to the already inferred results)\n",
    "mean_u_list = np.linspace(-2., 2., 1000)\n",
    "log_sigma_u_list = np.linspace(-2., 2., 1000)\n",
    "log_a_list = np.linspace(-2., 2., 1000)\n",
    "log_b_list = np.linspace(-2., 2., 1000)\n",
    "log_beta_list = np.linspace(-2, 2.5, 1000)\n",
    "\n",
    "param_list_list = [mean_u_list, log_sigma_u_list, \n",
    "                   log_a_list, log_b_list, log_beta_list]\n",
    "\n",
    "# initialise environment values\n",
    "repetition = 10\n",
    "real_delays = [  1.,   2.,   3.,   4.,   6.,   7.,  13.,  14.,  23.,  24.,  29.,\n",
    "        32.,  45.,  50.,  58.,  62.,  73.,  75., 118., 122.]\n",
    "delays =  [i / 10 for i in real_delays]\n",
    "SS_values = [20.]\n",
    "\n",
    "# LL values by percentage of SS\n",
    "LL_values_p = [1.02  , 1.025 , 1.0255, 1.05  , 1.055 , 1.08  , 1.085 , 1.15  ,\n",
    "       1.2   , 1.25  , 1.33  , 1.35  , 1.45  , 1.47  , 1.5   , 1.55  ,\n",
    "       1.65  , 1.7   , 1.83  , 1.85  , 1.9   , 2.05  , 2.07  , 2.25  ,\n",
    "       2.3   , 2.5   , 2.55  , 2.8   , 2.85  , 3.05  , 3.1   , 3.45  ,\n",
    "       3.5   , 3.8   , 3.85  ]\n",
    "\n",
    "LL_values = []\n",
    "for i in LL_values_p:\n",
    "    LL_values.append(i*20.)\n",
    "\n",
    "environment_list = [repetition, delays, SS_values, LL_values]\n",
    "\n",
    "# get all the combinations of the arrays\n",
    "combinations = list(itertools.product(environment_list[1], environment_list[2], environment_list[3]))\n",
    "# every combination appears ten times\n",
    "multiplied_array = [x for x in combinations for _ in range(environment_list[0])]\n",
    "multiplied_array = np.array(multiplied_array)\n",
    "trial_num = multiplied_array.shape[0]\n",
    "whole = multiplied_array"
   ]
  },
  {
   "cell_type": "code",
   "execution_count": 3,
   "metadata": {},
   "outputs": [],
   "source": [
    "def sample_param():\n",
    "    mean_u = np.random.choice(param_list_list[0])\n",
    "    log_sigma_u = np.random.choice(param_list_list[1])\n",
    "    log_a = np.random.choice(param_list_list[2])\n",
    "    log_b = np.random.choice(param_list_list[3])\n",
    "    log_beta = np.random.choice(param_list_list[4])\n",
    "\n",
    "    params = [mean_u, log_sigma_u,  \n",
    "              log_a, log_b, log_beta]\n",
    "    \n",
    "    return params"
   ]
  },
  {
   "cell_type": "code",
   "execution_count": 4,
   "metadata": {},
   "outputs": [],
   "source": [
    "# get the actions and add them to the data\n",
    "def simulation(params):\n",
    "\n",
    "    mean_u = params[0]\n",
    "    mean_u = np.repeat([mean_u], trial_num)\n",
    "\n",
    "    sigma_u = np.exp(params[1])\n",
    "    sigma_u = np.repeat([sigma_u], trial_num)\n",
    "\n",
    "    a = np.exp(params[2])\n",
    "    a = np.repeat([a], trial_num)\n",
    "\n",
    "    b = np.exp(params[3])\n",
    "    b = np.repeat([b], trial_num)\n",
    "\n",
    "    beta = np.repeat([np.exp(params[4])], trial_num)\n",
    "\n",
    "    delay = 1/(1+b*np.exp(-a*whole[:,0]))\n",
    "\n",
    "    # major calculation \n",
    "    inferred_estimation = (mean_u*delay**2 + \n",
    "                        whole[:,2]*sigma_u**2)/(delay**2 + sigma_u**2)\n",
    "    \n",
    "    inferred_sigma = ((sigma_u**2*delay**2)/(sigma_u**2 + delay**2))**0.5\n",
    "\n",
    "\n",
    "\n",
    "\n",
    "\n",
    "    # change everything to tensor\n",
    "    # whole = torch.tensor(whole)\n",
    "    inferred_estimation = torch.tensor(inferred_estimation)\n",
    "    inferred_sigma = torch.tensor(inferred_sigma)\n",
    "    beta = torch.tensor(beta)\n",
    "\n",
    "    e_dist  = dist.Normal(inferred_estimation, inferred_sigma)\n",
    "    pos = 1 - e_dist.cdf(torch.tensor(20.))\n",
    "    softmax_args = torch.stack([beta*pos, beta*(1-pos)])\n",
    "    p = torch.softmax(softmax_args, dim = 0)[0]\n",
    "\n",
    "    inferred_response_distr = dist.Bernoulli(probs=p)\n",
    "\n",
    "    # get one possible predict actions\n",
    "    inferred_response = inferred_response_distr.sample()\n",
    "\n",
    "    return inferred_response"
   ]
  },
  {
   "cell_type": "code",
   "execution_count": 5,
   "metadata": {},
   "outputs": [],
   "source": [
    "# if the percentage is lower than 0.1 or bigger than 0.9 then not using\n",
    "# if the percentage fits the requirement then is good = 1\n",
    "def check_percentage(params):\n",
    "    good = 0\n",
    "    inferred_response = simulation(params)\n",
    "    choose_LL_percentage = len(list(filter(lambda x: (x == 1), inferred_response))\n",
    "                            ) / len(inferred_response)\n",
    "    if choose_LL_percentage > 0.10 and choose_LL_percentage < 0.90:\n",
    "        good = 1\n",
    "    return good, inferred_response, choose_LL_percentage"
   ]
  },
  {
   "cell_type": "code",
   "execution_count": 43,
   "metadata": {},
   "outputs": [
    {
     "ename": "KeyboardInterrupt",
     "evalue": "",
     "output_type": "error",
     "traceback": [
      "\u001b[0;31m---------------------------------------------------------------------------\u001b[0m",
      "\u001b[0;31mKeyboardInterrupt\u001b[0m                         Traceback (most recent call last)",
      "Cell \u001b[0;32mIn[43], line 9\u001b[0m\n\u001b[1;32m      7\u001b[0m \u001b[38;5;28;01mwhile\u001b[39;00m \u001b[38;5;28mlen\u001b[39m(good_params) \u001b[38;5;241m<\u001b[39m sample_num:\n\u001b[1;32m      8\u001b[0m     params \u001b[38;5;241m=\u001b[39m sample_param()\n\u001b[0;32m----> 9\u001b[0m     \u001b[38;5;28;01mif\u001b[39;00m \u001b[43mcheck_percentage\u001b[49m\u001b[43m(\u001b[49m\u001b[43mparams\u001b[49m\u001b[43m)\u001b[49m[\u001b[38;5;241m0\u001b[39m] \u001b[38;5;241m==\u001b[39m \u001b[38;5;241m1\u001b[39m:\n\u001b[1;32m     10\u001b[0m         good_params\u001b[38;5;241m.\u001b[39mappend(params)\n\u001b[1;32m     11\u001b[0m good_params \u001b[38;5;241m=\u001b[39m np\u001b[38;5;241m.\u001b[39marray(good_params)\n",
      "Cell \u001b[0;32mIn[5], line 4\u001b[0m, in \u001b[0;36mcheck_percentage\u001b[0;34m(params)\u001b[0m\n\u001b[1;32m      2\u001b[0m good \u001b[38;5;241m=\u001b[39m \u001b[38;5;241m0\u001b[39m\n\u001b[1;32m      3\u001b[0m inferred_response \u001b[38;5;241m=\u001b[39m simulation(params)\n\u001b[0;32m----> 4\u001b[0m choose_LL_percentage \u001b[38;5;241m=\u001b[39m \u001b[38;5;28mlen\u001b[39m(\u001b[38;5;28mlist\u001b[39m(\u001b[38;5;28mfilter\u001b[39m(\u001b[38;5;28;01mlambda\u001b[39;00m x: (x \u001b[38;5;241m==\u001b[39m \u001b[38;5;241m1\u001b[39m), inferred_response))\n\u001b[1;32m      5\u001b[0m                         ) \u001b[38;5;241m/\u001b[39m \u001b[38;5;28mlen\u001b[39m(inferred_response)\n\u001b[1;32m      6\u001b[0m \u001b[38;5;28;01mif\u001b[39;00m choose_LL_percentage \u001b[38;5;241m>\u001b[39m \u001b[38;5;241m0.10\u001b[39m \u001b[38;5;129;01mand\u001b[39;00m choose_LL_percentage \u001b[38;5;241m<\u001b[39m \u001b[38;5;241m0.90\u001b[39m:\n\u001b[1;32m      7\u001b[0m     good \u001b[38;5;241m=\u001b[39m \u001b[38;5;241m1\u001b[39m\n",
      "Cell \u001b[0;32mIn[5], line 4\u001b[0m, in \u001b[0;36mcheck_percentage.<locals>.<lambda>\u001b[0;34m(x)\u001b[0m\n\u001b[1;32m      2\u001b[0m good \u001b[38;5;241m=\u001b[39m \u001b[38;5;241m0\u001b[39m\n\u001b[1;32m      3\u001b[0m inferred_response \u001b[38;5;241m=\u001b[39m simulation(params)\n\u001b[0;32m----> 4\u001b[0m choose_LL_percentage \u001b[38;5;241m=\u001b[39m \u001b[38;5;28mlen\u001b[39m(\u001b[38;5;28mlist\u001b[39m(\u001b[38;5;28mfilter\u001b[39m(\u001b[38;5;28;01mlambda\u001b[39;00m x: (x \u001b[38;5;241m==\u001b[39m \u001b[38;5;241m1\u001b[39m), inferred_response))\n\u001b[1;32m      5\u001b[0m                         ) \u001b[38;5;241m/\u001b[39m \u001b[38;5;28mlen\u001b[39m(inferred_response)\n\u001b[1;32m      6\u001b[0m \u001b[38;5;28;01mif\u001b[39;00m choose_LL_percentage \u001b[38;5;241m>\u001b[39m \u001b[38;5;241m0.10\u001b[39m \u001b[38;5;129;01mand\u001b[39;00m choose_LL_percentage \u001b[38;5;241m<\u001b[39m \u001b[38;5;241m0.90\u001b[39m:\n\u001b[1;32m      7\u001b[0m     good \u001b[38;5;241m=\u001b[39m \u001b[38;5;241m1\u001b[39m\n",
      "\u001b[0;31mKeyboardInterrupt\u001b[0m: "
     ]
    }
   ],
   "source": [
    "sample_num = 1000\n",
    "agent_num = 50\n",
    "\n",
    "# get an array of good parameters\n",
    "good_params = []\n",
    "\n",
    "while len(good_params) < sample_num:\n",
    "    params = sample_param()\n",
    "    if check_percentage(params)[0] == 1:\n",
    "        good_params.append(params)\n",
    "good_params = np.array(good_params)"
   ]
  },
  {
   "cell_type": "code",
   "execution_count": 27,
   "metadata": {},
   "outputs": [
    {
     "name": "stdout",
     "output_type": "stream",
     "text": [
      "0.5362857142857143\n",
      "0.597\n",
      "0.4431428571428571\n",
      "0.45714285714285713\n",
      "0.5897142857142857\n"
     ]
    }
   ],
   "source": [
    "# get the actions for each agent with the good_params\n",
    "# each agent sample from the good_params array\n",
    "data = []\n",
    "param = []\n",
    "for i in range(agent_num):\n",
    "    one_agent_param = good_params[np.random.choice(good_params.shape[0])]\n",
    "    param.append(one_agent_param)\n",
    "    one_agent_data = []\n",
    "    while len(one_agent_data) == 0:\n",
    "        good, inferred_response, choose_percentage = check_percentage(one_agent_param)\n",
    "        if good == 1:\n",
    "            one_agent_data = np.hstack((whole, inferred_response.reshape(-1,1)))\n",
    "        print(choose_percentage)\n",
    "    data.append(one_agent_data)"
   ]
  },
  {
   "cell_type": "code",
   "execution_count": 28,
   "metadata": {},
   "outputs": [],
   "source": [
    "data = np.array(data)\n",
    "param = np.array(param)"
   ]
  },
  {
   "cell_type": "code",
   "execution_count": 29,
   "metadata": {},
   "outputs": [
    {
     "name": "stderr",
     "output_type": "stream",
     "text": [
      "Mean ELBO 23895.20: 100%|███████████████████████████████████████| 2000/2000 [00:34<00:00, 57.78it/s]\n"
     ]
    },
    {
     "data": {
      "image/png": "[encoded data removed]",
      "text/plain": [
       "<Figure size 640x480 with 1 Axes>"
      ]
     },
     "metadata": {},
     "output_type": "display_data"
    }
   ],
   "source": [
    "# doing inference\n",
    "\n",
    "real_data = data\n",
    "real_data = torch.tensor(real_data).to('cuda')\n",
    "# this is for running the notebook in our testing framework\n",
    "smoke_test = ('CI' in os.environ)\n",
    "# the step was 2000\n",
    "n_steps = 2 if smoke_test else 2000\n",
    "\n",
    "# assert pyro.__version__.startswith('1.8.6')\n",
    "\n",
    "# clear the param store in case we're in a REPL\n",
    "pyro.clear_param_store()# setup the optimizer\n",
    "# the learning rate was 0.0005 , \"betas\": (0.90, 0.999)\n",
    "# tried \"n_par\":15 in adam params but it does not have this argument\n",
    "adam_params = {\"lr\": 0.01}\n",
    "optimizer = Adam(adam_params)\n",
    "# setup the inference algorithm\n",
    "svi = SVI(model, guide, optimizer, loss=Trace_ELBO())\n",
    "# svi = SVI(model_gamma, guide_gamma, optimizer, loss=Trace_ELBO())\n",
    "\n",
    "loss = []\n",
    "pbar = tqdm(range(n_steps), position = 0)\n",
    "# do gradient steps\n",
    "for step in pbar:\n",
    "    loss.append(torch.tensor(svi.step(real_data)))\n",
    "    pbar.set_description(\"Mean ELBO %6.2f\" % torch.tensor(loss[-20:]).mean())\n",
    "    # for name, value in pyro.get_param_store().items():\n",
    "    #     print(name, pyro.param(name))\n",
    "    if torch.isnan(loss[-1]):\n",
    "        break\n",
    "\n",
    "plt.figure()\n",
    "plt.plot(loss)\n",
    "plt.xlabel(\"iter step\")\n",
    "plt.ylabel(\"ELBO loss\")\n",
    "plt.title(\"ELBO minimization during inference\")\n",
    "\n",
    "# plt.savefig(str(param_list[i][j]) +'.png')\n",
    "\n",
    "post_dict = {}\n",
    "for name, value in pyro.get_param_store().items():\n",
    "    post_dict[name] = value\n"
   ]
  },
  {
   "cell_type": "code",
   "execution_count": 31,
   "metadata": {},
   "outputs": [],
   "source": [
    "pos_dict = {}\n",
    "for name, value in pyro.get_param_store().items():\n",
    "    pos_dict[name] = value\n",
    "\n",
    "# change the dictionary to numpy instead of tensor\n",
    "# because somehow the tensor cannot be save with pickle\n",
    "numpy_dict = {key: value.cpu().detach().numpy() for key, value in pos_dict.items()}"
   ]
  },
  {
   "cell_type": "code",
   "execution_count": 33,
   "metadata": {},
   "outputs": [
    {
     "data": {
      "text/plain": [
       "array([[ 0.36576322,  0.4384    , -0.85483503, -0.47723302, -1.3537744 ],\n",
       "       [ 0.955042  ,  1.114279  , -1.2909236 ,  0.78356314, -1.0588945 ],\n",
       "       [-0.90633136, -1.4585018 ,  0.7287975 , -1.1449854 , -1.6436579 ],\n",
       "       [-0.670776  , -1.5239116 ,  0.87163144, -0.8542058 , -1.8456273 ],\n",
       "       [ 0.87197506,  1.1941795 , -1.152651  ,  0.5286217 , -1.191306  ]],\n",
       "      dtype=float32)"
      ]
     },
     "execution_count": 33,
     "metadata": {},
     "output_type": "execute_result"
    }
   ],
   "source": [
    "numpy_dict['m_locs']"
   ]
  },
  {
   "cell_type": "code",
   "execution_count": 34,
   "metadata": {},
   "outputs": [
    {
     "data": {
      "text/plain": [
       "array([[ 1.08308308,  0.1981982 , -1.74774775,  0.17817818, -1.33333333],\n",
       "       [ 0.48648649,  1.25525526, -0.46246246,  1.27127127, -0.78378378],\n",
       "       [ 1.32332332, -1.43143143,  1.95195195, -0.73073073, -1.64414414],\n",
       "       [ 1.32332332, -1.43143143,  1.95195195, -0.73073073, -1.64414414],\n",
       "       [ 0.48648649,  1.25525526, -0.46246246,  1.27127127, -0.78378378]])"
      ]
     },
     "execution_count": 34,
     "metadata": {},
     "output_type": "execute_result"
    }
   ],
   "source": [
    "param"
   ]
  },
  {
   "cell_type": "code",
   "execution_count": 37,
   "metadata": {},
   "outputs": [],
   "source": [
    "both_dict = {}\n",
    "both_dict['real_param'] = param\n",
    "both_dict['inferred_param'] = numpy_dict"
   ]
  },
  {
   "cell_type": "code",
   "execution_count": 41,
   "metadata": {},
   "outputs": [],
   "source": [
    "import pickle\n",
    "# save the dictionary\n",
    "with open('Documents/pyro_models/files_to_run/results/test.pkl', 'wb') as f:\n",
    "    pickle.dump(both_dict, f)"
   ]
  }
 ],
 "metadata": {
  "kernelspec": {
   "display_name": "Python 3 (ipykernel)",
   "language": "python",
   "name": "python3"
  },
  "language_info": {
   "codemirror_mode": {
    "name": "ipython",
    "version": 3
   },
   "file_extension": ".py",
   "mimetype": "text/x-python",
   "name": "python",
   "nbconvert_exporter": "python",
   "pygments_lexer": "ipython3",
   "version": "3.11.6"
  }
 },
 "nbformat": 4,
 "nbformat_minor": 4
}
