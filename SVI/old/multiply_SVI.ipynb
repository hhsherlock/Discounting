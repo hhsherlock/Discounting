{
 "cells": [
  {
   "cell_type": "code",
   "execution_count": 8,
   "metadata": {},
   "outputs": [
    {
     "name": "stdout",
     "output_type": "stream",
     "text": [
      "['', 'trial', 'val_basic', 'delay', 'val_prc', 'response', 'RT', 'respSide', 'sideNOW', 'Version', 'loopID', 'Context']\n"
     ]
    }
   ],
   "source": [
    "#!/usr/bin/env python3\n",
    "# -*- coding: utf-8 -*-\n",
    "\"\"\"\n",
    "Created on Fri Jan 26 2024\n",
    "\n",
    "@author: Yaning\n",
    "Suggested by Sarah\n",
    "\"\"\"\n",
    "# functions for simulating agent data\n",
    "# this file address is your own\n",
    "%run Documents/pyro_models/multi_agent_simulation.py\n",
    "\n",
    "import math\n",
    "import os\n",
    "# from turtle import position\n",
    "import torch\n",
    "import torch.distributions.constraints as constraints\n",
    "import pyro\n",
    "from pyro.optim import Adam\n",
    "from pyro.infer import SVI, Trace_ELBO, Predictive\n",
    "from pyro.distributions import Beta, Binomial, HalfCauchy, Normal, Pareto, Uniform, Bernoulli, Categorical, Gamma\n",
    "from tqdm import tqdm\n",
    "import matplotlib.pyplot as plt\n",
    "from statistics import mean \n",
    "# import pandas as pd\n",
    "import numpy as np\n",
    "import scipy.stats as stats \n"
   ]
  },
  {
   "cell_type": "code",
   "execution_count": 4,
   "metadata": {},
   "outputs": [],
   "source": [
    "# prior mean 0\n",
    "# prior variance 3\n",
    "# estimation variance (uncertainty) .5 but change with delay\n",
    "mean_u_list = [torch.tensor(3.)]\n",
    "sigma_u_list = [torch.tensor(6.)]\n",
    "sigma_es_list = [torch.tensor(3.)]\n",
    "beta_list = [torch.tensor(0.8)]\n",
    "\n",
    "# initialise trial combinations\n",
    "repetition = 10\n",
    "real_delays = [1., 3., 7., 13., 24., 32., 45., 58., 75., 122.]\n",
    "delays =  [i / 10 for i in real_delays]\n",
    "SS_values = [5.]\n",
    "# LL values by percentage of SS\n",
    "LL_values_p = [1.05, 1.055, 1.15, 1.25, 1.35, 1.45, 1.55, 1.65, 1.85, 1.9, 2.05, 2.25, 2.55, 2.85, 3.05, 3.45, 3.85]"
   ]
  },
  {
   "cell_type": "code",
   "execution_count": 6,
   "metadata": {},
   "outputs": [],
   "source": [
    "environment = Environment(SS_values, LL_values_p, delays, repetition)\n",
    "# run function returns first parameter list then inference list\n",
    "parameters_list, inference_list = run(mean_u_list, sigma_u_list, sigma_es_list, beta_list, environment)"
   ]
  },
  {
   "cell_type": "code",
   "execution_count": 7,
   "metadata": {},
   "outputs": [
    {
     "data": {
      "text/plain": [
       "array([[[[[[[ 1.  ,  0.  ,  0.  , ...,  1.  ,  1.  ,  1.  ],\n",
       "            [ 0.1 ,  0.1 ,  0.1 , ..., 12.2 , 12.2 , 12.2 ],\n",
       "            [ 5.  ,  5.  ,  5.  , ...,  5.  ,  5.  ,  5.  ],\n",
       "            [ 5.25,  5.25,  5.25, ..., 19.25, 19.25, 19.25]]]]]]])"
      ]
     },
     "execution_count": 7,
     "metadata": {},
     "output_type": "execute_result"
    }
   ],
   "source": [
    "inference_list"
   ]
  },
  {
   "cell_type": "markdown",
   "metadata": {},
   "source": [
    "Use log all normal distributions."
   ]
  },
  {
   "cell_type": "code",
   "execution_count": 14,
   "metadata": {},
   "outputs": [],
   "source": [
    "# SVI model\n",
    "# simulate parameters:\n",
    "# mean_u 0\n",
    "# sigma_u 6\n",
    "# sigma_es 3\n",
    "\n",
    "def model_normal_log(actions, delays, ss_values, ll_values):\n",
    "    \n",
    "    mean_u_mean_q = pyro.param(\"mean_u_mean_q\", torch.tensor(0.))\n",
    "    mean_u_sigma_q = pyro.param(\"mean_u_sigma_q\", torch.tensor(1.))\n",
    "    sigma_u_mean_q =  pyro.param(\"sigma_u_mean_q\", torch.tensor(1.))\n",
    "    sigma_u_sigma_q =  pyro.param(\"sigma_u_sigma_q\", torch.tensor(2.))\n",
    "    sigma_es_mean_q = pyro.param(\"sigma_es_mean_q\", torch.tensor(1.))\n",
    "    sigma_es_sigma_q = pyro.param(\"sigma_es_sigma_q\", torch.tensor(2.))\n",
    "    beta_mean_q = pyro.param(\"beta_mean_q\", torch.tensor(1.))\n",
    "    beta_sigma_q = pyro.param(\"beta_sigma_q\", torch.tensor(2.))\n",
    "\n",
    "    # sample from the HalfCauchy prior and normal distributions\n",
    "    mean_u = pyro.sample(\"mean_u\", Normal(loc=mean_u_mean_q, scale=mean_u_sigma_q))\n",
    "    log_sigma_u = pyro.sample(\"log_sigma_u\", Normal(loc=sigma_u_mean_q, scale = sigma_u_sigma_q))\n",
    "    log_sigma_es = pyro.sample(\"log_sigma_es\", Normal(loc=sigma_es_mean_q, scale = sigma_es_sigma_q))\n",
    "    # beta sample from distribution mean is always 1.0 \n",
    "    beta = pyro.sample(\"beta\", Normal(loc=beta_mean_q, scale = beta_sigma_q))\n",
    "    # loop over the observed data\n",
    "    e_vals = []\n",
    "    v_vals = []\n",
    "    for i in range(len(actions)):\n",
    "        sigma_u = torch.exp(log_sigma_u)\n",
    "        sigma_es = torch.exp(log_sigma_es)\n",
    "        e_vals.append((mean_u*delays[i]*sigma_es**2 + ll_values[i]*sigma_u**2)/\n",
    "                      (delays[i]*sigma_es**2 + sigma_u**2))\n",
    "        softmax_args = torch.stack([beta*e_vals[-1], beta*ss_values[i]])\n",
    "        p = torch.softmax(softmax_args, dim = 0)[0]\n",
    "        pyro.sample(\"obs_\" + str(i), Bernoulli(probs = p), obs=actions[i])\n",
    "\n",
    "def guide_normal_log(actions, delays, ss_values, ll_values):\n",
    "    # get rid of the constrains\n",
    "    mean_u_mean_q = pyro.param(\"mean_u_mean_q\", torch.tensor(0.))\n",
    "    mean_u_sigma_q = pyro.param(\"mean_u_sigma_q\", torch.tensor(1.), \n",
    "                                constraint=constraints.positive)\n",
    "    sigma_u_mean_q = pyro.param(\"sigma_u_mean_q\", torch.tensor(2.))\n",
    "    sigma_u_sigma_q = pyro.param(\"sigma_u_sigma_q\", torch.tensor(1.),\n",
    "                                 constraint=constraints.positive)\n",
    "    sigma_es_mean_q = pyro.param(\"sigma_es_mean_q\", torch.tensor(1.))\n",
    "    sigma_es_sigma_q = pyro.param(\"sigma_es_sigma_q\", torch.tensor(2.),\n",
    "                                  constraint=constraints.positive)\n",
    "    beta_mean_q = pyro.param(\"beta_mean_q\", torch.tensor(1.))\n",
    "    beta_sigma_q = pyro.param(\"beta_sigma_q\", torch.tensor(2.), \n",
    "                              constraint=constraints.positive)\n",
    "\n",
    "    # sample from the HalfCauchy prior and normal distributions\n",
    "    mean_u = pyro.sample(\"mean_u\", Normal(loc=mean_u_mean_q, scale=mean_u_sigma_q))\n",
    "    log_sigma_u = pyro.sample(\"log_sigma_u\", Normal(sigma_u_mean_q, sigma_u_sigma_q))\n",
    "    log_sigma_es = pyro.sample(\"log_sigma_es\", Normal(sigma_es_mean_q, sigma_es_sigma_q))\n",
    "    beta = pyro.sample(\"beta\", Normal(loc=beta_mean_q, scale = beta_sigma_q))\n",
    "\n",
    "\n",
    "\n",
    "#model(actions, delays, ss_values, ll_values)\n",
    "# pyro.render_model(model=model, model_args=(actions, delays, ss_values, ll_values,),render_params=True, render_distributions=True,filename=\"model.pdf\")\n",
    "auto_g_normal_log = pyro.infer.autoguide.AutoMultivariateNormal(model_normal_log)\n",
    "# pyro.render_model(model=guide, model_args=(actions, delays, ss_values, ll_values,),render_params=True, render_distributions=True,filename=\"guide.pdf\")\n"
   ]
  },
  {
   "cell_type": "markdown",
   "metadata": {},
   "source": [
    "Use Gamma distributions for the sigmas."
   ]
  },
  {
   "cell_type": "code",
   "execution_count": 11,
   "metadata": {},
   "outputs": [],
   "source": [
    "# SVI model\n",
    "# simulate parameters:\n",
    "# mean_u 0\n",
    "# sigma_u 6\n",
    "# sigma_es 3\n",
    "\n",
    "def model_gamma(actions, delays, ss_values, ll_values):\n",
    "    \n",
    "    mean_u_mean_q = pyro.param(\"mean_u_mean_q\", torch.tensor(0.))\n",
    "    mean_u_sigma_q = pyro.param(\"mean_u_sigma_q\", torch.tensor(1.), \n",
    "                                constraint=constraints.positive)\n",
    "    sigma_u_alpha_q = pyro.param(\"sigma_u_alpha_q\", torch.tensor(1.), \n",
    "                                 constraint=constraints.positive)\n",
    "    sigma_u_beta_q = pyro.param(\"sigma_u_beta_q\",  torch.tensor(2.),\n",
    "                                constraint=constraints.positive)\n",
    "    sigma_es_alpha_q = pyro.param(\"sigma_es_alpha_q\", torch.tensor(1.), \n",
    "                                  constraint=constraints.positive)\n",
    "    sigma_es_beta_q = pyro.param(\"sigma_es_beta_q\", torch.tensor(2.), \n",
    "                                 constraint=constraints.positive)\n",
    "\n",
    "    # sample from the HalfCauchy prior and normal distributions\n",
    "    mean_u = pyro.sample(\"mean_u\", Normal(loc=mean_u_mean_q, scale=mean_u_sigma_q))\n",
    "    sigma_u = pyro.sample(\"sigma_u\", Gamma(sigma_u_alpha_q, sigma_u_beta_q))\n",
    "    sigma_es = pyro.sample(\"sigma_es\", Gamma(sigma_es_alpha_q, sigma_es_beta_q))\n",
    "    # loop over the observed data\n",
    "    e_vals = []\n",
    "    v_vals = []\n",
    "    for i in range(len(actions)):\n",
    "        e_vals.append((mean_u*delays[i]*sigma_es**2 + ll_values[i]*sigma_u**2)/\n",
    "                      (delays[i]*sigma_es**2 + sigma_u**2))\n",
    "        softmax_args = torch.stack([e_vals[-1], ss_values[i]])\n",
    "        p = torch.softmax(softmax_args, dim = 0)[0]\n",
    "        pyro.sample(\"obs_\" + str(i), Bernoulli(probs = p), obs=actions[i])\n",
    "\n",
    "def guide_gamma(actions, delays, ss_values, ll_values):\n",
    "    # get rid of the constrains\n",
    "    mean_u_mean_q = pyro.param(\"mean_u_mean_q\", torch.tensor(0.))\n",
    "    mean_u_sigma_q = pyro.param(\"mean_u_sigma_q\", torch.tensor(1.), \n",
    "                              constraint=constraints.positive)\n",
    "    sigma_u_alpha_q = pyro.param(\"sigma_u_alpha_q\", torch.tensor(2.), \n",
    "                                constraint=constraints.positive)\n",
    "    sigma_u_beta_q = pyro.param(\"sigma_u_beta_q\", torch.tensor(1.), \n",
    "                               constraint=constraints.positive)\n",
    "    sigma_es_alpha_q = pyro.param(\"sigma_es_alpha_q\", torch.tensor(1.), \n",
    "                                  constraint=constraints.positive)\n",
    "    sigma_es_beta_q = pyro.param(\"sigma_es_beta_q\", torch.tensor(2.), \n",
    "                                 constraint=constraints.positive)\n",
    "\n",
    "    # sample from the HalfCauchy prior and normal distributions\n",
    "    mean_u = pyro.sample(\"mean_u\", Normal(loc=mean_u_mean_q, scale=mean_u_sigma_q))\n",
    "    sigma_u = pyro.sample(\"sigma_u\", Gamma(sigma_u_alpha_q, sigma_u_beta_q))\n",
    "    sigma_es = pyro.sample(\"sigma_es\", Gamma(sigma_es_alpha_q, sigma_es_beta_q))\n",
    "\n",
    "#model(actions, delays, ss_values, ll_values)\n",
    "# pyro.render_model(model=model, model_args=(actions, delays, ss_values, ll_values,),render_params=True, render_distributions=True,filename=\"model.pdf\")\n",
    "auto_g_gamma = pyro.infer.autoguide.AutoMultivariateNormal(model_gamma)\n",
    "# pyro.render_model(model=guide, model_args=(actions, delays, ss_values, ll_values,),render_params=True, render_distributions=True,filename=\"guide.pdf\")\n"
   ]
  },
  {
   "cell_type": "code",
   "execution_count": 6,
   "metadata": {},
   "outputs": [
    {
     "name": "stdout",
     "output_type": "stream",
     "text": [
      "tensor([ 0.1000,  0.1000,  0.1000,  ..., 12.2000, 12.2000, 12.2000],\n",
      "       dtype=torch.float64)\n"
     ]
    }
   ],
   "source": [
    "for i in inference_list:\n",
    "    for j in i:\n",
    "        for k in j:\n",
    "            actions = torch.tensor(k[0])\n",
    "            delays = torch.tensor(k[1])\n",
    "            ss_values = torch.tensor(k[2])\n",
    "            ll_values = torch.tensor(k[3])\n",
    "            print(delays)"
   ]
  },
  {
   "cell_type": "code",
   "execution_count": 23,
   "metadata": {},
   "outputs": [
    {
     "name": "stderr",
     "output_type": "stream",
     "text": [
      "Mean ELBO  56.65: 100%|███████████████████████████████████████████| 400/400 [00:23<00:00, 16.87it/s]\n"
     ]
    },
    {
     "data": {
      "image/png": "[encoded data removed]",
      "text/plain": [
       "<Figure size 640x480 with 1 Axes>"
      ]
     },
     "metadata": {},
     "output_type": "display_data"
    }
   ],
   "source": [
    "# this is for running the notebook in our testing framework\n",
    "smoke_test = ('CI' in os.environ)\n",
    "# the step was 2000\n",
    "n_steps = 2 if smoke_test else 400\n",
    "\n",
    "# assert pyro.__version__.startswith('1.8.6')\n",
    "\n",
    "# clear the param store in case we're in a REPL\n",
    "pyro.clear_param_store()# setup the optimizer\n",
    "# the learning rate was 0.0005 , \"betas\": (0.90, 0.999)\n",
    "# tried \"n_par\":15 in adam params but it does not have this argument\n",
    "adam_params = {\"lr\": 0.1}\n",
    "optimizer = Adam(adam_params)\n",
    "# setup the inference algorithm\n",
    "svi = SVI(model_normal_log, guide_normal_log, optimizer, loss=Trace_ELBO())\n",
    "# svi = SVI(model_gamma, guide_gamma, optimizer, loss=Trace_ELBO())\n",
    "\n",
    "loss = []\n",
    "pbar = tqdm(range(n_steps), position = 0)\n",
    "# do gradient steps\n",
    "for step in pbar:\n",
    "    loss.append(torch.tensor(svi.step(actions, delays, ss_values, ll_values)))\n",
    "    pbar.set_description(\"Mean ELBO %6.2f\" % torch.tensor(loss[-20:]).mean())\n",
    "    # for name, value in pyro.get_param_store().items():\n",
    "    #     print(name, pyro.param(name))\n",
    "    if torch.isnan(loss[-1]):\n",
    "\t    break\n",
    "\n",
    "plt.figure()\n",
    "plt.plot(loss)\n",
    "plt.xlabel(\"iter step\")\n",
    "plt.ylabel(\"ELBO loss\")\n",
    "plt.title(\"ELBO minimization during inference\")\n",
    "plt.show()"
   ]
  },
  {
   "cell_type": "code",
   "execution_count": 24,
   "metadata": {},
   "outputs": [
    {
     "name": "stdout",
     "output_type": "stream",
     "text": [
      "mean_u_mean_q tensor(2.0369, requires_grad=True)\n",
      "mean_u_sigma_q tensor(0.4781, grad_fn=<AddBackward0>)\n",
      "sigma_u_mean_q tensor(1.7491, requires_grad=True)\n",
      "sigma_u_sigma_q tensor(0.0522, grad_fn=<AddBackward0>)\n",
      "sigma_es_mean_q tensor(1.2509, requires_grad=True)\n",
      "sigma_es_sigma_q tensor(0.0764, grad_fn=<AddBackward0>)\n",
      "beta_mean_q tensor(0.3072, requires_grad=True)\n",
      "beta_sigma_q tensor(0.0855, grad_fn=<AddBackward0>)\n"
     ]
    }
   ],
   "source": [
    "for name, value in pyro.get_param_store().items():\n",
    "    print(name, pyro.param(name))"
   ]
  },
  {
   "cell_type": "code",
   "execution_count": 17,
   "metadata": {},
   "outputs": [
    {
     "data": {
      "text/plain": [
       "{}"
      ]
     },
     "execution_count": 17,
     "metadata": {},
     "output_type": "execute_result"
    }
   ],
   "source": [
    "intermedia_params"
   ]
  },
  {
   "cell_type": "code",
   "execution_count": null,
   "metadata": {},
   "outputs": [],
   "source": [
    "# only used for auto guide\n",
    "# auto guide does not work too well in this model\n",
    "n_samples = 1000\n",
    "post_mean_u = []\n",
    "post_sigma_u = []\n",
    "post_sigma_es = []\n",
    "for i in range(n_samples):\n",
    "    sample = auto_g_normal_log()\n",
    "    # print(sample)\n",
    "    post_mean_u.append(sample[\"mean_u\"].detach().item())\n",
    "    post_sigma_u.append(sample[\"log_sigma_u\"].detach().item())\n",
    "    post_sigma_es.append(sample[\"log_sigma_es\"].detach().item())"
   ]
  }
 ],
 "metadata": {
  "kernelspec": {
   "display_name": "Python 3 (ipykernel)",
   "language": "python",
   "name": "python3"
  }
 },
 "nbformat": 4,
 "nbformat_minor": 4
}
