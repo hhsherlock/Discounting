{
 "cells": [
  {
   "cell_type": "code",
   "execution_count": 1,
   "metadata": {},
   "outputs": [
    {
     "name": "stderr",
     "output_type": "stream",
     "text": [
      "/home/yaning/Documents/python_env/pyro/lib/python3.11/site-packages/tqdm/auto.py:21: TqdmWarning: IProgress not found. Please update jupyter and ipywidgets. See https://ipywidgets.readthedocs.io/en/stable/user_install.html\n",
      "  from .autonotebook import tqdm as notebook_tqdm\n",
      "/tmp/ipykernel_316953/3269228629.py:22: DeprecationWarning: \n",
      "Pyarrow will become a required dependency of pandas in the next major release of pandas (pandas 3.0),\n",
      "(to allow more performant data types, such as the Arrow string type, and better interoperability with other libraries)\n",
      "but was not found to be installed on your system.\n",
      "If this would cause problems for you,\n",
      "please provide us feedback at https://github.com/pandas-dev/pandas/issues/54466\n",
      "        \n",
      "  import pandas as pd\n"
     ]
    }
   ],
   "source": [
    "#!/usr/bin/env python3\n",
    "# -*- coding: utf-8 -*-\n",
    "\"\"\"\n",
    "Created on Fri Jan 9 2024\n",
    "\n",
    "@author: Yaning\n",
    "Suggested by Sascha\n",
    "\"\"\"\n",
    "\n",
    "import math\n",
    "import os\n",
    "# from turtle import position\n",
    "import torch\n",
    "import torch.distributions.constraints as constraints\n",
    "import pyro\n",
    "from pyro.optim import Adam\n",
    "from pyro.infer import SVI, Trace_ELBO, Predictive\n",
    "from pyro.distributions import Beta, Binomial, HalfCauchy, Normal, Pareto, Uniform, Gamma\n",
    "from tqdm import tqdm\n",
    "import matplotlib.pyplot as plt\n",
    "from statistics import mean \n",
    "import pandas as pd"
   ]
  },
  {
   "cell_type": "code",
   "execution_count": 2,
   "metadata": {},
   "outputs": [],
   "source": [
    "class Agent:\n",
    "    def __init__(self, ds_rate, variance):\n",
    "        # free parameters (the mean and variant of the estimate value)\n",
    "        self.ds_rate = ds_rate\n",
    "        self.variance = variance\n",
    "\n",
    "\n",
    "    def estimation(self, curr_LL, curr_delay, curr_SS):\n",
    "        # the estimate value is assumed to be a normal distribution\n",
    "        # the estimate value mean is assumed to LL/1+kt\n",
    "        # the estimate value variant is set to be 4\n",
    "        self.LL_es_mu = curr_LL/(1+self.ds_rate*curr_delay)\n",
    "        self.LL_es_sigma = self.variance\n",
    "        # the fixed early and small value\n",
    "        self.curr_SS = curr_SS\n",
    "\n",
    "\n",
    "    def generate_action(self):\n",
    "        # 1 means choosing large later\n",
    "        # pyro distribution is used (i guess it is the same as torch's distribution)\n",
    "        # somehow using binomial or bernoulli is a bit slower to generate the data\n",
    "        # maybe because there are two distributions? \n",
    "        LL_distri = Normal(loc = torch.tensor(self.LL_es_mu), scale =torch.tensor(self.LL_es_sigma))\n",
    "        chose_LL_pobs = 1 - LL_distri.cdf(torch.tensor(self.curr_SS))\n",
    "        LL_bino = Binomial(probs = chose_LL_pobs)\n",
    "        return LL_bino.sample().item()"
   ]
  },
  {
   "cell_type": "code",
   "execution_count": 3,
   "metadata": {},
   "outputs": [
    {
     "name": "stdout",
     "output_type": "stream",
     "text": [
      "[0.5, 0.5, 0.4, 0.3, 0.0, 0.2, 0.1, 0.2, 0.2, 0.1, 0.4, 0.2, 0.1, 0.2, 0.1, 0.1, 0.1, 0.2, 0.1, 0.2, 1.0, 0.7, 0.3, 0.2, 0.5, 0.0, 0.4, 0.0, 0.3, 0.1, 0.6, 0.7, 0.7, 0.2, 0.1, 0.3, 0.2, 0.0, 0.2, 0.2, 0.7, 0.6, 0.5, 0.4, 0.4, 0.2, 0.0, 0.2, 0.1, 0.5, 0.3, 0.4, 0.3, 0.4, 0.4, 0.1, 0.3, 0.3, 0.4, 0.1, 0.5, 0.6, 0.4, 0.4, 0.2, 0.5, 0.3, 0.2, 0.3, 0.0, 0.8, 0.6, 0.8, 0.2, 0.4, 0.1, 0.3, 0.2, 0.0, 0.1, 0.5, 0.9, 0.5, 0.6, 0.4, 0.2, 0.3, 0.4, 0.0, 0.3, 0.9, 0.7, 0.7, 0.7, 0.5, 0.1, 0.1, 0.1, 0.3, 0.1, 0.9, 0.7, 0.6, 0.7, 0.5, 0.7, 0.1, 0.3, 0.6, 0.1, 0.9, 0.8, 0.7, 0.8, 0.6, 0.4, 0.6, 0.4, 0.0, 0.3, 0.9, 0.9, 0.9, 0.6, 0.5, 0.4, 0.5, 0.4, 0.3, 0.1, 1.0, 0.9, 0.9, 0.8, 0.4, 0.4, 0.3, 0.5, 0.5, 0.0, 1.0, 1.0, 0.9, 0.9, 0.7, 0.5, 0.6, 0.3, 0.1, 0.3, 1.0, 1.0, 1.0, 0.7, 0.6, 0.5, 0.4, 0.5, 0.1, 0.2, 1.0, 1.0, 0.9, 1.0, 0.6, 0.8, 0.3, 0.2, 0.4, 0.2]\n"
     ]
    }
   ],
   "source": [
    "# discounting rate is 1/16\n",
    "# estimation variance 4\n",
    "\n",
    "disc_rate = 1/16\n",
    "var_es = 4\n",
    "\n",
    "agent = Agent(disc_rate, var_es)\n",
    "\n",
    "# initialise trial combinations\n",
    "repetition = 10\n",
    "delays = [1, 3, 7, 13, 24, 32, 45, 58, 75, 122]\n",
    "SS_values = [5]\n",
    "# values by percentage\n",
    "LL_values_p = [1.05, 1.055, 1.15, 1.25, 1.35, 1.45, 1.55, 1.65, 1.85, 1.9, 2.05, 2.25, 2.55, 2.85, 3.05, 3.45, 3.85]\n",
    "\n",
    "# create some empty arrays\n",
    "# get rid of the same ss, ll and delay repitition only percentage\n",
    "a_percentage = []\n",
    "a_ss_values = []\n",
    "a_ll_values = []\n",
    "a_delays = []\n",
    "\n",
    "# future tensor for inference specifically\n",
    "inference_ss_values = []\n",
    "inference_ll_values = []\n",
    "inference_delays = []\n",
    "inference_actions = []\n",
    "\n",
    "# simulation\n",
    "for i in SS_values:\n",
    "    for j in LL_values_p:\n",
    "        for k in delays:\n",
    "            one_combination_actions = []\n",
    "            temp_ll_value = i*j\n",
    "            a_ll_values.append(temp_ll_value)\n",
    "            a_delays.append(k)\n",
    "            a_ss_values.append(i)\n",
    "            for r in range(repetition):\n",
    "                agent.estimation(temp_ll_value, k, i)\n",
    "                action = agent.generate_action()\n",
    "                one_combination_actions.append(action)\n",
    "                inference_ss_values.append(i)\n",
    "                inference_ll_values.append(temp_ll_value)\n",
    "                inference_delays.append(k)\n",
    "                inference_actions.append(action)\n",
    "            a_percentage.append(len(list(filter(lambda x: (x == 1), one_combination_actions))) \n",
    "                                      / len(one_combination_actions))\n",
    "\n",
    "print(a_percentage)"
   ]
  },
  {
   "cell_type": "code",
   "execution_count": 7,
   "metadata": {},
   "outputs": [
    {
     "data": {
      "text/plain": [
       "tensor(1.)"
      ]
     },
     "execution_count": 7,
     "metadata": {},
     "output_type": "execute_result"
    }
   ],
   "source": [
    "actions[3]"
   ]
  },
  {
   "cell_type": "code",
   "execution_count": 5,
   "metadata": {},
   "outputs": [],
   "source": [
    "\n",
    "actions = torch.tensor(inference_actions)\n",
    "delays = torch.tensor(inference_delays)\n",
    "ss_values = torch.tensor(inference_ss_values)\n",
    "ll_values = torch.tensor(inference_ll_values)\n",
    "# print(actions)\n",
    "# print(delays)\n",
    "# print(ss_values)\n",
    "# print(ll_values)\n",
    "\n",
    "# this is for running the notebook in our testing framework\n",
    "smoke_test = ('CI' in os.environ)\n",
    "# the step was 2000\n",
    "n_steps = 2 if smoke_test else 200\n",
    "\n",
    "# assert pyro.__version__.startswith('1.8.6')\n",
    "\n",
    "# clear the param store in case we're in a REPL\n",
    "pyro.clear_param_store()\n",
    "\n",
    "def model(actions, delays, ss_values, ll_values):\n",
    "    # define the hyperparameters that control the Beta prior\n",
    "    dev_alpha_ini = torch.tensor(2.0)\n",
    "    dev_beta_ini = torch.tensor(1.)\n",
    "    rate_alpha_ini =torch.tensor(1.)\n",
    "    rate_beta_ini = torch.tensor(2.)\n",
    "    # dev_alpha_ini = pyro.param(\"dev_alpha_ini\", torch.tensor(2.0), \n",
    "    #                            constraint=constraints.positive)\n",
    "    # dev_beta_ini = pyro.param(\"dev_beta_ini\", torch.tensor(1.0), \n",
    "    #                            constraint=constraints.positive)\n",
    "    # rate_alpha_ini = pyro.param(\"rate_alpha_ini\", torch.tensor(1.0), \n",
    "    #                            constraint=constraints.positive)\n",
    "    # rate_beta_ini = pyro.param(\"rate_beta_ini\", torch.tensor(2.0), \n",
    "    #                            constraint=constraints.positive)\n",
    "    # sample dev and rate both from the Gamma prior\n",
    "    dev = pyro.sample(\"dev\", Gamma(dev_alpha_ini, dev_beta_ini))\n",
    "    rate = pyro.sample(\"rate\", Gamma(rate_alpha_ini, rate_beta_ini))\n",
    "    # loop over the observed data\n",
    "    for i in range(len(actions)):\n",
    "        mean = ll_values[i]/(1+rate*delays[i])\n",
    "        distri = Normal(loc = mean, scale = dev)\n",
    "        pos = 1 - distri.cdf(ss_values[i])\n",
    "        pyro.sample(\"obs_\" + str(i), Binomial(probs = pos), obs=actions[i])\n",
    "\n",
    "def guide(actions, delays, ss_values, ll_values):\n",
    "    # register the two variational parameters with Pyro\n",
    "    # - both parameters will have initial value 15.0.\n",
    "    # - because we invoke constraints.positive, the optimizer\n",
    "    # will take gradients on the unconstrained parameters\n",
    "    # (which are related to the constrained parameters by a log)\n",
    "    dev_alpha_q = pyro.param(\"dev_alpha_q\", torch.tensor(2.0),\n",
    "                         constraint=constraints.positive)\n",
    "    dev_beta_q = pyro.param(\"dev_beta_q\", torch.tensor(1.0),\n",
    "                         constraint=constraints.positive)\n",
    "    rate_alpha_q = pyro.param(\"rate_alpha_q\", torch.tensor(1.0),\n",
    "                         constraint=constraints.positive)\n",
    "    rate_beta_q = pyro.param(\"rate_beta_q\", torch.tensor(2.0),\n",
    "                         constraint=constraints.positive)\n",
    "    # sample latent_fairness from the distribution Beta(alpha_q, beta_q)\n",
    "    pyro.sample(\"dev\", Gamma(dev_alpha_q, dev_beta_q))\n",
    "    pyro.sample(\"rate\", Gamma(rate_alpha_q, rate_beta_q))\n",
    "\n",
    "auto_g = pyro.infer.autoguide.AutoMultivariateNormal(model)\n",
    "\n",
    "# pyro.render_model(model=model, model_args=(actions, delays, ss_values, ll_values,),\n",
    "#                   render_params=True, render_distributions=True,filename=\"model.pdf\")\n",
    "# pyro.render_model(guide, model_args=(actions, delays, ss_values, ll_values), render_params=True, render_distributions=True)"
   ]
  },
  {
   "cell_type": "code",
   "execution_count": 6,
   "metadata": {},
   "outputs": [
    {
     "name": "stderr",
     "output_type": "stream",
     "text": [
      "Mean ELBO 931.43: 100%|███████████████████████████████████████████| 200/200 [03:15<00:00,  1.02it/s]\n"
     ]
    },
    {
     "data": {
      "image/png": "[encoded data removed]",
      "text/plain": [
       "<Figure size 640x480 with 1 Axes>"
      ]
     },
     "metadata": {},
     "output_type": "display_data"
    }
   ],
   "source": [
    "# setup the optimizer\n",
    "# the learning rate was 0.0005\n",
    "adam_params = {\"lr\": 0.05, \"betas\": (0.90, 0.999)}\n",
    "optimizer = Adam(adam_params)\n",
    "\n",
    "\n",
    "# setup the inference algorithm\n",
    "svi = SVI(model, auto_g, optimizer, loss=Trace_ELBO())\n",
    "# svi = SVI(model, guide, optimizer, loss=Trace_ELBO())\n",
    "\n",
    "loss = []\n",
    "pbar = tqdm(range(n_steps), position = 0)\n",
    "# do gradient steps\n",
    "for step in pbar:\n",
    "    loss.append(torch.tensor(svi.step(actions, delays, ss_values, ll_values)))\n",
    "    pbar.set_description(\"Mean ELBO %6.2f\" % torch.tensor(loss[-20:]).mean())\n",
    "    if torch.isnan(loss[-1]):\n",
    "\t    break\n",
    "\n",
    "plt.figure()\n",
    "plt.plot(loss)\n",
    "plt.xlabel(\"iter step\")\n",
    "plt.ylabel(\"ELBO loss\")\n",
    "plt.title(\"ELBO minimization during inference\")\n",
    "plt.show()\n",
    "\n",
    "# grab the learned variational parameters\n",
    "# alpha_q = pyro.param(\"alpha_q\").item()\n",
    "# beta_q = pyro.param(\"beta_q\").item()\n",
    "\n",
    "# # here we use some facts about the Beta distribution\n",
    "# # compute the inferred mean of the coin's fairness\n",
    "# inferred_mean = alpha_q / (alpha_q + beta_q)\n",
    "# # compute inferred standard deviation\n",
    "# factor = beta_q / (alpha_q * (1.0 + alpha_q + beta_q))\n",
    "# inferred_std = inferred_mean * math.sqrt(factor)\n",
    "\n",
    "# print(\"\\nBased on the data and our prior belief, the fairness \" +\n",
    "#       \"of the coin is %.3f +- %.3f\" % (inferred_mean, inferred_std))"
   ]
  },
  {
   "cell_type": "markdown",
   "metadata": {},
   "source": [
    "Get the posterior: first the kl distance between posterior and prior"
   ]
  },
  {
   "cell_type": "code",
   "execution_count": 30,
   "metadata": {},
   "outputs": [],
   "source": [
    "ran_auto_guide = auto_g()"
   ]
  },
  {
   "cell_type": "code",
   "execution_count": 16,
   "metadata": {},
   "outputs": [
    {
     "name": "stdout",
     "output_type": "stream",
     "text": [
      "[array(4.1795154, dtype=float32), array(3.8000395, dtype=float32), array(3.964579, dtype=float32), array(3.874678, dtype=float32), array(4.06464, dtype=float32), array(4.2040906, dtype=float32), array(3.7167745, dtype=float32), array(3.902023, dtype=float32), array(4.0568314, dtype=float32), array(3.9727116, dtype=float32), array(3.8047965, dtype=float32), array(4.1654706, dtype=float32), array(3.6065726, dtype=float32), array(4.450125, dtype=float32), array(4.005277, dtype=float32), array(3.7415032, dtype=float32), array(3.6199067, dtype=float32), array(3.3684978, dtype=float32), array(3.6792567, dtype=float32), array(4.6411133, dtype=float32), array(3.4508169, dtype=float32), array(4.0425835, dtype=float32), array(3.7286081, dtype=float32), array(3.4146543, dtype=float32), array(4.017679, dtype=float32), array(3.4330406, dtype=float32), array(3.8093565, dtype=float32), array(3.9073267, dtype=float32), array(4.0435286, dtype=float32), array(3.9474528, dtype=float32), array(4.1663036, dtype=float32), array(3.9190433, dtype=float32), array(4.071305, dtype=float32), array(4.043448, dtype=float32), array(3.9801264, dtype=float32), array(3.8565345, dtype=float32), array(3.6441696, dtype=float32), array(3.8146343, dtype=float32), array(3.9765756, dtype=float32), array(3.5767868, dtype=float32), array(4.0282655, dtype=float32), array(4.6882133, dtype=float32), array(3.787551, dtype=float32), array(3.7662582, dtype=float32), array(3.5612154, dtype=float32), array(3.98535, dtype=float32), array(4.545647, dtype=float32), array(3.3435853, dtype=float32), array(3.8229682, dtype=float32), array(4.1602483, dtype=float32), array(3.9149208, dtype=float32), array(4.2603064, dtype=float32), array(4.069283, dtype=float32), array(3.9162679, dtype=float32), array(3.7988408, dtype=float32), array(3.931404, dtype=float32), array(3.9513571, dtype=float32), array(3.84787, dtype=float32), array(4.565174, dtype=float32), array(3.7404704, dtype=float32), array(4.2400355, dtype=float32), array(3.8957033, dtype=float32), array(3.621063, dtype=float32), array(3.9081385, dtype=float32), array(4.2686334, dtype=float32), array(3.780076, dtype=float32), array(4.0227184, dtype=float32), array(3.5927863, dtype=float32), array(3.8022122, dtype=float32), array(3.9018378, dtype=float32), array(3.1897054, dtype=float32), array(4.116075, dtype=float32), array(4.349951, dtype=float32), array(4.12865, dtype=float32), array(3.4177794, dtype=float32), array(3.7338653, dtype=float32), array(4.5743065, dtype=float32), array(3.3004959, dtype=float32), array(3.822127, dtype=float32), array(4.248006, dtype=float32), array(4.1567526, dtype=float32), array(3.3462572, dtype=float32), array(3.8859098, dtype=float32), array(4.0031114, dtype=float32), array(3.9350965, dtype=float32), array(4.0717278, dtype=float32), array(4.2159667, dtype=float32), array(4.3165503, dtype=float32), array(3.9905403, dtype=float32), array(4.1581883, dtype=float32), array(4.0156307, dtype=float32), array(4.2819786, dtype=float32), array(3.7042751, dtype=float32), array(4.0730987, dtype=float32), array(3.772978, dtype=float32), array(3.6899734, dtype=float32), array(3.7255504, dtype=float32), array(4.458707, dtype=float32), array(4.292183, dtype=float32), array(4.0779743, dtype=float32)]\n",
      "[array(0.05492363, dtype=float32), array(0.04798479, dtype=float32), array(0.06381033, dtype=float32), array(0.06639849, dtype=float32), array(0.06277246, dtype=float32), array(0.05096783, dtype=float32), array(0.06101655, dtype=float32), array(0.05054377, dtype=float32), array(0.0490537, dtype=float32), array(0.05381307, dtype=float32), array(0.05930537, dtype=float32), array(0.05484683, dtype=float32), array(0.05256753, dtype=float32), array(0.05212204, dtype=float32), array(0.05754722, dtype=float32), array(0.0533103, dtype=float32), array(0.0567406, dtype=float32), array(0.05059014, dtype=float32), array(0.05580762, dtype=float32), array(0.0519842, dtype=float32), array(0.05386421, dtype=float32), array(0.05728187, dtype=float32), array(0.05591499, dtype=float32), array(0.04832947, dtype=float32), array(0.04638169, dtype=float32), array(0.06070347, dtype=float32), array(0.05498701, dtype=float32), array(0.05207806, dtype=float32), array(0.05400321, dtype=float32), array(0.05420257, dtype=float32), array(0.05287285, dtype=float32), array(0.05345007, dtype=float32), array(0.06097877, dtype=float32), array(0.05240916, dtype=float32), array(0.05412522, dtype=float32), array(0.0526242, dtype=float32), array(0.05129564, dtype=float32), array(0.05081367, dtype=float32), array(0.05925054, dtype=float32), array(0.04948797, dtype=float32), array(0.06224902, dtype=float32), array(0.05321447, dtype=float32), array(0.0512738, dtype=float32), array(0.05279803, dtype=float32), array(0.06124965, dtype=float32), array(0.05940833, dtype=float32), array(0.05392347, dtype=float32), array(0.05336248, dtype=float32), array(0.06037784, dtype=float32), array(0.05576658, dtype=float32), array(0.06020676, dtype=float32), array(0.05547295, dtype=float32), array(0.05202131, dtype=float32), array(0.06381258, dtype=float32), array(0.05631935, dtype=float32), array(0.04799119, dtype=float32), array(0.0557206, dtype=float32), array(0.05004622, dtype=float32), array(0.06230618, dtype=float32), array(0.05780036, dtype=float32), array(0.05506248, dtype=float32), array(0.05563133, dtype=float32), array(0.05687116, dtype=float32), array(0.05503849, dtype=float32), array(0.06117038, dtype=float32), array(0.04508269, dtype=float32), array(0.04626974, dtype=float32), array(0.05197337, dtype=float32), array(0.05271142, dtype=float32), array(0.06035314, dtype=float32), array(0.04736235, dtype=float32), array(0.05497438, dtype=float32), array(0.05545508, dtype=float32), array(0.05242195, dtype=float32), array(0.06273717, dtype=float32), array(0.05432747, dtype=float32), array(0.04863819, dtype=float32), array(0.05640156, dtype=float32), array(0.05705922, dtype=float32), array(0.0529249, dtype=float32), array(0.05464698, dtype=float32), array(0.05058853, dtype=float32), array(0.05456223, dtype=float32), array(0.05534497, dtype=float32), array(0.0596693, dtype=float32), array(0.05258026, dtype=float32), array(0.0584521, dtype=float32), array(0.0564343, dtype=float32), array(0.05616565, dtype=float32), array(0.05395554, dtype=float32), array(0.05135961, dtype=float32), array(0.05594059, dtype=float32), array(0.05995221, dtype=float32), array(0.05540234, dtype=float32), array(0.05301027, dtype=float32), array(0.05697497, dtype=float32), array(0.05645828, dtype=float32), array(0.05452254, dtype=float32), array(0.05899915, dtype=float32), array(0.05887141, dtype=float32)]\n"
     ]
    },
    {
     "data": {
      "text/plain": [
       "(array([1., 0., 1., 1., 0., 1., 2., 1., 1., 1., 1., 1., 3., 2., 3., 0., 5.,\n",
       "        6., 4., 4., 5., 3., 4., 5., 6., 5., 4., 3., 2., 2., 0., 1., 2., 3.,\n",
       "        2., 3., 1., 4., 0., 0., 2., 2., 0., 2., 0., 0., 0., 0., 0., 1.]),\n",
       " array([0.04508269, 0.045509  , 0.04593532, 0.04636164, 0.04678795,\n",
       "        0.04721427, 0.04764058, 0.0480669 , 0.04849322, 0.04891953,\n",
       "        0.04934585, 0.04977217, 0.05019848, 0.0506248 , 0.05105111,\n",
       "        0.05147743, 0.05190375, 0.05233006, 0.05275638, 0.0531827 ,\n",
       "        0.05360901, 0.05403533, 0.05446164, 0.05488796, 0.05531428,\n",
       "        0.05574059, 0.05616691, 0.05659322, 0.05701954, 0.05744585,\n",
       "        0.05787217, 0.05829849, 0.05872481, 0.05915112, 0.05957744,\n",
       "        0.06000375, 0.06043007, 0.06085638, 0.0612827 , 0.06170902,\n",
       "        0.06213533, 0.06256165, 0.06298797, 0.06341428, 0.0638406 ,\n",
       "        0.06426691, 0.06469323, 0.06511954, 0.06554586, 0.06597218,\n",
       "        0.06639849]),\n",
       " <BarContainer object of 50 artists>)"
      ]
     },
     "execution_count": 16,
     "metadata": {},
     "output_type": "execute_result"
    },
    {
     "data": {
      "image/png": "[encoded data removed]",
      "text/plain": [
       "<Figure size 640x480 with 1 Axes>"
      ]
     },
     "metadata": {},
     "output_type": "display_data"
    }
   ],
   "source": [
    "auto_g()\n",
    "n_samples = 100\n",
    "post_dev = []\n",
    "post_rate = []\n",
    "\n",
    "for i in range(n_samples):\n",
    "    sample = auto_g()\n",
    "    post_dev.append(sample[\"dev\"].detach().numpy())\n",
    "    post_rate.append(sample[\"rate\"].detach().numpy())\n",
    "\n",
    "\n",
    "print(post_dev)\n",
    "print(post_rate)\n",
    "\n",
    "# plt.hist(post_dev, 50, facecolor='green', alpha=0.5)\n",
    "\n",
    "plt.hist(post_rate, 50, facecolor='blue', alpha=0.5)"
   ]
  },
  {
   "cell_type": "code",
   "execution_count": 9,
   "metadata": {},
   "outputs": [],
   "source": [
    "\n",
    "for name, value in pyro.get_param_store().items():\n",
    "    print(name, pyro.param(name))"
   ]
  }
 ],
 "metadata": {
  "kernelspec": {
   "display_name": "Python 3 (ipykernel)",
   "language": "python",
   "name": "python3"
  }
 },
 "nbformat": 4,
 "nbformat_minor": 4
}
