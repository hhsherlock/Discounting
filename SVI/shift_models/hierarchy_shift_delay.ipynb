{
 "cells": [
  {
   "cell_type": "code",
   "execution_count": 1,
   "metadata": {},
   "outputs": [
    {
     "name": "stdout",
     "output_type": "stream",
     "text": [
      "['', 'trial', 'val_basic', 'delay', 'val_prc', 'response', 'RT', 'respSide', 'sideNOW', 'Version', 'loopID', 'Context']\n"
     ]
    },
    {
     "name": "stderr",
     "output_type": "stream",
     "text": [
      "/tmp/ipykernel_1139784/3150059175.py:24: DeprecationWarning: \n",
      "Pyarrow will become a required dependency of pandas in the next major release of pandas (pandas 3.0),\n",
      "(to allow more performant data types, such as the Arrow string type, and better interoperability with other libraries)\n",
      "but was not found to be installed on your system.\n",
      "If this would cause problems for you,\n",
      "please provide us feedback at https://github.com/pandas-dev/pandas/issues/54466\n",
      "        \n",
      "  import pandas as pd\n"
     ]
    }
   ],
   "source": [
    "#!/usr/bin/env python3\n",
    "# -*- coding: utf-8 -*-\n",
    "\"\"\"\n",
    "    Created on Fri Apr 12 2024\n",
    "    \n",
    "    @author: Yaning\n",
    "\"\"\"\n",
    "\n",
    "import math\n",
    "import os\n",
    "# from turtle import position\n",
    "import torch\n",
    "import torch.distributions.constraints as constraints\n",
    "import pyro\n",
    "from pyro.optim import Adam\n",
    "from pyro.infer import SVI, Trace_ELBO, Predictive\n",
    "import pyro.distributions as dist\n",
    "from tqdm import tqdm\n",
    "import matplotlib.pyplot as plt\n",
    "from statistics import mean \n",
    "# import pandas as pd\n",
    "import numpy as np\n",
    "import scipy.stats as stats\n",
    "import pandas as pd\n",
    "import pickle\n",
    "\n",
    "# np.random.seed(123)\n",
    "# torch.manual_seed(123)\n",
    "\n",
    "%run Documents/pyro_models/files_to_run/data_analysis_without_version.ipynb\n"
   ]
  },
  {
   "cell_type": "code",
   "execution_count": 2,
   "metadata": {},
   "outputs": [],
   "source": [
    "real_data = data"
   ]
  },
  {
   "cell_type": "code",
   "execution_count": 3,
   "metadata": {},
   "outputs": [
    {
     "data": {
      "text/plain": [
       "(2, 30, 170, 8)"
      ]
     },
     "execution_count": 3,
     "metadata": {},
     "output_type": "execute_result"
    }
   ],
   "source": [
    "real_data.shape"
   ]
  },
  {
   "cell_type": "code",
   "execution_count": 4,
   "metadata": {},
   "outputs": [],
   "source": [
    "test_data = real_data[:2]"
   ]
  },
  {
   "cell_type": "code",
   "execution_count": 5,
   "metadata": {},
   "outputs": [],
   "source": [
    "test_data = torch.tensor(test_data)"
   ]
  },
  {
   "cell_type": "code",
   "execution_count": 6,
   "metadata": {},
   "outputs": [],
   "source": [
    "real_data = torch.tensor(real_data)"
   ]
  },
  {
   "cell_type": "code",
   "execution_count": 42,
   "metadata": {},
   "outputs": [
    {
     "data": {
      "text/plain": [
       "torch.Size([10200])"
      ]
     },
     "execution_count": 42,
     "metadata": {},
     "output_type": "execute_result"
    }
   ],
   "source": [
    "test = real_data[:,:,:,-1].view(-1)*real_data[:,:,:,-1].view(-1)\n",
    "test.shape"
   ]
  },
  {
   "cell_type": "code",
   "execution_count": 7,
   "metadata": {},
   "outputs": [],
   "source": [
    "# np.random.seed(123)\n",
    "# torch.manual_seed(123)\n",
    "\n",
    "# beta_variance = lambda alpha, beta: alpha*beta / ((alpha+beta)**2 * (alpha + beta + 1))\n",
    "# gamma_variance = lambda conc, rate: conc/(rate**2)\n",
    "\n",
    "# device = torch.device(\"cpu\")\n",
    "\n",
    "# torch.set_default_tensor_type(torch.DoubleTensor)\n",
    "\n",
    "\n",
    "def model(data):\n",
    "    # in the order of 0:mean_u, 1:sigma_u, 2:sigma_es and 3:beta\n",
    "    # continue in shift: 4:shift_mean_u, 5:shift_sigma_u, 6:shift_sigma_es, \n",
    "    # time perception parameters: 7:time\n",
    "    num_params = 8\n",
    "    num_contexts = data.shape[0]\n",
    "    num_agents = data.shape[1]\n",
    "    num_trials = data.shape[2]\n",
    "    # define hyper priors over model parameters\n",
    "    # prior over sigma of a Gaussian is a Gamma distribution\n",
    "    a = pyro.param('a', torch.ones(num_params), constraint=dist.constraints.positive)\n",
    "    lam = pyro.param('lam', torch.ones(num_params), constraint=dist.constraints.positive)\n",
    "    tau = pyro.sample('tau', dist.Gamma(a, a/lam).to_event(1)) # mean = a / (a/lam) = lam\n",
    "\n",
    "    sig = pyro.deterministic('sig', 1/torch.sqrt(tau)) # Gauss sigma\n",
    "\n",
    "    # each model parameter has a hyperprior defining group level mean\n",
    "    # in the form of a Normal distribution\n",
    "    m = pyro.param('m', torch.zeros(num_params))\n",
    "    s = pyro.param('s', torch.ones(num_params), constraint=dist.constraints.positive)\n",
    "    mu = pyro.sample('mu', dist.Normal(m, s*sig).to_event(1)) # Gauss mu, wieso s*sig?\n",
    "\n",
    "    # in order to implement groups, where each subject is independent of the others, pyro uses so-called plates.\n",
    "    # you embed what should be done for each subject into the \"with pyro.plate\" context\n",
    "    # the plate vectorizes subjects and adds an additional dimension onto all arrays/tensors\n",
    "    # i.e. p1 below will have the length num_agents\n",
    "    with pyro.plate('ag_idx', num_agents):\n",
    "        # draw parameters from Normal and transform (for numeric trick reasons)\n",
    "        base_dist = dist.Normal(0., 1.).expand_by([num_params]).to_event(1)\n",
    "        # Transform via the pointwise affine mapping y = loc + scale*x (-> Neal's funnel)\n",
    "        transform = dist.transforms.AffineTransform(mu, sig) \n",
    "        locs = pyro.sample('locs', dist.TransformedDistribution(base_dist, [transform]))\\\n",
    "    \n",
    "    group_indices = torch.arange(num_agents).unsqueeze(1).repeat(1, num_trials).reshape(-1)\n",
    "    # index to use in shift\n",
    "    group_indices = torch.cat((group_indices, group_indices))\n",
    "\n",
    "    with pyro.plate('data', num_agents*num_trials*num_contexts):\n",
    "\n",
    "        sigma_u = torch.exp(locs[:,1][group_indices] + data[:,:,:,-1].view(-1)*locs[:,5][group_indices])\n",
    "        sigma_es = torch.exp(locs[:,2][group_indices] + data[:,:,:,-1].view(-1)*locs[:,6][group_indices])\n",
    "        mean_u = locs[:,0][group_indices] + data[:,:,:,-1].view(-1)*locs[:,4][group_indices]\n",
    "\n",
    "        time = locs[:,7][group_indices]\n",
    "\n",
    "        e_val = (mean_u*time*data[:,:,:,2].view(-1)*sigma_es**2 + \n",
    "                 data[:,:,:,3].view(-1)*sigma_u**2)/(time*data[:,:,:,2].view(-1)*sigma_es**2 + sigma_u**2)\n",
    "\n",
    "        beta = torch.exp(locs[:,3])[group_indices]\n",
    "        softmax_args = torch.stack([beta*e_val, beta*data[:,:,:,1].view(-1)])\n",
    "        p = torch.softmax(softmax_args, dim = 0)[0]\n",
    "        pyro.sample(\"obs\", dist.Bernoulli(probs = p), obs=data[:,:,:,4].view(-1))\n",
    "    return locs\n",
    "            "
   ]
  },
  {
   "cell_type": "code",
   "execution_count": 8,
   "metadata": {},
   "outputs": [],
   "source": [
    "def guide(data):\n",
    "    num_params = 8\n",
    "    num_agents = data.shape[1]\n",
    "    # biject_to(constraint) looks up a bijective Transform from constraints.real \n",
    "    # to the given constraint. The returned transform is guaranteed to have \n",
    "    # .bijective = True and should implement .log_abs_det_jacobian().\n",
    "    trns = torch.distributions.biject_to(dist.constraints.positive)\n",
    "\n",
    "    # define mean vector and covariance matrix of multivariate normal\n",
    "    m_hyp = pyro.param('m_hyp', torch.zeros(2*num_params))\n",
    "    st_hyp = pyro.param('scale_tril_hyp',\n",
    "                    torch.eye(2*num_params),\n",
    "                    constraint=dist.constraints.lower_cholesky)\n",
    "\n",
    "    # set hyperprior to be multivariate normal\n",
    "    # scale_tril (Tensor) – lower-triangular factor of covariance, with positive-valued diagonal\n",
    "    hyp = pyro.sample('hyp',\n",
    "                    dist.MultivariateNormal(m_hyp, scale_tril=st_hyp),\n",
    "                    infer={'is_auxiliary': True})\n",
    "\n",
    "    # mu & tau unconstrained\n",
    "    unc_mu = hyp[..., :num_params]\n",
    "    unc_tau = hyp[..., num_params:]\n",
    "\n",
    "    # constrained tau, shape num_params, or num_particles, 1, num_params\n",
    "    c_tau = trns(unc_tau)\n",
    "\n",
    "    # ld = log_density\n",
    "    # log_abs_det_jacobian(x, y) computes derivative |dy/dx|\n",
    "    ld_tau = -trns.inv.log_abs_det_jacobian(c_tau, unc_tau)\n",
    "    \n",
    "    # sum_rightmost(x, dim)\n",
    "    # sum out ``dim`` many rightmost dimensions of a given tensor.\n",
    "    # ld_tau.shape is num_params, or num_particles, 1, num_params before sum_rightmost\n",
    "    ld_tau = dist.util.sum_rightmost(ld_tau, ld_tau.dim() - c_tau.dim() + 1)\n",
    "\n",
    "    # some numerics tricks\n",
    "    mu = pyro.sample(\"mu\", dist.Delta(unc_mu, event_dim=1))\n",
    "    # c_tau shape: num_params, or num_particles, 1, num_params\n",
    "    # ld_tau shape: [] or num_particles, 1,\n",
    "    tau = pyro.sample(\"tau\", dist.Delta(c_tau, log_density=ld_tau, event_dim=1))\n",
    "\n",
    "    m_locs = pyro.param('m_locs', torch.zeros(num_agents, num_params))\n",
    "    st_locs = pyro.param('scale_tril_locs',\n",
    "                    torch.eye(num_params).repeat(num_agents, 1, 1),\n",
    "                    constraint=dist.constraints.lower_cholesky)\n",
    "    \n",
    "    with pyro.plate('ag_idx', num_agents):\n",
    "        locs = pyro.sample(\"locs\", dist.MultivariateNormal(m_locs, scale_tril=st_locs))\n",
    "\n",
    "    return {'tau': tau, 'mu': mu, 'locs': locs, 'm_locs': m_locs, 'st_locs': st_locs}"
   ]
  },
  {
   "cell_type": "code",
   "execution_count": 9,
   "metadata": {},
   "outputs": [
    {
     "name": "stderr",
     "output_type": "stream",
     "text": [
      "/home/yaning/Documents/python_env/pyro/lib/python3.11/site-packages/torch/random.py:157: UserWarning: CUDA reports that you have 2 available devices, and you have used fork_rng without explicitly specifying which devices are being used. For safety, we initialize *every* CUDA device by default, which can be quite slow if you have a lot of CUDAs. If you know that you are only making use of a few CUDA devices, set the environment variable CUDA_VISIBLE_DEVICES or the 'devices' keyword argument of fork_rng with the set of devices you are actually using. For example, if you are using CPU only, set device.upper()_VISIBLE_DEVICES= or devices=[]; if you are using device 0 only, set CUDA_VISIBLE_DEVICES=0 or devices=[0].  To initialize all devices and suppress this warning, set the 'devices' keyword argument to `range(torch.cuda.device_count())`.\n",
      "  warnings.warn(message)\n"
     ]
    },
    {
     "data": {
      "image/svg+xml": [
       "<?xml version=\"1.0\" encoding=\"UTF-8\" standalone=\"no\"?>\n",
       "<!DOCTYPE svg PUBLIC \"-//W3C//DTD SVG 1.1//EN\"\n",
       " \"http://www.w3.org/Graphics/SVG/1.1/DTD/svg11.dtd\">\n",
       "<!-- Generated by graphviz version 9.0.0 (0)\n",
       " -->\n",
       "<!-- Pages: 1 -->\n",
       "<svg width=\"422pt\" height=\"506pt\"\n",
       " viewBox=\"0.00 0.00 421.75 505.50\" xmlns=\"http://www.w3.org/2000/svg\" xmlns:xlink=\"http://www.w3.org/1999/xlink\">\n",
       "<g id=\"graph0\" class=\"graph\" transform=\"scale(1 1) rotate(0) translate(4 501.5)\">\n",
       "<polygon fill=\"white\" stroke=\"none\" points=\"-4,4 -4,-501.5 417.75,-501.5 417.75,4 -4,4\"/>\n",
       "<g id=\"clust1\" class=\"cluster\">\n",
       "<title>cluster_ag_idx</title>\n",
       "<polygon fill=\"none\" stroke=\"black\" points=\"21.62,-92.5 21.62,-169 91.62,-169 91.62,-92.5 21.62,-92.5\"/>\n",
       "<text text-anchor=\"middle\" x=\"65.25\" y=\"-99.7\" font-family=\"Times,serif\" font-size=\"14.00\">ag_idx</text>\n",
       "</g>\n",
       "<g id=\"clust2\" class=\"cluster\">\n",
       "<title>cluster_data</title>\n",
       "<polygon fill=\"none\" stroke=\"black\" points=\"21.62,-8 21.62,-84.5 91.62,-84.5 91.62,-8 21.62,-8\"/>\n",
       "<text text-anchor=\"middle\" x=\"72.38\" y=\"-15.2\" font-family=\"Times,serif\" font-size=\"14.00\">data</text>\n",
       "</g>\n",
       "<!-- tau -->\n",
       "<g id=\"node1\" class=\"node\">\n",
       "<title>tau</title>\n",
       "<ellipse fill=\"white\" stroke=\"black\" cx=\"82.62\" cy=\"-287\" rx=\"27\" ry=\"18\"/>\n",
       "<text text-anchor=\"middle\" x=\"82.62\" y=\"-281.95\" font-family=\"Times,serif\" font-size=\"14.00\">tau</text>\n",
       "</g>\n",
       "<!-- mu -->\n",
       "<g id=\"node3\" class=\"node\">\n",
       "<title>mu</title>\n",
       "<ellipse fill=\"white\" stroke=\"black\" cx=\"29.62\" cy=\"-215\" rx=\"27\" ry=\"18\"/>\n",
       "<text text-anchor=\"middle\" x=\"29.62\" y=\"-209.95\" font-family=\"Times,serif\" font-size=\"14.00\">mu</text>\n",
       "</g>\n",
       "<!-- tau&#45;&gt;mu -->\n",
       "<g id=\"edge1\" class=\"edge\">\n",
       "<title>tau&#45;&gt;mu</title>\n",
       "<path fill=\"none\" stroke=\"black\" d=\"M70.86,-270.46C64.21,-261.67 55.73,-250.48 48.2,-240.53\"/>\n",
       "<polygon fill=\"black\" stroke=\"black\" points=\"51.1,-238.56 42.27,-232.7 45.51,-242.78 51.1,-238.56\"/>\n",
       "</g>\n",
       "<!-- locs -->\n",
       "<g id=\"node8\" class=\"node\">\n",
       "<title>locs</title>\n",
       "<ellipse fill=\"white\" stroke=\"black\" cx=\"56.62\" cy=\"-143\" rx=\"27\" ry=\"18\"/>\n",
       "<text text-anchor=\"middle\" x=\"56.62\" y=\"-137.95\" font-family=\"Times,serif\" font-size=\"14.00\">locs</text>\n",
       "</g>\n",
       "<!-- tau&#45;&gt;locs -->\n",
       "<g id=\"edge2\" class=\"edge\">\n",
       "<title>tau&#45;&gt;locs</title>\n",
       "<path fill=\"none\" stroke=\"black\" d=\"M79.49,-268.87C75.1,-244.88 67.06,-200.99 61.78,-172.16\"/>\n",
       "<polygon fill=\"black\" stroke=\"black\" points=\"65.29,-171.88 60.04,-162.68 58.4,-173.14 65.29,-171.88\"/>\n",
       "</g>\n",
       "<!-- sig -->\n",
       "<g id=\"node2\" class=\"node\">\n",
       "<title>sig</title>\n",
       "<ellipse fill=\"gray\" stroke=\"black\" cx=\"146.62\" cy=\"-419.25\" rx=\"27\" ry=\"18\"/>\n",
       "<text text-anchor=\"middle\" x=\"146.62\" y=\"-414.2\" font-family=\"Times,serif\" font-size=\"14.00\">sig</text>\n",
       "</g>\n",
       "<!-- mu&#45;&gt;locs -->\n",
       "<g id=\"edge3\" class=\"edge\">\n",
       "<title>mu&#45;&gt;locs</title>\n",
       "<path fill=\"none\" stroke=\"black\" d=\"M36.16,-197.05C39.15,-189.32 42.76,-179.96 46.11,-171.27\"/>\n",
       "<polygon fill=\"black\" stroke=\"black\" points=\"49.27,-172.79 49.6,-162.2 42.74,-170.27 49.27,-172.79\"/>\n",
       "</g>\n",
       "<!-- lam -->\n",
       "<g id=\"node4\" class=\"node\">\n",
       "<title>lam</title>\n",
       "<polygon fill=\"white\" stroke=\"none\" points=\"77.12,-427.5 56.12,-427.5 56.12,-411 77.12,-411 77.12,-427.5\"/>\n",
       "<text text-anchor=\"middle\" x=\"66.62\" y=\"-414.2\" font-family=\"Times,serif\" font-size=\"14.00\">lam</text>\n",
       "</g>\n",
       "<!-- lam&#45;&gt;tau -->\n",
       "<g id=\"edge5\" class=\"edge\">\n",
       "<title>lam&#45;&gt;tau</title>\n",
       "<path fill=\"none\" stroke=\"black\" d=\"M67.49,-411.25C69.64,-393.71 75.36,-347.11 79.12,-316.5\"/>\n",
       "<polygon fill=\"black\" stroke=\"black\" points=\"82.57,-317.12 80.32,-306.76 75.63,-316.26 82.57,-317.12\"/>\n",
       "</g>\n",
       "<!-- m -->\n",
       "<g id=\"node5\" class=\"node\">\n",
       "<title>m</title>\n",
       "<polygon fill=\"white\" stroke=\"none\" points=\"11.25,-295.25 0,-295.25 0,-278.75 11.25,-278.75 11.25,-295.25\"/>\n",
       "<text text-anchor=\"middle\" x=\"5.62\" y=\"-281.95\" font-family=\"Times,serif\" font-size=\"14.00\">m</text>\n",
       "</g>\n",
       "<!-- m&#45;&gt;mu -->\n",
       "<g id=\"edge8\" class=\"edge\">\n",
       "<title>m&#45;&gt;mu</title>\n",
       "<path fill=\"none\" stroke=\"black\" d=\"M8.1,-278.77C10.96,-270.45 15.81,-256.28 20.19,-243.51\"/>\n",
       "<polygon fill=\"black\" stroke=\"black\" points=\"23.43,-244.86 23.36,-234.26 16.81,-242.59 23.43,-244.86\"/>\n",
       "</g>\n",
       "<!-- a -->\n",
       "<g id=\"node6\" class=\"node\">\n",
       "<title>a</title>\n",
       "<polygon fill=\"white\" stroke=\"none\" points=\"101.62,-427.5 95.62,-427.5 95.62,-411 101.62,-411 101.62,-427.5\"/>\n",
       "<text text-anchor=\"middle\" x=\"98.62\" y=\"-414.2\" font-family=\"Times,serif\" font-size=\"14.00\">a</text>\n",
       "</g>\n",
       "<!-- a&#45;&gt;tau -->\n",
       "<g id=\"edge6\" class=\"edge\">\n",
       "<title>a&#45;&gt;tau</title>\n",
       "<path fill=\"none\" stroke=\"black\" d=\"M97.76,-411.25C95.61,-393.71 89.89,-347.11 86.13,-316.5\"/>\n",
       "<polygon fill=\"black\" stroke=\"black\" points=\"89.62,-316.26 84.93,-306.76 82.68,-317.12 89.62,-316.26\"/>\n",
       "</g>\n",
       "<!-- s -->\n",
       "<g id=\"node7\" class=\"node\">\n",
       "<title>s</title>\n",
       "<polygon fill=\"white\" stroke=\"none\" points=\"34.25,-295.25 29,-295.25 29,-278.75 34.25,-278.75 34.25,-295.25\"/>\n",
       "<text text-anchor=\"middle\" x=\"31.62\" y=\"-281.95\" font-family=\"Times,serif\" font-size=\"14.00\">s</text>\n",
       "</g>\n",
       "<!-- s&#45;&gt;mu -->\n",
       "<g id=\"edge7\" class=\"edge\">\n",
       "<title>s&#45;&gt;mu</title>\n",
       "<path fill=\"none\" stroke=\"black\" d=\"M31.42,-278.77C31.19,-270.73 30.8,-257.21 30.45,-244.78\"/>\n",
       "<polygon fill=\"black\" stroke=\"black\" points=\"33.95,-244.81 30.17,-234.92 26.95,-245.01 33.95,-244.81\"/>\n",
       "</g>\n",
       "<!-- obs -->\n",
       "<g id=\"node9\" class=\"node\">\n",
       "<title>obs</title>\n",
       "<ellipse fill=\"gray\" stroke=\"black\" cx=\"56.62\" cy=\"-58.5\" rx=\"27\" ry=\"18\"/>\n",
       "<text text-anchor=\"middle\" x=\"56.62\" y=\"-53.45\" font-family=\"Times,serif\" font-size=\"14.00\">obs</text>\n",
       "</g>\n",
       "<!-- locs&#45;&gt;obs -->\n",
       "<g id=\"edge4\" class=\"edge\">\n",
       "<title>locs&#45;&gt;obs</title>\n",
       "<path fill=\"none\" stroke=\"black\" d=\"M56.62,-124.5C56.62,-114 56.62,-100.39 56.62,-88.33\"/>\n",
       "<polygon fill=\"black\" stroke=\"black\" points=\"60.13,-88.48 56.63,-78.48 53.13,-88.48 60.13,-88.48\"/>\n",
       "</g>\n",
       "<!-- distribution_description_node -->\n",
       "<g id=\"node10\" class=\"node\">\n",
       "<title>distribution_description_node</title>\n",
       "<text text-anchor=\"start\" x=\"199.5\" y=\"-480.2\" font-family=\"Times,serif\" font-size=\"14.00\">tau ~ Gamma</text>\n",
       "<text text-anchor=\"start\" x=\"199.5\" y=\"-463.7\" font-family=\"Times,serif\" font-size=\"14.00\">sig ~ Delta</text>\n",
       "<text text-anchor=\"start\" x=\"199.5\" y=\"-447.2\" font-family=\"Times,serif\" font-size=\"14.00\">mu ~ Normal</text>\n",
       "<text text-anchor=\"start\" x=\"199.5\" y=\"-430.7\" font-family=\"Times,serif\" font-size=\"14.00\">locs ~ TransformedDistribution</text>\n",
       "<text text-anchor=\"start\" x=\"199.5\" y=\"-414.2\" font-family=\"Times,serif\" font-size=\"14.00\">obs ~ Bernoulli</text>\n",
       "<text text-anchor=\"start\" x=\"199.5\" y=\"-397.7\" font-family=\"Times,serif\" font-size=\"14.00\">a : GreaterThan(lower_bound=0.0)</text>\n",
       "<text text-anchor=\"start\" x=\"199.5\" y=\"-381.2\" font-family=\"Times,serif\" font-size=\"14.00\">lam : GreaterThan(lower_bound=0.0)</text>\n",
       "<text text-anchor=\"start\" x=\"199.5\" y=\"-364.7\" font-family=\"Times,serif\" font-size=\"14.00\">m : Real()</text>\n",
       "<text text-anchor=\"start\" x=\"199.5\" y=\"-348.2\" font-family=\"Times,serif\" font-size=\"14.00\">s : GreaterThan(lower_bound=0.0)</text>\n",
       "</g>\n",
       "</g>\n",
       "</svg>\n"
      ],
      "text/plain": [
       "<graphviz.graphs.Digraph at 0x7f6a89dc4c90>"
      ]
     },
     "execution_count": 9,
     "metadata": {},
     "output_type": "execute_result"
    }
   ],
   "source": [
    "pyro.render_model(model, model_args=(real_data,), render_params=True, render_distributions=True)"
   ]
  },
  {
   "cell_type": "code",
   "execution_count": 10,
   "metadata": {},
   "outputs": [
    {
     "name": "stderr",
     "output_type": "stream",
     "text": [
      "Mean ELBO 5754.81: 100%|████████████████████████████████████████| 2000/2000 [00:21<00:00, 94.81it/s]\n"
     ]
    },
    {
     "data": {
      "image/png": "[encoded data removed]",
      "text/plain": [
       "<Figure size 640x480 with 1 Axes>"
      ]
     },
     "metadata": {},
     "output_type": "display_data"
    }
   ],
   "source": [
    "# this is for running the notebook in our testing framework\n",
    "smoke_test = ('CI' in os.environ)\n",
    "# the step was 2000\n",
    "n_steps = 2 if smoke_test else 2000\n",
    "\n",
    "# assert pyro.__version__.startswith('1.8.6')\n",
    "\n",
    "# clear the param store in case we're in a REPL\n",
    "pyro.clear_param_store()# setup the optimizer\n",
    "# the learning rate was 0.0005 , \"betas\": (0.90, 0.999)\n",
    "# tried \"n_par\":15 in adam params but it does not have this argument\n",
    "adam_params = {\"lr\": 0.01}\n",
    "optimizer = Adam(adam_params)\n",
    "# setup the inference algorithm\n",
    "svi = SVI(model, guide, optimizer, loss=Trace_ELBO())\n",
    "# svi = SVI(model_gamma, guide_gamma, optimizer, loss=Trace_ELBO())\n",
    "\n",
    "loss = []\n",
    "pbar = tqdm(range(n_steps), position = 0)\n",
    "# do gradient steps\n",
    "for step in pbar:\n",
    "    loss.append(torch.tensor(svi.step(real_data)))\n",
    "    pbar.set_description(\"Mean ELBO %6.2f\" % torch.tensor(loss[-20:]).mean())\n",
    "    # for name, value in pyro.get_param_store().items():\n",
    "    #     print(name, pyro.param(name))\n",
    "    if torch.isnan(loss[-1]):\n",
    "\t    break\n",
    "\n",
    "plt.figure()\n",
    "plt.plot(loss)\n",
    "plt.xlabel(\"iter step\")\n",
    "plt.ylabel(\"ELBO loss\")\n",
    "plt.title(\"ELBO minimization during inference\")\n",
    "plt.show()"
   ]
  },
  {
   "cell_type": "code",
   "execution_count": 11,
   "metadata": {},
   "outputs": [],
   "source": [
    "pos_dict = {}\n",
    "for name, value in pyro.get_param_store().items():\n",
    "    pos_dict[name] = value\n",
    "\n",
    "# change the dictionary to numpy instead of tensor\n",
    "# because somehow the tensor cannot be save with pickle\n",
    "numpy_dict = {key: value.detach().numpy() for key, value in pos_dict.items()}"
   ]
  },
  {
   "cell_type": "code",
   "execution_count": 12,
   "metadata": {},
   "outputs": [],
   "source": [
    "results = pyro.get_param_store()['m_locs']"
   ]
  },
  {
   "cell_type": "code",
   "execution_count": 13,
   "metadata": {},
   "outputs": [],
   "source": [
    "# save the dictionary\n",
    "with open('Documents/pyro_models/files_to_run/results/shift_delay_1.pkl', 'wb') as f:\n",
    "    pickle.dump(numpy_dict, f)"
   ]
  },
  {
   "cell_type": "code",
   "execution_count": 33,
   "metadata": {},
   "outputs": [],
   "source": [
    "with open('Documents/pyro_models/files_to_run/results/my_dict.pkl', 'rb') as f:\n",
    "    loaded_dict = pickle.load(f)"
   ]
  },
  {
   "cell_type": "code",
   "execution_count": 36,
   "metadata": {},
   "outputs": [
    {
     "data": {
      "text/plain": [
       "array([[ 5.2161652e-01,  3.6666340e-01, -3.6581194e-01, -1.0484954e+00],\n",
       "       [ 5.5114138e-01, -1.3188515e-02,  9.2306715e-03, -9.5156866e-01],\n",
       "       [ 6.3818222e-01,  2.5570595e-01, -2.6072425e-01, -1.3633492e+00],\n",
       "       [ 6.0015959e-01,  5.0126386e-01, -5.0720769e-01, -1.0828130e+00],\n",
       "       [ 7.4840760e-01,  6.2393153e-01, -6.2807101e-01, -1.6006627e+00],\n",
       "       [ 8.7160885e-01,  1.0247313e+00, -1.0299459e+00, -2.1424818e+00],\n",
       "       [ 4.2315003e-01, -4.9927539e-01,  5.0588769e-01, -1.0137976e+00],\n",
       "       [ 3.1202507e-01, -3.6688098e-01,  3.6930519e-01, -1.3655092e+00],\n",
       "       [ 7.7393693e-01,  8.9233041e-01, -8.9585626e-01, -2.3215945e+00],\n",
       "       [ 3.1858784e-01, -3.0535144e-01,  3.0929151e-01, -1.0336502e+00],\n",
       "       [ 3.6746055e-01, -6.2514417e-02,  6.1972700e-02, -1.1951913e+00],\n",
       "       [ 3.9278632e-01, -2.2127047e-01,  2.2904383e-01, -2.0239239e+00],\n",
       "       [ 2.4299212e-01, -2.5242531e-01,  2.5873879e-01, -1.2541822e+00],\n",
       "       [ 8.6392134e-01,  7.2611558e-01, -7.3417902e-01, -1.3098649e+00],\n",
       "       [ 4.1069910e-01, -1.9068736e-01,  1.8504556e-01, -1.1018015e+00],\n",
       "       [ 5.2043658e-01,  5.0510430e-01, -5.1183057e-01, -2.1808078e+00],\n",
       "       [ 6.8090278e-01,  7.8977025e-01, -7.9427558e-01, -6.3898283e-01],\n",
       "       [ 5.2175367e-01,  4.6580588e-03, -1.5280128e-03, -1.6963935e+00],\n",
       "       [ 5.0517243e-01,  1.0096015e-01, -9.9869356e-02, -9.5852083e-01],\n",
       "       [ 3.6213875e-01, -1.6562234e-01,  1.6557015e-01, -1.0286797e+00],\n",
       "       [ 4.8199931e-01,  6.0699832e-02, -5.5245113e-02, -9.8704559e-01],\n",
       "       [ 4.5626849e-01, -6.6844262e-03,  7.3940642e-03, -1.1219019e+00],\n",
       "       [ 5.9626406e-01,  2.8730577e-01, -2.8756571e-01, -1.1649886e+00],\n",
       "       [ 4.3753475e-01, -4.7306958e-01,  4.7762674e-01, -1.2758620e+00],\n",
       "       [ 5.5677021e-01, -1.5203780e-01,  1.5853800e-01, -1.9080477e+00],\n",
       "       [ 3.3288693e-01, -1.0475203e-01,  1.1417085e-01, -9.1102397e-01],\n",
       "       [ 4.9659213e-01, -1.4111669e-01,  1.3476562e-01, -1.4762400e+00],\n",
       "       [ 6.1303312e-01,  2.4674144e-02, -2.6063140e-02, -1.1842395e+00],\n",
       "       [ 1.2744144e-01, -2.6255602e-01,  2.6460630e-01, -1.6738043e+00],\n",
       "       [ 1.2441740e+00,  2.9102650e-01, -2.9507861e-01, -3.1117401e+00],\n",
       "       [ 5.0801039e-01,  2.5486973e-01, -2.5515202e-01, -1.3200752e+00],\n",
       "       [ 3.4543306e-01, -2.5938103e-01,  2.6985285e-01, -8.0297470e-01],\n",
       "       [ 7.3468214e-01,  1.7230183e-01, -1.7465134e-01, -1.2255087e+00],\n",
       "       [ 5.7178736e-01,  4.2543063e-01, -4.2516226e-01, -1.2961878e+00],\n",
       "       [ 7.3030329e-01,  1.5728536e-01, -1.6719489e-01, -1.4306300e+00],\n",
       "       [ 8.6544168e-01,  6.5688729e-01, -6.6144890e-01, -1.3153961e+00],\n",
       "       [ 3.9088622e-01, -6.4477193e-01,  6.3320059e-01, -9.3700284e-01],\n",
       "       [ 1.0007273e-01, -4.4556868e-01,  4.4966680e-01, -1.6818166e+00],\n",
       "       [ 5.9054375e-01, -6.2009358e-01,  6.1924309e-01, -1.8451928e+00],\n",
       "       [ 3.8755012e-01, -2.0310597e-01,  2.0726524e-01, -8.8772660e-01],\n",
       "       [ 2.7201504e-01, -1.3896154e-01,  1.3883165e-01, -1.4442813e+00],\n",
       "       [ 4.9350536e-01, -1.2739576e+00,  1.2727679e+00, -1.2309635e+00],\n",
       "       [ 3.5032141e-01, -2.6327327e-01,  2.6491493e-01, -6.7612213e-01],\n",
       "       [ 6.0006446e-01,  6.2836802e-01, -6.3444346e-01, -1.0207648e+00],\n",
       "       [ 3.6466137e-01, -8.7910369e-02,  8.6296730e-02, -6.3458037e-01],\n",
       "       [ 8.4406221e-01, -3.2927227e-01,  3.5023090e-01, -2.3587487e+00],\n",
       "       [ 6.8412298e-01,  4.1080350e-01, -4.1072014e-01, -7.5086808e-01],\n",
       "       [ 2.1007298e-01, -8.9926496e-02,  8.9924447e-02, -1.3787351e+00],\n",
       "       [ 6.7031127e-01,  1.5168419e-01, -1.5251155e-01, -1.2036773e+00],\n",
       "       [ 1.8679513e-01, -2.3459174e-01,  2.4760985e-01, -1.3593429e+00],\n",
       "       [ 5.8963996e-01,  1.1571192e-01, -1.1426987e-01, -1.1713464e+00],\n",
       "       [ 1.2130740e-01, -1.3069230e-01,  1.3346229e-01, -1.5168523e+00],\n",
       "       [ 5.4323107e-01,  2.9192723e-02, -2.6614616e-02, -1.9015462e+00],\n",
       "       [ 2.9855976e-01, -4.9293655e-01,  4.9858126e-01, -1.5087866e+00],\n",
       "       [ 5.1115030e-01, -5.3030527e-01,  5.3743488e-01, -1.7369894e+00],\n",
       "       [ 2.8890142e-01, -2.2991845e-01,  2.3024844e-01, -1.1669824e+00],\n",
       "       [ 2.5916898e-01, -1.4940435e-01,  1.4664775e-01, -1.2217926e+00],\n",
       "       [ 3.0759126e-01, -1.6588584e-01,  1.6361773e-01, -1.3798765e+00],\n",
       "       [ 7.5198770e-01, -2.4554490e-01,  2.4370134e-01, -1.9865191e+00],\n",
       "       [ 6.2981826e-01,  9.1961421e-02, -1.0871639e-01, -2.8516982e+00]],\n",
       "      dtype=float32)"
      ]
     },
     "execution_count": 36,
     "metadata": {},
     "output_type": "execute_result"
    }
   ],
   "source": [
    "loaded_dict['m_locs']"
   ]
  }
 ],
 "metadata": {
  "kernelspec": {
   "display_name": "Python 3 (ipykernel)",
   "language": "python",
   "name": "python3"
  },
  "language_info": {
   "codemirror_mode": {
    "name": "ipython",
    "version": 3
   },
   "file_extension": ".py",
   "mimetype": "text/x-python",
   "name": "python",
   "nbconvert_exporter": "python",
   "pygments_lexer": "ipython3",
   "version": "3.11.6"
  }
 },
 "nbformat": 4,
 "nbformat_minor": 2
}
