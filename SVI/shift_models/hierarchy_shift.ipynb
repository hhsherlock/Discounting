{
 "cells": [
  {
   "cell_type": "code",
   "execution_count": 8,
   "metadata": {},
   "outputs": [
    {
     "name": "stdout",
     "output_type": "stream",
     "text": [
      "['', 'trial', 'val_basic', 'delay', 'val_prc', 'response', 'RT', 'respSide', 'sideNOW', 'Version', 'loopID', 'Context']\n"
     ]
    }
   ],
   "source": [
    "#!/usr/bin/env python3\n",
    "# -*- coding: utf-8 -*-\n",
    "\"\"\"\n",
    "    Created on Fri Apr 5 2024\n",
    "    \n",
    "    @author: Yaning\n",
    "\"\"\"\n",
    "\n",
    "import math\n",
    "import os\n",
    "# from turtle import position\n",
    "import torch\n",
    "import torch.distributions.constraints as constraints\n",
    "import pyro\n",
    "from pyro.optim import Adam\n",
    "from pyro.infer import SVI, Trace_ELBO, Predictive\n",
    "import pyro.distributions as dist\n",
    "from tqdm import tqdm\n",
    "import matplotlib.pyplot as plt\n",
    "from statistics import mean \n",
    "# import pandas as pd\n",
    "import numpy as np\n",
    "import scipy.stats as stats\n",
    "import pandas as pd\n",
    "import pickle\n",
    "\n",
    "# np.random.seed(123)\n",
    "# torch.manual_seed(123)\n",
    "\n",
    "%run Documents/pyro_models/files_to_run/data_analysis_without_version.ipynb\n",
    "# %run Documents/pyro_models/files_to_run/data_analysis(matlab_dataset).ipynb"
   ]
  },
  {
   "cell_type": "code",
   "execution_count": 20,
   "metadata": {},
   "outputs": [],
   "source": [
    "real_data = data[1]"
   ]
  },
  {
   "cell_type": "code",
   "execution_count": 21,
   "metadata": {},
   "outputs": [],
   "source": [
    "real_data = torch.tensor(real_data)"
   ]
  },
  {
   "cell_type": "code",
   "execution_count": 11,
   "metadata": {},
   "outputs": [
    {
     "data": {
      "text/plain": [
       "array([20.4, 20.5, 21.6, 21.7, 24. , 26.6, 29.4, 30. , 34. , 36.6, 38. ,\n",
       "       41.4, 46. , 50. , 56. , 62. , 70. , 76. ])"
      ]
     },
     "execution_count": 11,
     "metadata": {},
     "output_type": "execute_result"
    }
   ],
   "source": [
    "np.unique(real_data[0,0,:,3])"
   ]
  },
  {
   "cell_type": "code",
   "execution_count": 3,
   "metadata": {},
   "outputs": [],
   "source": [
    "real_data.shape\n",
    "trial_num = real_data.shape[2]"
   ]
  },
  {
   "cell_type": "code",
   "execution_count": 4,
   "metadata": {},
   "outputs": [],
   "source": [
    "test_data = real_data[:2]"
   ]
  },
  {
   "cell_type": "code",
   "execution_count": 5,
   "metadata": {},
   "outputs": [],
   "source": [
    "test_data = torch.tensor(test_data)"
   ]
  },
  {
   "cell_type": "code",
   "execution_count": 4,
   "metadata": {},
   "outputs": [],
   "source": [
    "real_data = torch.tensor(real_data)"
   ]
  },
  {
   "cell_type": "code",
   "execution_count": 42,
   "metadata": {},
   "outputs": [
    {
     "data": {
      "text/plain": [
       "torch.Size([10200])"
      ]
     },
     "execution_count": 42,
     "metadata": {},
     "output_type": "execute_result"
    }
   ],
   "source": [
    "test = real_data[:,:,:,-1].view(-1)*real_data[:,:,:,-1].view(-1)\n",
    "test.shape"
   ]
  },
  {
   "cell_type": "code",
   "execution_count": 17,
   "metadata": {},
   "outputs": [],
   "source": [
    "# np.random.seed(123)\n",
    "# torch.manual_seed(123)\n",
    "\n",
    "# beta_variance = lambda alpha, beta: alpha*beta / ((alpha+beta)**2 * (alpha + beta + 1))\n",
    "# gamma_variance = lambda conc, rate: conc/(rate**2)\n",
    "\n",
    "# device = torch.device(\"cpu\")\n",
    "\n",
    "# torch.set_default_tensor_type(torch.DoubleTensor)\n",
    "\n",
    "\n",
    "def model(data):\n",
    "    # in the order of 0:mean_u, 1:sigma_u, 2:sigma_es and 3:beta\n",
    "    # continue in shift: 4:shift_mean_u, 5:shift_sigma_u, 6:shift_sigma_es, \n",
    "    num_params = 7\n",
    "    # num_contexts = data.shape[0]\n",
    "    # num_agents = data.shape[1]\n",
    "    # num_trials = data.shape[2]\n",
    "\n",
    "    num_agents = data.shape[0]\n",
    "    num_trials = data.shape[1]\n",
    "    # define hyper priors over model parameters\n",
    "    # prior over sigma of a Gaussian is a Gamma distribution\n",
    "    a = pyro.param('a', torch.ones(num_params), constraint=dist.constraints.positive)\n",
    "    lam = pyro.param('lam', torch.ones(num_params), constraint=dist.constraints.positive)\n",
    "    tau = pyro.sample('tau', dist.Gamma(a, a/lam).to_event(1)) # mean = a / (a/lam) = lam\n",
    "\n",
    "    sig = pyro.deterministic('sig', 1/torch.sqrt(tau)) # Gauss sigma\n",
    "\n",
    "    # each model parameter has a hyperprior defining group level mean\n",
    "    # in the form of a Normal distribution\n",
    "    m = pyro.param('m', torch.zeros(num_params))\n",
    "    s = pyro.param('s', torch.ones(num_params), constraint=dist.constraints.positive)\n",
    "    mu = pyro.sample('mu', dist.Normal(m, s*sig).to_event(1)) # Gauss mu, wieso s*sig?\n",
    "\n",
    "    # in order to implement groups, where each subject is independent of the others, pyro uses so-called plates.\n",
    "    # you embed what should be done for each subject into the \"with pyro.plate\" context\n",
    "    # the plate vectorizes subjects and adds an additional dimension onto all arrays/tensors\n",
    "    # i.e. p1 below will have the length num_agents\n",
    "    with pyro.plate('ag_idx', num_agents):\n",
    "        # draw parameters from Normal and transform (for numeric trick reasons)\n",
    "        base_dist = dist.Normal(0., 1.).expand_by([num_params]).to_event(1)\n",
    "        # Transform via the pointwise affine mapping y = loc + scale*x (-> Neal's funnel)\n",
    "        transform = dist.transforms.AffineTransform(mu, sig) \n",
    "        locs = pyro.sample('locs', dist.TransformedDistribution(base_dist, [transform]))\\\n",
    "    \n",
    "    group_indices = torch.arange(num_agents).unsqueeze(1).repeat(1, num_trials).reshape(-1)\n",
    "    # index to use in shift\n",
    "    # group_indices = torch.cat((group_indices, group_indices))\n",
    "\n",
    "    # with pyro.plate('data', num_agents*num_trials*num_contexts):\n",
    "        # sigma_u = torch.exp(locs[:,1][group_indices] + data[:,:,:,-1].view(-1)*locs[:,5][group_indices])\n",
    "        # sigma_es = torch.exp(locs[:,2][group_indices] + data[:,:,:,-1].view(-1)*locs[:,6][group_indices])\n",
    "        # mean_u = locs[:,0][group_indices] + data[:,:,:,-1].view(-1)*locs[:,4][group_indices]\n",
    "\n",
    "        # e_val = (mean_u*data[:,:,:,2].view(-1)*sigma_es**2 + \n",
    "        #          data[:,:,:,3].view(-1)*sigma_u**2)/(data[:,:,:,2].view(-1)*sigma_es**2 + sigma_u**2)\n",
    "\n",
    "        # beta = torch.exp(locs[:,3])[group_indices]\n",
    "        # softmax_args = torch.stack([beta*e_val, beta*data[:,:,:,1].view(-1)])\n",
    "        # p = torch.softmax(softmax_args, dim = 0)[0]\n",
    "        # pyro.sample(\"obs\", dist.Bernoulli(probs = p), obs=data[:,:,:,4].view(-1))\n",
    "        \n",
    "    with pyro.plate('data', num_agents*num_trials):\n",
    "        sigma_u = torch.exp(locs[:,1][group_indices] + data[:,:,-1].view(-1)*locs[:,5][group_indices])\n",
    "        sigma_es = torch.exp(locs[:,2][group_indices] + data[:,:,-1].view(-1)*locs[:,6][group_indices])\n",
    "        mean_u = locs[:,0][group_indices] + data[:,:,-1].view(-1)*locs[:,4][group_indices]\n",
    "\n",
    "        e_val = (mean_u*data[:,:,2].view(-1)*sigma_es**2 + \n",
    "                 data[:,:,3].view(-1)*sigma_u**2)/(data[:,:,2].view(-1)*sigma_es**2 + sigma_u**2)\n",
    "\n",
    "        beta = torch.exp(locs[:,3])[group_indices]\n",
    "        softmax_args = torch.stack([beta*e_val, beta*data[:,:,1].view(-1)])\n",
    "        p = torch.softmax(softmax_args, dim = 0)[0]\n",
    "        pyro.sample(\"obs\", dist.Bernoulli(probs = p), obs=data[:,:,4].view(-1))\n",
    "    return locs\n",
    "            "
   ]
  },
  {
   "cell_type": "code",
   "execution_count": 12,
   "metadata": {},
   "outputs": [],
   "source": [
    "def guide(data):\n",
    "    num_params = 7\n",
    "    # num_agents = data.shape[1]\n",
    "    num_agents = data.shape[0]\n",
    "    # biject_to(constraint) looks up a bijective Transform from constraints.real \n",
    "    # to the given constraint. The returned transform is guaranteed to have \n",
    "    # .bijective = True and should implement .log_abs_det_jacobian().\n",
    "    trns = torch.distributions.biject_to(dist.constraints.positive)\n",
    "\n",
    "    # define mean vector and covariance matrix of multivariate normal\n",
    "    m_hyp = pyro.param('m_hyp', torch.zeros(2*num_params))\n",
    "    st_hyp = pyro.param('scale_tril_hyp',\n",
    "                    torch.eye(2*num_params),\n",
    "                    constraint=dist.constraints.lower_cholesky)\n",
    "\n",
    "    # set hyperprior to be multivariate normal\n",
    "    # scale_tril (Tensor) – lower-triangular factor of covariance, with positive-valued diagonal\n",
    "    hyp = pyro.sample('hyp',\n",
    "                    dist.MultivariateNormal(m_hyp, scale_tril=st_hyp),\n",
    "                    infer={'is_auxiliary': True})\n",
    "\n",
    "    # mu & tau unconstrained\n",
    "    unc_mu = hyp[..., :num_params]\n",
    "    unc_tau = hyp[..., num_params:]\n",
    "\n",
    "    # constrained tau, shape num_params, or num_particles, 1, num_params\n",
    "    c_tau = trns(unc_tau)\n",
    "\n",
    "    # ld = log_density\n",
    "    # log_abs_det_jacobian(x, y) computes derivative |dy/dx|\n",
    "    ld_tau = -trns.inv.log_abs_det_jacobian(c_tau, unc_tau)\n",
    "    \n",
    "    # sum_rightmost(x, dim)\n",
    "    # sum out ``dim`` many rightmost dimensions of a given tensor.\n",
    "    # ld_tau.shape is num_params, or num_particles, 1, num_params before sum_rightmost\n",
    "    ld_tau = dist.util.sum_rightmost(ld_tau, ld_tau.dim() - c_tau.dim() + 1)\n",
    "\n",
    "    # some numerics tricks\n",
    "    mu = pyro.sample(\"mu\", dist.Delta(unc_mu, event_dim=1))\n",
    "    # c_tau shape: num_params, or num_particles, 1, num_params\n",
    "    # ld_tau shape: [] or num_particles, 1,\n",
    "    tau = pyro.sample(\"tau\", dist.Delta(c_tau, log_density=ld_tau, event_dim=1))\n",
    "\n",
    "    m_locs = pyro.param('m_locs', torch.zeros(num_agents, num_params))\n",
    "    st_locs = pyro.param('scale_tril_locs',\n",
    "                    torch.eye(num_params).repeat(num_agents, 1, 1),\n",
    "                    constraint=dist.constraints.lower_cholesky)\n",
    "    \n",
    "    with pyro.plate('ag_idx', num_agents):\n",
    "        locs = pyro.sample(\"locs\", dist.MultivariateNormal(m_locs, scale_tril=st_locs))\n",
    "\n",
    "    return {'tau': tau, 'mu': mu, 'locs': locs, 'm_locs': m_locs, 'st_locs': st_locs}"
   ]
  },
  {
   "cell_type": "code",
   "execution_count": 13,
   "metadata": {},
   "outputs": [
    {
     "data": {
      "image/svg+xml": [
       "<?xml version=\"1.0\" encoding=\"UTF-8\" standalone=\"no\"?>\n",
       "<!DOCTYPE svg PUBLIC \"-//W3C//DTD SVG 1.1//EN\"\n",
       " \"http://www.w3.org/Graphics/SVG/1.1/DTD/svg11.dtd\">\n",
       "<!-- Generated by graphviz version 9.0.0 (0)\n",
       " -->\n",
       "<!-- Pages: 1 -->\n",
       "<svg width=\"519pt\" height=\"297pt\"\n",
       " viewBox=\"0.00 0.00 519.25 296.50\" xmlns=\"http://www.w3.org/2000/svg\" xmlns:xlink=\"http://www.w3.org/1999/xlink\">\n",
       "<g id=\"graph0\" class=\"graph\" transform=\"scale(1 1) rotate(0) translate(4 292.5)\">\n",
       "<polygon fill=\"white\" stroke=\"none\" points=\"-4,4 -4,-292.5 515.25,-292.5 515.25,4 -4,4\"/>\n",
       "<g id=\"clust1\" class=\"cluster\">\n",
       "<title>cluster_ag_idx</title>\n",
       "<polygon fill=\"none\" stroke=\"black\" points=\"180,-44 180,-120.5 250,-120.5 250,-44 180,-44\"/>\n",
       "<text text-anchor=\"middle\" x=\"223.62\" y=\"-51.2\" font-family=\"Times,serif\" font-size=\"14.00\">ag_idx</text>\n",
       "</g>\n",
       "<!-- hyp -->\n",
       "<g id=\"node1\" class=\"node\">\n",
       "<title>hyp</title>\n",
       "<ellipse fill=\"white\" stroke=\"black\" cx=\"63\" cy=\"-94.5\" rx=\"27\" ry=\"18\"/>\n",
       "<text text-anchor=\"middle\" x=\"63\" y=\"-89.45\" font-family=\"Times,serif\" font-size=\"14.00\">hyp</text>\n",
       "</g>\n",
       "<!-- mu -->\n",
       "<g id=\"node2\" class=\"node\">\n",
       "<title>mu</title>\n",
       "<ellipse fill=\"white\" stroke=\"black\" cx=\"27\" cy=\"-18\" rx=\"27\" ry=\"18\"/>\n",
       "<text text-anchor=\"middle\" x=\"27\" y=\"-12.95\" font-family=\"Times,serif\" font-size=\"14.00\">mu</text>\n",
       "</g>\n",
       "<!-- hyp&#45;&gt;mu -->\n",
       "<g id=\"edge1\" class=\"edge\">\n",
       "<title>hyp&#45;&gt;mu</title>\n",
       "<path fill=\"none\" stroke=\"black\" d=\"M55.01,-76.97C50.58,-67.8 44.97,-56.19 39.93,-45.77\"/>\n",
       "<polygon fill=\"black\" stroke=\"black\" points=\"43.13,-44.33 35.63,-36.85 36.83,-47.38 43.13,-44.33\"/>\n",
       "</g>\n",
       "<!-- tau -->\n",
       "<g id=\"node3\" class=\"node\">\n",
       "<title>tau</title>\n",
       "<ellipse fill=\"white\" stroke=\"black\" cx=\"99\" cy=\"-18\" rx=\"27\" ry=\"18\"/>\n",
       "<text text-anchor=\"middle\" x=\"99\" y=\"-12.95\" font-family=\"Times,serif\" font-size=\"14.00\">tau</text>\n",
       "</g>\n",
       "<!-- hyp&#45;&gt;tau -->\n",
       "<g id=\"edge2\" class=\"edge\">\n",
       "<title>hyp&#45;&gt;tau</title>\n",
       "<path fill=\"none\" stroke=\"black\" d=\"M70.99,-76.97C75.42,-67.8 81.03,-56.19 86.07,-45.77\"/>\n",
       "<polygon fill=\"black\" stroke=\"black\" points=\"89.17,-47.38 90.37,-36.85 82.87,-44.33 89.17,-47.38\"/>\n",
       "</g>\n",
       "<!-- m_locs -->\n",
       "<g id=\"node4\" class=\"node\">\n",
       "<title>m_locs</title>\n",
       "<polygon fill=\"white\" stroke=\"none\" points=\"196.88,-226.75 157.12,-226.75 157.12,-210.25 196.88,-210.25 196.88,-226.75\"/>\n",
       "<text text-anchor=\"middle\" x=\"177\" y=\"-213.45\" font-family=\"Times,serif\" font-size=\"14.00\">m_locs</text>\n",
       "</g>\n",
       "<!-- locs -->\n",
       "<g id=\"node8\" class=\"node\">\n",
       "<title>locs</title>\n",
       "<ellipse fill=\"white\" stroke=\"black\" cx=\"215\" cy=\"-94.5\" rx=\"27\" ry=\"18\"/>\n",
       "<text text-anchor=\"middle\" x=\"215\" y=\"-89.45\" font-family=\"Times,serif\" font-size=\"14.00\">locs</text>\n",
       "</g>\n",
       "<!-- m_locs&#45;&gt;locs -->\n",
       "<g id=\"edge5\" class=\"edge\">\n",
       "<title>m_locs&#45;&gt;locs</title>\n",
       "<path fill=\"none\" stroke=\"black\" d=\"M179.15,-210.59C184.29,-194.11 197.48,-151.75 206.35,-123.28\"/>\n",
       "<polygon fill=\"black\" stroke=\"black\" points=\"209.65,-124.44 209.28,-113.85 202.97,-122.36 209.65,-124.44\"/>\n",
       "</g>\n",
       "<!-- m_hyp -->\n",
       "<g id=\"node5\" class=\"node\">\n",
       "<title>m_hyp</title>\n",
       "<polygon fill=\"white\" stroke=\"none\" points=\"45.12,-226.75 6.88,-226.75 6.88,-210.25 45.12,-210.25 45.12,-226.75\"/>\n",
       "<text text-anchor=\"middle\" x=\"26\" y=\"-213.45\" font-family=\"Times,serif\" font-size=\"14.00\">m_hyp</text>\n",
       "</g>\n",
       "<!-- m_hyp&#45;&gt;hyp -->\n",
       "<g id=\"edge3\" class=\"edge\">\n",
       "<title>m_hyp&#45;&gt;hyp</title>\n",
       "<path fill=\"none\" stroke=\"black\" d=\"M28.1,-210.59C33.09,-194.11 45.94,-151.75 54.58,-123.28\"/>\n",
       "<polygon fill=\"black\" stroke=\"black\" points=\"57.88,-124.44 57.43,-113.85 51.18,-122.41 57.88,-124.44\"/>\n",
       "</g>\n",
       "<!-- scale_tril_hyp -->\n",
       "<g id=\"node6\" class=\"node\">\n",
       "<title>scale_tril_hyp</title>\n",
       "<polygon fill=\"white\" stroke=\"none\" points=\"139.25,-226.75 62.75,-226.75 62.75,-210.25 139.25,-210.25 139.25,-226.75\"/>\n",
       "<text text-anchor=\"middle\" x=\"101\" y=\"-213.45\" font-family=\"Times,serif\" font-size=\"14.00\">scale_tril_hyp</text>\n",
       "</g>\n",
       "<!-- scale_tril_hyp&#45;&gt;hyp -->\n",
       "<g id=\"edge4\" class=\"edge\">\n",
       "<title>scale_tril_hyp&#45;&gt;hyp</title>\n",
       "<path fill=\"none\" stroke=\"black\" d=\"M98.85,-210.59C93.71,-194.11 80.52,-151.75 71.65,-123.28\"/>\n",
       "<polygon fill=\"black\" stroke=\"black\" points=\"75.03,-122.36 68.72,-113.85 68.35,-124.44 75.03,-122.36\"/>\n",
       "</g>\n",
       "<!-- scale_tril_locs -->\n",
       "<g id=\"node7\" class=\"node\">\n",
       "<title>scale_tril_locs</title>\n",
       "<polygon fill=\"white\" stroke=\"none\" points=\"293,-226.75 215,-226.75 215,-210.25 293,-210.25 293,-226.75\"/>\n",
       "<text text-anchor=\"middle\" x=\"254\" y=\"-213.45\" font-family=\"Times,serif\" font-size=\"14.00\">scale_tril_locs</text>\n",
       "</g>\n",
       "<!-- scale_tril_locs&#45;&gt;locs -->\n",
       "<g id=\"edge6\" class=\"edge\">\n",
       "<title>scale_tril_locs&#45;&gt;locs</title>\n",
       "<path fill=\"none\" stroke=\"black\" d=\"M251.79,-210.59C246.52,-194.11 232.98,-151.75 223.88,-123.28\"/>\n",
       "<polygon fill=\"black\" stroke=\"black\" points=\"227.24,-122.3 220.86,-113.85 220.58,-124.44 227.24,-122.3\"/>\n",
       "</g>\n",
       "<!-- distribution_description_node -->\n",
       "<g id=\"node9\" class=\"node\">\n",
       "<title>distribution_description_node</title>\n",
       "<text text-anchor=\"start\" x=\"318.75\" y=\"-271.2\" font-family=\"Times,serif\" font-size=\"14.00\">hyp ~ MultivariateNormal</text>\n",
       "<text text-anchor=\"start\" x=\"318.75\" y=\"-254.7\" font-family=\"Times,serif\" font-size=\"14.00\">mu ~ Delta</text>\n",
       "<text text-anchor=\"start\" x=\"318.75\" y=\"-238.2\" font-family=\"Times,serif\" font-size=\"14.00\">tau ~ Delta</text>\n",
       "<text text-anchor=\"start\" x=\"318.75\" y=\"-221.7\" font-family=\"Times,serif\" font-size=\"14.00\">locs ~ MultivariateNormal</text>\n",
       "<text text-anchor=\"start\" x=\"318.75\" y=\"-205.2\" font-family=\"Times,serif\" font-size=\"14.00\">m_hyp : Real()</text>\n",
       "<text text-anchor=\"start\" x=\"318.75\" y=\"-188.7\" font-family=\"Times,serif\" font-size=\"14.00\">scale_tril_hyp : LowerCholesky()</text>\n",
       "<text text-anchor=\"start\" x=\"318.75\" y=\"-172.2\" font-family=\"Times,serif\" font-size=\"14.00\">m_locs : Real()</text>\n",
       "<text text-anchor=\"start\" x=\"318.75\" y=\"-155.7\" font-family=\"Times,serif\" font-size=\"14.00\">scale_tril_locs : LowerCholesky()</text>\n",
       "</g>\n",
       "</g>\n",
       "</svg>\n"
      ],
      "text/plain": [
       "<graphviz.graphs.Digraph at 0x7f48e7e7cf50>"
      ]
     },
     "execution_count": 13,
     "metadata": {},
     "output_type": "execute_result"
    }
   ],
   "source": [
    "pyro.render_model(guide, model_args=(real_data,), render_params=True, render_distributions=True)"
   ]
  },
  {
   "cell_type": "code",
   "execution_count": 22,
   "metadata": {},
   "outputs": [
    {
     "name": "stderr",
     "output_type": "stream",
     "text": [
      "Mean ELBO 1416.39: 100%|███████████████████████████████████████| 2000/2000 [00:10<00:00, 190.68it/s]\n"
     ]
    },
    {
     "data": {
      "image/png": "[encoded data removed]",
      "text/plain": [
       "<Figure size 640x480 with 1 Axes>"
      ]
     },
     "metadata": {},
     "output_type": "display_data"
    }
   ],
   "source": [
    "# this is for running the notebook in our testing framework\n",
    "smoke_test = ('CI' in os.environ)\n",
    "# the step was 2000\n",
    "n_steps = 2 if smoke_test else 2000\n",
    "\n",
    "# assert pyro.__version__.startswith('1.8.6')\n",
    "\n",
    "# clear the param store in case we're in a REPL\n",
    "pyro.clear_param_store()# setup the optimizer\n",
    "# the learning rate was 0.0005 , \"betas\": (0.90, 0.999)\n",
    "# tried \"n_par\":15 in adam params but it does not have this argument\n",
    "adam_params = {\"lr\": 0.01}\n",
    "optimizer = Adam(adam_params)\n",
    "# setup the inference algorithm\n",
    "svi = SVI(model, guide, optimizer, loss=Trace_ELBO())\n",
    "# svi = SVI(model_gamma, guide_gamma, optimizer, loss=Trace_ELBO())\n",
    "\n",
    "loss = []\n",
    "pbar = tqdm(range(n_steps), position = 0)\n",
    "# do gradient steps\n",
    "for step in pbar:\n",
    "    loss.append(torch.tensor(svi.step(real_data)))\n",
    "    pbar.set_description(\"Mean ELBO %6.2f\" % torch.tensor(loss[-20:]).mean())\n",
    "    # for name, value in pyro.get_param_store().items():\n",
    "    #     print(name, pyro.param(name))\n",
    "    if torch.isnan(loss[-1]):\n",
    "\t    break\n",
    "\n",
    "plt.figure()\n",
    "plt.plot(loss)\n",
    "plt.xlabel(\"iter step\")\n",
    "plt.ylabel(\"ELBO loss\")\n",
    "plt.title(\"ELBO minimization during inference\")\n",
    "plt.show()"
   ]
  },
  {
   "cell_type": "code",
   "execution_count": 9,
   "metadata": {},
   "outputs": [],
   "source": [
    "pos_dict = {}\n",
    "for name, value in pyro.get_param_store().items():\n",
    "    pos_dict[name] = value\n",
    "\n",
    "# change the dictionary to numpy instead of tensor\n",
    "# because somehow the tensor cannot be save with pickle\n",
    "numpy_dict = {key: value.detach().numpy() for key, value in pos_dict.items()}"
   ]
  },
  {
   "cell_type": "code",
   "execution_count": 10,
   "metadata": {},
   "outputs": [],
   "source": [
    "results = pyro.get_param_store()['m_locs']"
   ]
  },
  {
   "cell_type": "code",
   "execution_count": 22,
   "metadata": {},
   "outputs": [],
   "source": [
    "# save the dictionary\n",
    "with open('Documents/pyro_models/files_to_run/results/peters_2020_neuron_shift_0.pkl', 'wb') as f:\n",
    "    pickle.dump(numpy_dict, f)"
   ]
  },
  {
   "cell_type": "code",
   "execution_count": 23,
   "metadata": {},
   "outputs": [],
   "source": [
    "sample_num = 1000\n",
    "tau = []\n",
    "mu = []\n",
    "for i in range(sample_num):\n",
    "    tau.append(guide(real_data)['tau'].detach().numpy())\n",
    "    mu.append(guide(real_data)['mu'].detach().numpy())\n",
    "\n",
    "tau = np.array(tau)\n",
    "mu = np.array(mu)\n",
    "\n",
    "sample_dict = {}\n",
    "sample_dict['tau'] = tau\n",
    "sample_dict['mu'] = mu\n",
    "\n",
    "# save the dictionary\n",
    "with open('Documents/pyro_models/files_to_run/results/shift_gamble_samples.pkl', 'wb') as f:\n",
    "    pickle.dump(sample_dict, f)"
   ]
  }
 ],
 "metadata": {
  "kernelspec": {
   "display_name": "Python 3 (ipykernel)",
   "language": "python",
   "name": "python3"
  },
  "language_info": {
   "codemirror_mode": {
    "name": "ipython",
    "version": 3
   },
   "file_extension": ".py",
   "mimetype": "text/x-python",
   "name": "python",
   "nbconvert_exporter": "python",
   "pygments_lexer": "ipython3",
   "version": "3.11.6"
  }
 },
 "nbformat": 4,
 "nbformat_minor": 2
}
