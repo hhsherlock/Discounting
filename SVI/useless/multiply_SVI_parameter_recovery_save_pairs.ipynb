{
 "cells": [
  {
   "cell_type": "code",
   "execution_count": 4,
   "metadata": {},
   "outputs": [],
   "source": [
    "#!/usr/bin/env python3\n",
    "# -*- coding: utf-8 -*-\n",
    "\"\"\"\n",
    "Created on Mon Feb 5 2024\n",
    "\n",
    "@author: Yaning\n",
    "\"\"\"\n",
    "# functions for simulating agent data\n",
    "# this file address is your own\n",
    "%run Documents/pyro_models/multi_agent_simulation.py\n",
    "\n",
    "import math\n",
    "import os\n",
    "import numpy as np\n",
    "# from turtle import position\n",
    "import torch\n",
    "import torch.distributions.constraints as constraints\n",
    "import pyro\n",
    "from pyro.optim import Adam\n",
    "from pyro.infer import SVI, Trace_ELBO, Predictive\n",
    "from pyro.distributions import Normal, Bernoulli, Categorical, Gamma\n",
    "from tqdm import tqdm\n",
    "import matplotlib.pyplot as plt\n",
    "from statistics import mean \n",
    "import seaborn as sns\n",
    "import pandas as pd"
   ]
  },
  {
   "cell_type": "code",
   "execution_count": 47,
   "metadata": {},
   "outputs": [],
   "source": [
    "# prior mean (mean_u) is between 0 and 10\n",
    "# prior variance (var_u) is between 1. to 10.\n",
    "# estimation/likelihood variance is between 1. to 10.\n",
    "\n",
    "mean_u_list = np.linspace(0., 10., 3)\n",
    "var_u_list = np.linspace(1., 10., 3)\n",
    "var_es_list = np.linspace(1., 10., 3)\n",
    "\n",
    "\n",
    "# initialise trial combinations\n",
    "repetition = 10\n",
    "real_delays = [1., 3., 7., 13., 24., 32., 45., 58., 75., 122.]\n",
    "delays =  [i / 10 for i in real_delays]\n",
    "SS_values = [3.]\n",
    "# LL values by percentage of SS\n",
    "LL_values_p = [1.05, 1.055, 1.15, 1.25, 1.35, 1.45, 1.55, 1.65, \\\n",
    "               1.85, 1.9, 2.05, 2.25, 2.55, 2.85, 3.05, 3.45, 3.85]"
   ]
  },
  {
   "cell_type": "code",
   "execution_count": 57,
   "metadata": {},
   "outputs": [],
   "source": [
    "environment = Environment(SS_values, LL_values_p, delays, repetition)\n",
    "# run function returns first parameter list then inference list\n",
    "parameters_list, inference_list = run(mean_u_list, var_u_list, var_es_list, environment)"
   ]
  },
  {
   "cell_type": "code",
   "execution_count": 58,
   "metadata": {},
   "outputs": [],
   "source": [
    "# SVI model\n",
    "\n",
    "def model(actions, delays, ss_values, ll_values):\n",
    "    mean_u_mean_ini = torch.tensor(0.)\n",
    "    mean_u_var_ini = torch.tensor(1.)\n",
    "    var_u_alpha_ini =  torch.tensor(1.)\n",
    "    var_u_beta_ini =  torch.tensor(2.)\n",
    "    var_es_alpha_ini = torch.tensor(1.)\n",
    "    var_es_beta_ini = torch.tensor(2.)\n",
    "    mean_u = pyro.sample(\"mean_u\", Normal(loc=mean_u_mean_ini, scale=mean_u_var_ini))\n",
    "    log_var_u = pyro.sample(\"log_var_u\", Normal(loc=var_u_alpha_ini, scale = var_u_beta_ini))\n",
    "    log_var_es = pyro.sample(\"log_var_es\", Normal(loc=var_es_alpha_ini, scale = var_es_beta_ini))\n",
    "    # var_u = pyro.sample(\"var_u\", Gamma(var_u_alpha_ini, var_u_beta_ini))\n",
    "    # var_es = pyro.sample(\"var_es\", Gamma(var_es_alpha_ini, var_es_beta_ini))\n",
    "    # loop over the observed data\n",
    "    e_vals = []\n",
    "    for i in range(len(actions)):\n",
    "        var_u = torch.exp(log_var_u)\n",
    "        var_es = torch.exp(log_var_es)\n",
    "        e_vals.append((mean_u*delays[i]*var_es + ll_values[i]*var_u)/(delays[i]*var_es + var_u))\n",
    "        softmax_args = torch.stack([ss_values[i], e_vals[-1]])\n",
    "        p = torch.softmax(softmax_args, dim = 0)[0]\n",
    "        pyro.sample(\"obs_\" + str(i), Bernoulli(probs = p), obs=actions[i])\n",
    "\n",
    "def guide(actions, delays, ss_values, ll_values):\n",
    "    mean_u_mean_q = pyro.param(\"mean_u_mean_q\", torch.tensor(0.),\n",
    "                     constraint=constraints.positive)\n",
    "    mean_u_var_q = pyro.param(\"mean_u_var_q\", torch.tensor(1.),\n",
    "                     constraint=constraints.positive)\n",
    "    var_u_alpha_q = pyro.param(\"var_u_alpha_q\", torch.tensor(2.),\n",
    "                     constraint=constraints.positive)\n",
    "    var_u_beta_q = pyro.param(\"var_u_beta_q\", torch.tensor(1.),\n",
    "                     constraint=constraints.positive)\n",
    "    var_es_alpha_q = pyro.param(\"var_es_alpha_q\", torch.tensor(1.),\n",
    "                     constraint=constraints.positive)\n",
    "    var_es_beta_q = pyro.param(\"var_es_beta_q\", torch.tensor(2.),\n",
    "                     constraint=constraints.positive)\n",
    "\n",
    "    # sample from the HalfCauchy prior and normal distributions\n",
    "    mean_u = pyro.sample(\"mean_u\", Normal(loc=mean_u_mean_q, scale=mean_u_var_q))\n",
    "    log_var_u = pyro.sample(\"log_var_u\", Normal(var_u_alpha_q, var_u_beta_q))\n",
    "    log_var_es = pyro.sample(\"log_var_es\", Normal(var_es_alpha_q, var_es_beta_q))\n",
    "    # var_u = pyro.sample(\"var_u\", Gamma(var_u_alpha_q, var_u_beta_q))\n",
    "    # var_es = pyro.sample(\"var_es\", Gamma(var_es_alpha_q, var_es_beta_q))\n",
    "\n",
    "    sample_dict = {'mean_u': mean_u, 'log_var_u': log_var_u, 'log_var_es': log_var_es}\n",
    "\n",
    "    return sample_dict\n",
    "\n",
    "# create autoguide (multivariate normal distribution)\n",
    "auto_g = pyro.infer.autoguide.AutoMultivariateNormal(model)\n",
    "\n",
    "# # render the graph of the model\n",
    "# model(actions, delays, ss_values, ll_values)\n",
    "# pyro.render_model(model=model, model_args=(actions, delays, ss_values, ll_values,),\n",
    "#                   render_params=True, render_distributions=True,filename=\"model.pdf\")\n",
    "# pyro.render_model(model=guide, model_args=(actions, delays, ss_values, ll_values,),\n",
    "#                   render_params=True, render_distributions=True,filename=\"guide.pdf\")\n"
   ]
  },
  {
   "cell_type": "code",
   "execution_count": 59,
   "metadata": {},
   "outputs": [],
   "source": [
    "# setup the optimizer\n",
    "# the learning rate was 0.0005\n",
    "def inference(actions, delays, ss_values, ll_values, real_params):\n",
    "\n",
    "    # this is for running the notebook in our testing framework\n",
    "    smoke_test = ('CI' in os.environ)\n",
    "    # the step was 2000\n",
    "    n_steps = 2 if smoke_test else 200\n",
    "\n",
    "    # assert pyro.__version__.startswith('1.8.6')\n",
    "\n",
    "    # clear the param store in case we're in a REPL\n",
    "    pyro.clear_param_store()\n",
    "\n",
    "    adam_params = {\"lr\": 0.05, \"npart\": 15, \"betas\": (0.90, 0.999)}\n",
    "    optimizer = Adam(adam_params)\n",
    "    # setup the inference algorithm\n",
    "    svi = SVI(model, guide, optimizer, loss=Trace_ELBO())\n",
    "\n",
    "    loss = []\n",
    "    pbar = tqdm(range(n_steps), position = 0)\n",
    "    # do gradient steps\n",
    "    for step in pbar:\n",
    "        loss.append(torch.tensor(svi.step(actions, delays, ss_values, ll_values)))\n",
    "        pbar.set_description(\"Mean ELBO %6.2f\" % torch.tensor(loss[-20:]).mean())\n",
    "        if torch.isnan(loss[-1]):\n",
    "            break\n",
    "    plt.figure()\n",
    "    plt.plot(loss)\n",
    "    plt.xlabel(\"iter step\")\n",
    "    plt.ylabel(\"ELBO loss\")\n",
    "    plt.title(\"ELBO minimization during inference\")\n",
    "    plt.savefig('Documents/pyro_models/plots/parameter' + real_params +'.png')\n",
    "    plt.show()\n",
    "\n",
    "    # grab the posterior parameters with own guide\n",
    "    post_mean_u_mean = pyro.param(\"mean_u_mean_q\").item()\n",
    "    post_mean_u_var = pyro.param(\"mean_u_var_q\").item()\n",
    "    post_var_u_alpha = pyro.param(\"var_u_alpha_q\").item()\n",
    "    post_var_u_beta = pyro.param(\"var_u_beta_q\").item()\n",
    "    post_var_es_alpha = pyro.param(\"var_es_alpha_q\").item()\n",
    "    post_var_es_beta = pyro.param(\"var_es_beta_q\").item()\n",
    "\n",
    "    # # grab posterior from auto guide\n",
    "    # dict = {}\n",
    "    # for name, value in pyro.get_param_store().items():\n",
    "    #     dict[name] = pyro.param(name)\n",
    "\n",
    "    return [post_mean_u_mean, post_mean_u_var, post_var_u_alpha, \\\n",
    "            post_var_u_beta, post_var_es_alpha, post_var_es_beta]"
   ]
  },
  {
   "cell_type": "code",
   "execution_count": null,
   "metadata": {},
   "outputs": [],
   "source": [
    "posterior_list = []\n",
    "index_i = -1\n",
    "for i in inference_list:\n",
    "    j_list = []\n",
    "    index_i += 1\n",
    "    index_j = -1\n",
    "    for j in i:\n",
    "        k_list = []\n",
    "        index_j += 1\n",
    "        index_k = -1\n",
    "        for k in j:\n",
    "            index_k += 1\n",
    "            k_list.append(inference(torch.tensor(k[0]),\n",
    "                                    torch.tensor(k[1]),\n",
    "                                    torch.tensor(k[2]),\n",
    "                                    torch.tensor(k[3]), \n",
    "                                    (str(mean_u_list[index_i]) + '_' +\n",
    "                                     str(var_u_list[index_j]) + '_' +\n",
    "                                     str(var_es_list[index_k]))))\n",
    "        j_list.append(k_list)\n",
    "    posterior_list.append(j_list)\n",
    "\n",
    "print(posterior_list)"
   ]
  },
  {
   "cell_type": "code",
   "execution_count": 62,
   "metadata": {},
   "outputs": [],
   "source": [
    "posterior_list = np.array(posterior_list)"
   ]
  },
  {
   "cell_type": "code",
   "execution_count": 66,
   "metadata": {},
   "outputs": [
    {
     "name": "stdout",
     "output_type": "stream",
     "text": [
      "[0.0, 0.0, 0.0]\n",
      "[12.921905726580071, 5.431023621676239, 3.037579306244358]\n",
      "[279.03073771650605, 104.24933355108018, 121.4324059686989]\n"
     ]
    }
   ],
   "source": [
    "# posterior mean_u\n",
    "posterior_mean_u = []\n",
    "posterior_var_u = []\n",
    "posterior_var_es = []\n",
    "\n",
    "for i in range(len(mean_u_list)):\n",
    "    posterior_mean_u.append(mean(np.concatenate(posterior_list[i,:,:,0])))\n",
    "\n",
    "for i in range(len(var_u_list)):\n",
    "    posterior_var_u.append(np.exp(mean(np.concatenate(posterior_list[:,i,:,2]))))\n",
    "\n",
    "for i in range(len(var_es_list)):\n",
    "    posterior_var_es.append(np.exp(mean(np.concatenate(posterior_list[:,:,i,4]))))\n",
    "\n",
    "print(posterior_mean_u)\n",
    "print(posterior_var_u)\n",
    "print(posterior_var_es)"
   ]
  },
  {
   "cell_type": "code",
   "execution_count": 26,
   "metadata": {},
   "outputs": [
    {
     "data": {
      "text/plain": [
       "array([[[[0.        , 0.70440274, 4.09678984, 0.97041285, 0.50605649,\n",
       "          1.86924553],\n",
       "         [0.        , 1.05866086, 4.39853239, 0.6521129 , 0.4745456 ,\n",
       "          1.79442763]],\n",
       "\n",
       "        [[0.        , 0.5737204 , 0.91127813, 0.69945848, 2.45628524,\n",
       "          1.01337659],\n",
       "         [0.        , 1.08353615, 2.82366204, 0.91127765, 0.69895589,\n",
       "          1.28837276]]],\n",
       "\n",
       "\n",
       "       [[[0.        , 0.96732432, 0.89416796, 1.02051985, 2.48283839,\n",
       "          1.26718748],\n",
       "         [0.        , 1.57763505, 0.87621504, 0.86454022, 2.54496002,\n",
       "          1.61706579]],\n",
       "\n",
       "        [[0.        , 0.94623464, 0.87397003, 0.93145931, 2.56352878,\n",
       "          1.54461658],\n",
       "         [0.        , 0.63787937, 0.92639786, 0.5951879 , 2.29025698,\n",
       "          2.42393756]]]])"
      ]
     },
     "execution_count": 26,
     "metadata": {},
     "output_type": "execute_result"
    }
   ],
   "source": [
    "posterior_list"
   ]
  },
  {
   "cell_type": "code",
   "execution_count": 67,
   "metadata": {},
   "outputs": [
    {
     "data": {
      "image/png": "[encoded data removed]",
      "text/plain": [
       "<Figure size 800x800 with 4 Axes>"
      ]
     },
     "metadata": {},
     "output_type": "display_data"
    }
   ],
   "source": [
    "# plot the posterior with simulated data\n",
    "fig, axs = plt.subplots(2, 2, figsize=(8, 8))\n",
    "\n",
    "\n",
    "sns.scatterplot(x = mean_u_list, y= posterior_mean_u, ax=axs[0,0])\n",
    "sns.scatterplot(x = var_u_list, y= posterior_var_u, ax=axs[0,1])\n",
    "sns.scatterplot(x = var_es_list, y= posterior_var_es, ax=axs[1,0])\n",
    "\n",
    "\n",
    "# add x labels\n",
    "axs[0, 0].set_xlabel('real_mean_u')\n",
    "axs[0, 1].set_xlabel('real_var_u')\n",
    "axs[1, 0].set_xlabel('real_var_es')\n",
    "axs[0, 0].set_ylabel('infered_mean_u')\n",
    "axs[0, 1].set_ylabel('infered_var_u')\n",
    "axs[1, 0].set_ylabel('infered_var_es')\n",
    "\n",
    "axs[0,0].set_xlim(-2,12)\n",
    "axs[0,0].set_ylim(-2,12)\n",
    "axs[0,1].set_xlim(0,12)\n",
    "axs[0,1].set_ylim(0,12)\n",
    "axs[1,0].set_xlim(0,12)\n",
    "axs[1,0].set_ylim(0,12)\n",
    "\n",
    "plt.show()"
   ]
  }
 ],
 "metadata": {
  "kernelspec": {
   "display_name": "Python 3 (ipykernel)",
   "language": "python",
   "name": "python3"
  },
  "language_info": {
   "codemirror_mode": {
    "name": "ipython",
    "version": 3
   },
   "file_extension": ".py",
   "mimetype": "text/x-python",
   "name": "python",
   "nbconvert_exporter": "python",
   "pygments_lexer": "ipython3",
   "version": "3.11.6"
  }
 },
 "nbformat": 4,
 "nbformat_minor": 4
}
