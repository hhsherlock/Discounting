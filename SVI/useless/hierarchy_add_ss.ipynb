{
 "cells": [
  {
   "cell_type": "code",
   "execution_count": 1,
   "metadata": {},
   "outputs": [
    {
     "name": "stdout",
     "output_type": "stream",
     "text": [
      "['', 'trial', 'val_basic', 'delay', 'val_prc', 'response', 'RT', 'respSide', 'sideNOW', 'Version', 'loopID', 'Context']\n"
     ]
    },
    {
     "name": "stderr",
     "output_type": "stream",
     "text": [
      "/tmp/ipykernel_1409881/2404266456.py:24: DeprecationWarning: \n",
      "Pyarrow will become a required dependency of pandas in the next major release of pandas (pandas 3.0),\n",
      "(to allow more performant data types, such as the Arrow string type, and better interoperability with other libraries)\n",
      "but was not found to be installed on your system.\n",
      "If this would cause problems for you,\n",
      "please provide us feedback at https://github.com/pandas-dev/pandas/issues/54466\n",
      "        \n",
      "  import pandas as pd\n"
     ]
    }
   ],
   "source": [
    "#!/usr/bin/env python3\n",
    "# -*- coding: utf-8 -*-\n",
    "\"\"\"\n",
    "    Created on Tue Apr 30 2024\n",
    "    \n",
    "    @author: Yaning\n",
    "\"\"\"\n",
    "\n",
    "import math\n",
    "import os\n",
    "# from turtle import position\n",
    "import torch\n",
    "import torch.distributions.constraints as constraints\n",
    "import pyro\n",
    "from pyro.optim import Adam\n",
    "from pyro.infer import SVI, Trace_ELBO, Predictive\n",
    "import pyro.distributions as dist\n",
    "from tqdm import tqdm\n",
    "import matplotlib.pyplot as plt\n",
    "from statistics import mean \n",
    "# import pandas as pd\n",
    "import numpy as np\n",
    "import scipy.stats as stats\n",
    "import pandas as pd\n",
    "import pickle\n",
    "\n",
    "# np.random.seed(123)\n",
    "# torch.manual_seed(123)\n",
    "\n",
    "%run Documents/pyro_models/files_to_run/data_analysis_without_version.ipynb\n",
    "# %run Documents/pyro_models/files_to_run/data_analysis(matlab_dataset).ipynb\n"
   ]
  },
  {
   "cell_type": "code",
   "execution_count": 2,
   "metadata": {},
   "outputs": [
    {
     "data": {
      "text/plain": [
       "(2, 30, 170, 8)"
      ]
     },
     "execution_count": 2,
     "metadata": {},
     "output_type": "execute_result"
    }
   ],
   "source": [
    "data.shape"
   ]
  },
  {
   "cell_type": "code",
   "execution_count": 6,
   "metadata": {},
   "outputs": [],
   "source": [
    "trial_num = data.shape[-2]\n",
    "info_num = data.shape[-1]"
   ]
  },
  {
   "cell_type": "code",
   "execution_count": 7,
   "metadata": {},
   "outputs": [],
   "source": [
    "real_data = data.reshape(60,trial_num,info_num)"
   ]
  },
  {
   "cell_type": "code",
   "execution_count": 8,
   "metadata": {},
   "outputs": [
    {
     "data": {
      "text/plain": [
       "(60, 170, 8)"
      ]
     },
     "execution_count": 8,
     "metadata": {},
     "output_type": "execute_result"
    }
   ],
   "source": [
    "real_data.shape"
   ]
  },
  {
   "cell_type": "code",
   "execution_count": 4,
   "metadata": {},
   "outputs": [],
   "source": [
    "test_data = real_data[:2]"
   ]
  },
  {
   "cell_type": "code",
   "execution_count": 62,
   "metadata": {},
   "outputs": [],
   "source": [
    "test_data = torch.tensor(test_data)"
   ]
  },
  {
   "cell_type": "code",
   "execution_count": 9,
   "metadata": {},
   "outputs": [],
   "source": [
    "real_data = torch.tensor(real_data)"
   ]
  },
  {
   "cell_type": "code",
   "execution_count": 16,
   "metadata": {},
   "outputs": [],
   "source": [
    "# np.random.seed(123)\n",
    "# torch.manual_seed(123)\n",
    "\n",
    "# beta_variance = lambda alpha, beta: alpha*beta / ((alpha+beta)**2 * (alpha + beta + 1))\n",
    "# gamma_variance = lambda conc, rate: conc/(rate**2)\n",
    "\n",
    "# device = torch.device(\"cpu\")\n",
    "\n",
    "# torch.set_default_tensor_type(torch.DoubleTensor)\n",
    "\n",
    "\n",
    "def model(data):\n",
    "    # in the order of mean_u, sigma_u, sigma_es, sigma_ss and beta\n",
    "    num_params = 5\n",
    "    num_agents = data.shape[0]\n",
    "    num_trials = data.shape[1]\n",
    "    # define hyper priors over model parameters\n",
    "    # prior over sigma of a Gaussian is a Gamma distribution\n",
    "    a = pyro.param('a', torch.ones(num_params), constraint=dist.constraints.positive)\n",
    "    lam = pyro.param('lam', torch.ones(num_params), constraint=dist.constraints.positive)\n",
    "    tau = pyro.sample('tau', dist.Gamma(a, a/lam).to_event(1)) # mean = a / (a/lam) = lam\n",
    "\n",
    "    sig = pyro.deterministic('sig', 1/torch.sqrt(tau)) # Gauss sigma\n",
    "\n",
    "    # each model parameter has a hyperprior defining group level mean\n",
    "    # in the form of a Normal distribution\n",
    "    m = pyro.param('m', torch.zeros(num_params))\n",
    "    s = pyro.param('s', torch.ones(num_params), constraint=dist.constraints.positive)\n",
    "    mu = pyro.sample('mu', dist.Normal(m, s*sig).to_event(1)) # Gauss mu, wieso s*sig?\n",
    "\n",
    "    # in order to implement groups, where each subject is independent of the others, pyro uses so-called plates.\n",
    "    # you embed what should be done for each subject into the \"with pyro.plate\" context\n",
    "    # the plate vectorizes subjects and adds an additional dimension onto all arrays/tensors\n",
    "    # i.e. p1 below will have the length num_agents\n",
    "    with pyro.plate('ag_idx', num_agents):\n",
    "        # draw parameters from Normal and transform (for numeric trick reasons)\n",
    "        base_dist = dist.Normal(0., 1.).expand_by([num_params]).to_event(1)\n",
    "        # Transform via the pointwise affine mapping y = loc + scale*x (-> Neal's funnel)\n",
    "        transform = dist.transforms.AffineTransform(mu, sig) \n",
    "        locs = pyro.sample('locs', dist.TransformedDistribution(base_dist, [transform]))\n",
    "\n",
    "    group_indices = torch.arange(num_agents).unsqueeze(1).repeat(1, num_trials).reshape(-1)\n",
    "    with pyro.plate('data', num_agents*num_trials):\n",
    "        sigma_u = torch.exp(locs[:,1])[group_indices]\n",
    "        sigma_es = torch.exp(locs[:,2])[group_indices]\n",
    "        mean_u = locs[:,0][group_indices]\n",
    "        sigma_ss = torch.exp(locs[:,3])[group_indices]\n",
    "\n",
    "        e_ll_mean = (mean_u*data[:,:,2].view(-1)*sigma_es**2 + \n",
    "                 data[:,:,3].view(-1)*sigma_u**2)/(data[:,:,2].view(-1)*sigma_es**2 + sigma_u**2)\n",
    "        e_ll_sigma = ((sigma_u**2*sigma_es**2)/(sigma_u**2 + sigma_es**2))**0.5\n",
    "        temp = []\n",
    "        for i in range(100):\n",
    "            ll_dist = dist.Normal(e_ll_mean, e_ll_sigma)\n",
    "            ss_dist = dist.Normal(data[:,:,1].view(-1), sigma_ss)\n",
    "\n",
    "            ll_sample = ll_dist.sample()\n",
    "            ss_sample = ss_dist.sample()\n",
    "\n",
    "            beta = torch.exp(locs[:,4])[group_indices]\n",
    "            softmax_args = torch.stack([beta*ll_sample, beta*ss_sample])\n",
    "            p = torch.softmax(softmax_args, dim = 0)[0]\n",
    "            temp.append(p)\n",
    "        p = sum(temp)/len(temp)\n",
    "        pyro.sample(\"obs\", dist.Bernoulli(probs = p), obs=data[:,:,4].view(-1))\n",
    "    # return locs\n",
    "            "
   ]
  },
  {
   "cell_type": "code",
   "execution_count": 17,
   "metadata": {},
   "outputs": [],
   "source": [
    "def guide(data):\n",
    "    num_params = 5\n",
    "    num_agents = data.shape[0]\n",
    "    # biject_to(constraint) looks up a bijective Transform from constraints.real \n",
    "    # to the given constraint. The returned transform is guaranteed to have \n",
    "    # .bijective = True and should implement .log_abs_det_jacobian().\n",
    "    trns = torch.distributions.biject_to(dist.constraints.positive)\n",
    "\n",
    "    # define mean vector and covariance matrix of multivariate normal\n",
    "    m_hyp = pyro.param('m_hyp', torch.zeros(2*num_params))\n",
    "    st_hyp = pyro.param('scale_tril_hyp',\n",
    "                    torch.eye(2*num_params),\n",
    "                    constraint=dist.constraints.lower_cholesky)\n",
    "\n",
    "    # set hyperprior to be multivariate normal\n",
    "    # scale_tril (Tensor) – lower-triangular factor of covariance, with positive-valued diagonal\n",
    "    hyp = pyro.sample('hyp',\n",
    "                    dist.MultivariateNormal(m_hyp, scale_tril=st_hyp),\n",
    "                    infer={'is_auxiliary': True})\n",
    "\n",
    "    # mu & tau unconstrained\n",
    "    unc_mu = hyp[..., :num_params]\n",
    "    unc_tau = hyp[..., num_params:]\n",
    "\n",
    "    # constrained tau, shape num_params, or num_particles, 1, num_params\n",
    "    c_tau = trns(unc_tau)\n",
    "\n",
    "    # ld = log_density\n",
    "    # log_abs_det_jacobian(x, y) computes derivative |dy/dx|\n",
    "    ld_tau = -trns.inv.log_abs_det_jacobian(c_tau, unc_tau)\n",
    "    \n",
    "    # sum_rightmost(x, dim)\n",
    "    # sum out ``dim`` many rightmost dimensions of a given tensor.\n",
    "    # ld_tau.shape is num_params, or num_particles, 1, num_params before sum_rightmost\n",
    "    ld_tau = dist.util.sum_rightmost(ld_tau, ld_tau.dim() - c_tau.dim() + 1)\n",
    "\n",
    "    # some numerics tricks\n",
    "    mu = pyro.sample(\"mu\", dist.Delta(unc_mu, event_dim=1))\n",
    "    # c_tau shape: num_params, or num_particles, 1, num_params\n",
    "    # ld_tau shape: [] or num_particles, 1,\n",
    "    tau = pyro.sample(\"tau\", dist.Delta(c_tau, log_density=ld_tau, event_dim=1))\n",
    "\n",
    "    m_locs = pyro.param('m_locs', torch.zeros(num_agents, num_params))\n",
    "    st_locs = pyro.param('scale_tril_locs',\n",
    "                    torch.eye(num_params).repeat(num_agents, 1, 1),\n",
    "                    constraint=dist.constraints.lower_cholesky)\n",
    "    \n",
    "    with pyro.plate('ag_idx', num_agents):\n",
    "        locs = pyro.sample(\"locs\", dist.MultivariateNormal(m_locs, scale_tril=st_locs))\n",
    "\n",
    "    return {'tau': tau, 'mu': mu, 'locs': locs, 'm_locs': m_locs, 'st_locs': st_locs}"
   ]
  },
  {
   "cell_type": "code",
   "execution_count": 18,
   "metadata": {},
   "outputs": [
    {
     "data": {
      "image/svg+xml": [
       "<?xml version=\"1.0\" encoding=\"UTF-8\" standalone=\"no\"?>\n",
       "<!DOCTYPE svg PUBLIC \"-//W3C//DTD SVG 1.1//EN\"\n",
       " \"http://www.w3.org/Graphics/SVG/1.1/DTD/svg11.dtd\">\n",
       "<!-- Generated by graphviz version 9.0.0 (0)\n",
       " -->\n",
       "<!-- Pages: 1 -->\n",
       "<svg width=\"421pt\" height=\"506pt\"\n",
       " viewBox=\"0.00 0.00 420.75 505.50\" xmlns=\"http://www.w3.org/2000/svg\" xmlns:xlink=\"http://www.w3.org/1999/xlink\">\n",
       "<g id=\"graph0\" class=\"graph\" transform=\"scale(1 1) rotate(0) translate(4 501.5)\">\n",
       "<polygon fill=\"white\" stroke=\"none\" points=\"-4,4 -4,-501.5 416.75,-501.5 416.75,4 -4,4\"/>\n",
       "<g id=\"clust1\" class=\"cluster\">\n",
       "<title>cluster_ag_idx</title>\n",
       "<polygon fill=\"none\" stroke=\"black\" points=\"19.62,-92.5 19.62,-169 89.62,-169 89.62,-92.5 19.62,-92.5\"/>\n",
       "<text text-anchor=\"middle\" x=\"63.25\" y=\"-99.7\" font-family=\"Times,serif\" font-size=\"14.00\">ag_idx</text>\n",
       "</g>\n",
       "<g id=\"clust2\" class=\"cluster\">\n",
       "<title>cluster_data</title>\n",
       "<polygon fill=\"none\" stroke=\"black\" points=\"19.62,-8 19.62,-84.5 89.62,-84.5 89.62,-8 19.62,-8\"/>\n",
       "<text text-anchor=\"middle\" x=\"70.38\" y=\"-15.2\" font-family=\"Times,serif\" font-size=\"14.00\">data</text>\n",
       "</g>\n",
       "<!-- tau -->\n",
       "<g id=\"node1\" class=\"node\">\n",
       "<title>tau</title>\n",
       "<ellipse fill=\"white\" stroke=\"black\" cx=\"81.62\" cy=\"-287\" rx=\"27\" ry=\"18\"/>\n",
       "<text text-anchor=\"middle\" x=\"81.62\" y=\"-281.95\" font-family=\"Times,serif\" font-size=\"14.00\">tau</text>\n",
       "</g>\n",
       "<!-- mu -->\n",
       "<g id=\"node3\" class=\"node\">\n",
       "<title>mu</title>\n",
       "<ellipse fill=\"white\" stroke=\"black\" cx=\"27.62\" cy=\"-215\" rx=\"27\" ry=\"18\"/>\n",
       "<text text-anchor=\"middle\" x=\"27.62\" y=\"-209.95\" font-family=\"Times,serif\" font-size=\"14.00\">mu</text>\n",
       "</g>\n",
       "<!-- tau&#45;&gt;mu -->\n",
       "<g id=\"edge1\" class=\"edge\">\n",
       "<title>tau&#45;&gt;mu</title>\n",
       "<path fill=\"none\" stroke=\"black\" d=\"M69.64,-270.46C62.86,-261.67 54.22,-250.48 46.55,-240.53\"/>\n",
       "<polygon fill=\"black\" stroke=\"black\" points=\"49.38,-238.47 40.5,-232.69 43.84,-242.75 49.38,-238.47\"/>\n",
       "</g>\n",
       "<!-- locs -->\n",
       "<g id=\"node8\" class=\"node\">\n",
       "<title>locs</title>\n",
       "<ellipse fill=\"white\" stroke=\"black\" cx=\"54.62\" cy=\"-143\" rx=\"27\" ry=\"18\"/>\n",
       "<text text-anchor=\"middle\" x=\"54.62\" y=\"-137.95\" font-family=\"Times,serif\" font-size=\"14.00\">locs</text>\n",
       "</g>\n",
       "<!-- tau&#45;&gt;locs -->\n",
       "<g id=\"edge2\" class=\"edge\">\n",
       "<title>tau&#45;&gt;locs</title>\n",
       "<path fill=\"none\" stroke=\"black\" d=\"M78.37,-268.87C73.81,-244.88 65.46,-200.99 59.98,-172.16\"/>\n",
       "<polygon fill=\"black\" stroke=\"black\" points=\"63.48,-171.85 58.18,-162.68 56.61,-173.15 63.48,-171.85\"/>\n",
       "</g>\n",
       "<!-- sig -->\n",
       "<g id=\"node2\" class=\"node\">\n",
       "<title>sig</title>\n",
       "<ellipse fill=\"gray\" stroke=\"black\" cx=\"145.62\" cy=\"-419.25\" rx=\"27\" ry=\"18\"/>\n",
       "<text text-anchor=\"middle\" x=\"145.62\" y=\"-414.2\" font-family=\"Times,serif\" font-size=\"14.00\">sig</text>\n",
       "</g>\n",
       "<!-- mu&#45;&gt;locs -->\n",
       "<g id=\"edge3\" class=\"edge\">\n",
       "<title>mu&#45;&gt;locs</title>\n",
       "<path fill=\"none\" stroke=\"black\" d=\"M34.16,-197.05C37.15,-189.32 40.76,-179.96 44.11,-171.27\"/>\n",
       "<polygon fill=\"black\" stroke=\"black\" points=\"47.27,-172.79 47.6,-162.2 40.74,-170.27 47.27,-172.79\"/>\n",
       "</g>\n",
       "<!-- lam -->\n",
       "<g id=\"node4\" class=\"node\">\n",
       "<title>lam</title>\n",
       "<polygon fill=\"white\" stroke=\"none\" points=\"76.12,-427.5 55.12,-427.5 55.12,-411 76.12,-411 76.12,-427.5\"/>\n",
       "<text text-anchor=\"middle\" x=\"65.62\" y=\"-414.2\" font-family=\"Times,serif\" font-size=\"14.00\">lam</text>\n",
       "</g>\n",
       "<!-- lam&#45;&gt;tau -->\n",
       "<g id=\"edge5\" class=\"edge\">\n",
       "<title>lam&#45;&gt;tau</title>\n",
       "<path fill=\"none\" stroke=\"black\" d=\"M66.49,-411.25C68.64,-393.71 74.36,-347.11 78.12,-316.5\"/>\n",
       "<polygon fill=\"black\" stroke=\"black\" points=\"81.57,-317.12 79.32,-306.76 74.63,-316.26 81.57,-317.12\"/>\n",
       "</g>\n",
       "<!-- a -->\n",
       "<g id=\"node5\" class=\"node\">\n",
       "<title>a</title>\n",
       "<polygon fill=\"white\" stroke=\"none\" points=\"100.62,-427.5 94.62,-427.5 94.62,-411 100.62,-411 100.62,-427.5\"/>\n",
       "<text text-anchor=\"middle\" x=\"97.62\" y=\"-414.2\" font-family=\"Times,serif\" font-size=\"14.00\">a</text>\n",
       "</g>\n",
       "<!-- a&#45;&gt;tau -->\n",
       "<g id=\"edge6\" class=\"edge\">\n",
       "<title>a&#45;&gt;tau</title>\n",
       "<path fill=\"none\" stroke=\"black\" d=\"M96.76,-411.25C94.61,-393.71 88.89,-347.11 85.13,-316.5\"/>\n",
       "<polygon fill=\"black\" stroke=\"black\" points=\"88.62,-316.26 83.93,-306.76 81.68,-317.12 88.62,-316.26\"/>\n",
       "</g>\n",
       "<!-- s -->\n",
       "<g id=\"node6\" class=\"node\">\n",
       "<title>s</title>\n",
       "<polygon fill=\"white\" stroke=\"none\" points=\"5.25,-295.25 0,-295.25 0,-278.75 5.25,-278.75 5.25,-295.25\"/>\n",
       "<text text-anchor=\"middle\" x=\"2.62\" y=\"-281.95\" font-family=\"Times,serif\" font-size=\"14.00\">s</text>\n",
       "</g>\n",
       "<!-- s&#45;&gt;mu -->\n",
       "<g id=\"edge7\" class=\"edge\">\n",
       "<title>s&#45;&gt;mu</title>\n",
       "<path fill=\"none\" stroke=\"black\" d=\"M5.21,-278.77C8.18,-270.45 13.24,-256.28 17.8,-243.51\"/>\n",
       "<polygon fill=\"black\" stroke=\"black\" points=\"21.04,-244.85 21.1,-234.26 14.45,-242.5 21.04,-244.85\"/>\n",
       "</g>\n",
       "<!-- m -->\n",
       "<g id=\"node7\" class=\"node\">\n",
       "<title>m</title>\n",
       "<polygon fill=\"white\" stroke=\"none\" points=\"34.25,-295.25 23,-295.25 23,-278.75 34.25,-278.75 34.25,-295.25\"/>\n",
       "<text text-anchor=\"middle\" x=\"28.62\" y=\"-281.95\" font-family=\"Times,serif\" font-size=\"14.00\">m</text>\n",
       "</g>\n",
       "<!-- m&#45;&gt;mu -->\n",
       "<g id=\"edge8\" class=\"edge\">\n",
       "<title>m&#45;&gt;mu</title>\n",
       "<path fill=\"none\" stroke=\"black\" d=\"M28.52,-278.77C28.41,-270.73 28.21,-257.21 28.04,-244.78\"/>\n",
       "<polygon fill=\"black\" stroke=\"black\" points=\"31.54,-244.87 27.9,-234.92 24.54,-244.97 31.54,-244.87\"/>\n",
       "</g>\n",
       "<!-- obs -->\n",
       "<g id=\"node9\" class=\"node\">\n",
       "<title>obs</title>\n",
       "<ellipse fill=\"gray\" stroke=\"black\" cx=\"54.62\" cy=\"-58.5\" rx=\"27\" ry=\"18\"/>\n",
       "<text text-anchor=\"middle\" x=\"54.62\" y=\"-53.45\" font-family=\"Times,serif\" font-size=\"14.00\">obs</text>\n",
       "</g>\n",
       "<!-- locs&#45;&gt;obs -->\n",
       "<g id=\"edge4\" class=\"edge\">\n",
       "<title>locs&#45;&gt;obs</title>\n",
       "<path fill=\"none\" stroke=\"black\" d=\"M54.62,-124.5C54.62,-114 54.62,-100.39 54.62,-88.33\"/>\n",
       "<polygon fill=\"black\" stroke=\"black\" points=\"58.13,-88.48 54.63,-78.48 51.13,-88.48 58.13,-88.48\"/>\n",
       "</g>\n",
       "<!-- distribution_description_node -->\n",
       "<g id=\"node10\" class=\"node\">\n",
       "<title>distribution_description_node</title>\n",
       "<text text-anchor=\"start\" x=\"198.5\" y=\"-480.2\" font-family=\"Times,serif\" font-size=\"14.00\">tau ~ Gamma</text>\n",
       "<text text-anchor=\"start\" x=\"198.5\" y=\"-463.7\" font-family=\"Times,serif\" font-size=\"14.00\">sig ~ Delta</text>\n",
       "<text text-anchor=\"start\" x=\"198.5\" y=\"-447.2\" font-family=\"Times,serif\" font-size=\"14.00\">mu ~ Normal</text>\n",
       "<text text-anchor=\"start\" x=\"198.5\" y=\"-430.7\" font-family=\"Times,serif\" font-size=\"14.00\">locs ~ TransformedDistribution</text>\n",
       "<text text-anchor=\"start\" x=\"198.5\" y=\"-414.2\" font-family=\"Times,serif\" font-size=\"14.00\">obs ~ Bernoulli</text>\n",
       "<text text-anchor=\"start\" x=\"198.5\" y=\"-397.7\" font-family=\"Times,serif\" font-size=\"14.00\">a : GreaterThan(lower_bound=0.0)</text>\n",
       "<text text-anchor=\"start\" x=\"198.5\" y=\"-381.2\" font-family=\"Times,serif\" font-size=\"14.00\">lam : GreaterThan(lower_bound=0.0)</text>\n",
       "<text text-anchor=\"start\" x=\"198.5\" y=\"-364.7\" font-family=\"Times,serif\" font-size=\"14.00\">m : Real()</text>\n",
       "<text text-anchor=\"start\" x=\"198.5\" y=\"-348.2\" font-family=\"Times,serif\" font-size=\"14.00\">s : GreaterThan(lower_bound=0.0)</text>\n",
       "</g>\n",
       "</g>\n",
       "</svg>\n"
      ],
      "text/plain": [
       "<graphviz.graphs.Digraph at 0x7f2e951a0090>"
      ]
     },
     "execution_count": 18,
     "metadata": {},
     "output_type": "execute_result"
    }
   ],
   "source": [
    "pyro.render_model(model, model_args=(real_data,), render_params=True, render_distributions=True)"
   ]
  },
  {
   "cell_type": "code",
   "execution_count": 19,
   "metadata": {},
   "outputs": [
    {
     "name": "stderr",
     "output_type": "stream",
     "text": [
      "Mean ELBO 6455.84: 100%|████████████████████████████████████████| 2000/2000 [03:56<00:00,  8.45it/s]\n"
     ]
    },
    {
     "data": {
      "image/png": "[encoded data removed]",
      "text/plain": [
       "<Figure size 640x480 with 1 Axes>"
      ]
     },
     "metadata": {},
     "output_type": "display_data"
    }
   ],
   "source": [
    "# this is for running the notebook in our testing framework\n",
    "smoke_test = ('CI' in os.environ)\n",
    "# the step was 2000\n",
    "n_steps = 2 if smoke_test else 2000\n",
    "\n",
    "# assert pyro.__version__.startswith('1.8.6')\n",
    "\n",
    "# clear the param store in case we're in a REPL\n",
    "pyro.clear_param_store()# setup the optimizer\n",
    "# the learning rate was 0.0005 , \"betas\": (0.90, 0.999)\n",
    "# tried \"n_par\":15 in adam params but it does not have this argument\n",
    "adam_params = {\"lr\": 0.01}\n",
    "optimizer = Adam(adam_params)\n",
    "# setup the inference algorithm\n",
    "svi = SVI(model, guide, optimizer, loss=Trace_ELBO())\n",
    "# svi = SVI(model_gamma, guide_gamma, optimizer, loss=Trace_ELBO())\n",
    "\n",
    "loss = []\n",
    "pbar = tqdm(range(n_steps), position = 0)\n",
    "# do gradient steps\n",
    "for step in pbar:\n",
    "    loss.append(torch.tensor(svi.step(real_data)))\n",
    "    pbar.set_description(\"Mean ELBO %6.2f\" % torch.tensor(loss[-20:]).mean())\n",
    "    # for name, value in pyro.get_param_store().items():\n",
    "    #     print(name, pyro.param(name))\n",
    "    if torch.isnan(loss[-1]):\n",
    "\t    break\n",
    "\n",
    "plt.figure()\n",
    "plt.plot(loss)\n",
    "plt.xlabel(\"iter step\")\n",
    "plt.ylabel(\"ELBO loss\")\n",
    "plt.title(\"ELBO minimization during inference\")\n",
    "plt.show()"
   ]
  },
  {
   "cell_type": "code",
   "execution_count": 20,
   "metadata": {},
   "outputs": [],
   "source": [
    "pos_dict = {}\n",
    "for name, value in pyro.get_param_store().items():\n",
    "    pos_dict[name] = value\n",
    "\n",
    "# change the dictionary to numpy instead of tensor\n",
    "# because somehow the tensor cannot be save with pickle\n",
    "numpy_dict = {key: value.detach().numpy() for key, value in pos_dict.items()}"
   ]
  },
  {
   "cell_type": "code",
   "execution_count": 12,
   "metadata": {},
   "outputs": [],
   "source": [
    "results = pyro.get_param_store()['m_locs']"
   ]
  },
  {
   "cell_type": "code",
   "execution_count": 21,
   "metadata": {},
   "outputs": [],
   "source": [
    "# save the dictionary\n",
    "with open('Documents/pyro_models/files_to_run/results/add_ss_average_p.pkl', 'wb') as f:\n",
    "    pickle.dump(numpy_dict, f)"
   ]
  },
  {
   "cell_type": "code",
   "execution_count": 20,
   "metadata": {},
   "outputs": [],
   "source": [
    "results = results.detach().numpy()"
   ]
  },
  {
   "cell_type": "code",
   "execution_count": null,
   "metadata": {},
   "outputs": [],
   "source": [
    "results = results.reshape([2,30,4])"
   ]
  },
  {
   "cell_type": "code",
   "execution_count": 29,
   "metadata": {},
   "outputs": [
    {
     "data": {
      "text/plain": [
       "-1.1318202"
      ]
     },
     "execution_count": 29,
     "metadata": {},
     "output_type": "execute_result"
    }
   ],
   "source": [
    "mean(results[1,:,3])"
   ]
  }
 ],
 "metadata": {
  "kernelspec": {
   "display_name": "Python 3 (ipykernel)",
   "language": "python",
   "name": "python3"
  },
  "language_info": {
   "codemirror_mode": {
    "name": "ipython",
    "version": 3
   },
   "file_extension": ".py",
   "mimetype": "text/x-python",
   "name": "python",
   "nbconvert_exporter": "python",
   "pygments_lexer": "ipython3",
   "version": "3.11.6"
  }
 },
 "nbformat": 4,
 "nbformat_minor": 2
}
