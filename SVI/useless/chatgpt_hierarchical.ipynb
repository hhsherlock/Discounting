{
 "cells": [
  {
   "cell_type": "code",
   "execution_count": 1,
   "metadata": {},
   "outputs": [],
   "source": [
    "#!/usr/bin/env python3\n",
    "# -*- coding: utf-8 -*-\n",
    "\"\"\"\n",
    "Created on Tue Mar 12 2024\n",
    "\n",
    "@author: ChatGPT\n",
    "Editted by Yaning \n",
    "\"\"\"\n",
    "\n",
    "import torch\n",
    "import pyro\n",
    "import pyro.distributions as dist\n",
    "from pyro.infer import SVI, Trace_ELBO\n",
    "from pyro.optim import Adam"
   ]
  },
  {
   "cell_type": "code",
   "execution_count": 2,
   "metadata": {},
   "outputs": [],
   "source": [
    "# Generate synthetic data\n",
    "torch.manual_seed(42)\n",
    "num_groups = 3\n",
    "num_samples_per_group = 100\n",
    "true_slope = torch.tensor([2.0, 3.0, 4.0])\n",
    "true_intercept = torch.tensor([-1.0, 0.0, 1.0])\n",
    "x = torch.randn(num_groups, num_samples_per_group)\n",
    "y = true_slope.unsqueeze(1) * x + true_intercept.unsqueeze(1) + torch.randn(num_groups, num_samples_per_group)"
   ]
  },
  {
   "cell_type": "code",
   "execution_count": 26,
   "metadata": {},
   "outputs": [
    {
     "data": {
      "text/plain": [
       "tensor([[ 1.9269e+00,  1.4873e+00,  9.0072e-01, -2.1055e+00,  6.7842e-01,\n",
       "         -1.2345e+00, -4.3067e-02, -1.6047e+00, -7.5214e-01,  1.6487e+00,\n",
       "         -3.9248e-01, -1.4036e+00, -7.2788e-01, -5.5943e-01, -7.6884e-01,\n",
       "          7.6245e-01,  1.6423e+00, -1.5960e-01, -4.9740e-01,  4.3959e-01,\n",
       "         -7.5813e-01,  1.0783e+00,  8.0080e-01,  1.6806e+00,  1.2791e+00,\n",
       "          1.2964e+00,  6.1047e-01,  1.3347e+00, -2.3162e-01,  4.1759e-02,\n",
       "         -2.5158e-01,  8.5986e-01, -1.3847e+00, -8.7124e-01, -2.2337e-01,\n",
       "          1.7174e+00,  3.1888e-01, -4.2452e-01,  3.0572e-01, -7.7459e-01,\n",
       "         -1.5576e+00,  9.9564e-01, -8.7979e-01, -6.0114e-01, -1.2742e+00,\n",
       "          2.1228e+00, -1.2347e+00, -4.8791e-01, -9.1382e-01, -6.5814e-01,\n",
       "          7.8024e-02,  5.2581e-01, -4.8799e-01,  1.1914e+00, -8.1401e-01,\n",
       "         -7.3599e-01, -1.4032e+00,  3.6004e-02, -6.3477e-02,  6.7561e-01,\n",
       "         -9.7807e-02,  1.8446e+00, -1.1845e+00,  1.3835e+00,  1.4451e+00,\n",
       "          8.5641e-01,  2.2181e+00,  5.2317e-01,  3.4665e-01, -1.9733e-01,\n",
       "         -1.0546e+00,  1.2780e+00, -1.7219e-01,  5.2379e-01,  5.6622e-02,\n",
       "          4.2630e-01,  5.7501e-01, -6.4172e-01, -2.2064e+00, -7.5080e-01,\n",
       "          1.0868e-02, -3.3874e-01, -1.3407e+00, -5.8537e-01,  5.3619e-01,\n",
       "          5.2462e-01,  1.1412e+00,  5.1644e-02,  7.4395e-01, -4.8158e-01,\n",
       "         -1.0495e+00,  6.0390e-01, -1.7223e+00, -8.2777e-01,  1.3347e+00,\n",
       "          4.8354e-01, -2.5095e+00,  4.8800e-01,  7.8459e-01,  2.8647e-02],\n",
       "        [ 6.4076e-01,  5.8325e-01,  1.0669e+00, -4.5015e-01, -1.8527e-01,\n",
       "          7.5276e-01,  4.0476e-01,  1.7847e-01,  2.6491e-01,  1.2732e+00,\n",
       "         -1.3109e-03, -3.0360e-01, -1.4570e+00, -1.0234e-01, -5.9915e-01,\n",
       "          4.7706e-01,  7.2618e-01,  9.1152e-02, -3.8907e-01,  5.2792e-01,\n",
       "         -1.2685e-02,  2.4084e-01,  1.3254e-01,  7.6424e-01,  1.0950e+00,\n",
       "          3.3989e-01,  7.1997e-01,  4.1141e-01,  1.9312e+00,  1.0119e+00,\n",
       "         -1.4364e+00, -1.1299e+00, -1.3603e-01,  1.6354e+00,  6.5474e-01,\n",
       "          5.7600e-01,  1.1415e+00,  1.8565e-02, -1.8058e+00,  9.2543e-01,\n",
       "         -3.7534e-01,  1.0331e+00, -6.8665e-01,  6.3681e-01, -9.7267e-01,\n",
       "          9.5846e-01,  1.6192e+00,  1.4506e+00,  2.6948e-01, -2.1038e-01,\n",
       "         -7.3280e-01,  1.0430e-01,  3.4875e-01,  9.6759e-01, -4.6569e-01,\n",
       "          1.6048e+00, -2.4801e+00, -4.1754e-01, -1.1955e+00,  8.1234e-01,\n",
       "         -1.9006e+00,  2.2858e-01,  2.4859e-02, -3.4595e-01,  2.8683e-01,\n",
       "         -7.3084e-01,  1.7482e-01, -1.0939e+00, -1.6022e+00,  1.3529e+00,\n",
       "          1.2888e+00,  5.2295e-02, -1.5469e+00,  7.5671e-01,  7.7552e-01,\n",
       "          2.0265e+00,  3.5818e-02,  1.2059e-01, -8.0566e-01, -2.0758e-01,\n",
       "         -9.3195e-01, -1.5910e+00, -1.1360e+00, -5.2260e-01, -5.1877e-01,\n",
       "         -1.5013e+00, -1.9267e+00,  1.2785e-01,  1.0229e+00, -5.5580e-01,\n",
       "          7.0427e-01,  7.0988e-01,  1.7744e+00, -9.2155e-01,  9.6245e-01,\n",
       "         -3.3702e-01, -1.1753e+00,  3.5806e-01,  4.7877e-01,  1.3537e+00],\n",
       "        [ 5.2606e-01,  2.1120e+00, -5.2076e-01, -9.3201e-01,  1.8516e-01,\n",
       "          1.0687e+00,  1.3065e+00,  4.5983e-01, -8.1463e-01, -1.0212e+00,\n",
       "         -4.9492e-01, -5.9225e-01,  1.5432e-01,  4.4077e-01, -1.4829e-01,\n",
       "         -2.3184e+00, -3.9800e-01,  1.0805e+00, -1.7809e+00,  1.5080e+00,\n",
       "          3.0943e-01, -5.0031e-01,  1.0350e+00,  1.6896e+00, -4.5051e-03,\n",
       "          1.6668e+00,  1.5392e-01, -1.0603e+00, -5.7266e-01,  8.3568e-02,\n",
       "          3.9991e-01,  1.9892e+00, -7.1988e-02, -9.0609e-01, -2.0487e+00,\n",
       "         -1.0811e+00,  1.7623e-02,  7.8226e-02,  1.9316e-01,  4.0967e-01,\n",
       "         -9.2913e-01,  2.7619e-01, -5.3888e-01,  4.6258e-01, -8.7189e-01,\n",
       "         -2.7118e-02, -3.5325e-01,  1.4639e+00,  1.2554e+00, -7.1496e-01,\n",
       "          8.5392e-01,  5.1299e-01,  5.3973e-01,  5.6551e-01,  5.0579e-01,\n",
       "          2.2245e-01, -6.8548e-01,  5.6356e-01, -1.5072e+00, -1.6107e+00,\n",
       "         -1.4790e+00,  4.3227e-01, -1.2503e-01,  7.8212e-01, -1.5988e+00,\n",
       "         -1.0913e-01,  7.1520e-01,  3.9139e-02,  1.3059e+00,  2.4659e-01,\n",
       "         -1.9776e+00,  1.7896e-02, -1.3793e+00,  6.2580e-01, -2.5850e+00,\n",
       "         -2.4000e-02, -1.2219e-01, -7.4700e-01,  1.7093e+00,  5.7923e-02,\n",
       "          1.1930e+00,  1.9373e+00,  7.2871e-01,  9.8089e-01, -5.5719e-01,\n",
       "         -9.6835e-01,  8.7128e-01, -9.5641e-02,  4.0380e-01, -7.1398e-01,\n",
       "          8.3373e-01, -9.5855e-01,  1.0682e+00, -2.5272e-01, -1.8815e-01,\n",
       "         -7.7115e-01,  1.7989e-01, -2.1268e+00, -1.3408e-01, -1.0408e+00]])"
      ]
     },
     "execution_count": 26,
     "metadata": {},
     "output_type": "execute_result"
    }
   ],
   "source": [
    "x"
   ]
  },
  {
   "cell_type": "code",
   "execution_count": 20,
   "metadata": {},
   "outputs": [
    {
     "data": {
      "text/plain": [
       "torch.Size([300])"
      ]
     },
     "execution_count": 20,
     "metadata": {},
     "output_type": "execute_result"
    }
   ],
   "source": [
    "y.view(-1).shape"
   ]
  },
  {
   "cell_type": "code",
   "execution_count": 21,
   "metadata": {},
   "outputs": [],
   "source": [
    "# Define the hierarchical Bayesian model\n",
    "def model(x, y):\n",
    "    # Priors for group-level parameters\n",
    "    slope_loc = pyro.param(\"slope_loc\", torch.randn(num_groups))\n",
    "    slope_scale = pyro.param(\"slope_scale\", torch.ones(num_groups), constraint=dist.constraints.positive)\n",
    "    intercept_loc = pyro.param(\"intercept_loc\", torch.randn(num_groups))\n",
    "    intercept_scale = pyro.param(\"intercept_scale\", torch.ones(num_groups), constraint=dist.constraints.positive)\n",
    "\n",
    "    slope_prior = dist.Normal(slope_loc, slope_scale)\n",
    "    intercept_prior = dist.Normal(intercept_loc, intercept_scale)\n",
    "    \n",
    "    # Priors for observation-level parameters\n",
    "    with pyro.plate(\"group\", num_groups):\n",
    "        slope = pyro.sample(\"slope\", slope_prior)\n",
    "        intercept = pyro.sample(\"intercept\", intercept_prior)\n",
    "    \n",
    "    # Likelihood\n",
    "    with pyro.plate(\"data\", num_groups*num_samples_per_group):\n",
    "        group_indices = torch.arange(num_groups).unsqueeze(1).repeat(1, num_samples_per_group).reshape(-1)\n",
    "        y_hat = slope[group_indices] * x.view(-1) + intercept[group_indices]\n",
    "        pyro.sample(\"obs\", dist.Normal(y_hat, 1.0), obs=y.view(-1))\n",
    "\n",
    "# Define the guide (variational distribution)\n",
    "def guide(x, y):\n",
    "    # Variational parameters for group-level parameters\n",
    "    slope_loc = pyro.param(\"slope_loc\", torch.randn(num_groups))\n",
    "    slope_scale = pyro.param(\"slope_scale\", torch.ones(num_groups), constraint=dist.constraints.positive)\n",
    "    intercept_loc = pyro.param(\"intercept_loc\", torch.randn(num_groups))\n",
    "    intercept_scale = pyro.param(\"intercept_scale\", torch.ones(num_groups), constraint=dist.constraints.positive)\n",
    "    \n",
    "    # Sample group-level parameters\n",
    "    with pyro.plate(\"group\", num_groups):\n",
    "        slope = pyro.sample(\"slope\", dist.Normal(slope_loc, slope_scale))\n",
    "        intercept = pyro.sample(\"intercept\", dist.Normal(intercept_loc, intercept_scale))\n"
   ]
  },
  {
   "cell_type": "code",
   "execution_count": 23,
   "metadata": {},
   "outputs": [
    {
     "name": "stdout",
     "output_type": "stream",
     "text": [
      "Iteration 0: Loss = 2936.710205078125\n",
      "Iteration 100: Loss = 1323.69091796875\n",
      "Iteration 200: Loss = 575.1324462890625\n",
      "Iteration 300: Loss = 458.24786376953125\n",
      "Iteration 400: Loss = 434.82879638671875\n",
      "Iteration 500: Loss = 456.35809326171875\n",
      "Iteration 600: Loss = 428.23858642578125\n",
      "Iteration 700: Loss = 426.2340087890625\n",
      "Iteration 800: Loss = 420.5310974121094\n",
      "Iteration 900: Loss = 422.7549743652344\n"
     ]
    }
   ],
   "source": [
    "# Perform stochastic variational inference\n",
    "pyro.clear_param_store()\n",
    "svi = SVI(model, guide, Adam({\"lr\": 0.03}), loss=Trace_ELBO())\n",
    "num_iterations = 1000\n",
    "for i in range(num_iterations):\n",
    "    loss = svi.step(x, y)\n",
    "    if i % 100 == 0:\n",
    "        print(\"Iteration {}: Loss = {}\".format(i, loss))"
   ]
  },
  {
   "cell_type": "code",
   "execution_count": null,
   "metadata": {},
   "outputs": [],
   "source": [
    "# Get posterior samples for parameters\n",
    "def get_posterior_samples(model, guide, x, y, num_samples=1000):\n",
    "    posterior_samples = []\n",
    "    for _ in range(num_samples):\n",
    "        posterior_samples.append({k: v.item() for k, v in guide(x, y).items()})\n",
    "    return posterior_samples\n",
    "\n",
    "# posterior_samples = get_posterior_samples(model, guide, x, y)"
   ]
  },
  {
   "cell_type": "code",
   "execution_count": 27,
   "metadata": {},
   "outputs": [
    {
     "name": "stdout",
     "output_type": "stream",
     "text": [
      "slope_loc tensor([2.1813, 3.1389, 4.0655], requires_grad=True)\n",
      "slope_scale tensor([0.0941, 0.1090, 0.1727], grad_fn=<AddBackward0>)\n",
      "intercept_loc tensor([-0.7800, -0.0292,  1.0803], requires_grad=True)\n",
      "intercept_scale tensor([0.0675, 0.0689, 0.0799], grad_fn=<AddBackward0>)\n"
     ]
    }
   ],
   "source": [
    "for name, value in pyro.get_param_store().items():\n",
    "    print(name, pyro.param(name))"
   ]
  },
  {
   "cell_type": "code",
   "execution_count": 25,
   "metadata": {},
   "outputs": [
    {
     "name": "stdout",
     "output_type": "stream",
     "text": [
      "tensor([2., 3., 4.])\n",
      "tensor([-1.,  0.,  1.])\n"
     ]
    }
   ],
   "source": [
    "print(true_slope)\n",
    "print(true_intercept)"
   ]
  }
 ],
 "metadata": {
  "kernelspec": {
   "display_name": "Python 3 (ipykernel)",
   "language": "python",
   "name": "python3"
  },
  "language_info": {
   "codemirror_mode": {
    "name": "ipython",
    "version": 3
   },
   "file_extension": ".py",
   "mimetype": "text/x-python",
   "name": "python",
   "nbconvert_exporter": "python",
   "pygments_lexer": "ipython3",
   "version": "3.11.6"
  }
 },
 "nbformat": 4,
 "nbformat_minor": 2
}
